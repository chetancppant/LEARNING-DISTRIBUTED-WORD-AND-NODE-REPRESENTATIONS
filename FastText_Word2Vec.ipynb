{
  "nbformat": 4,
  "nbformat_minor": 0,
  "metadata": {
    "colab": {
      "name": "FastText.ipynb",
      "provenance": []
    },
    "kernelspec": {
      "name": "python3",
      "display_name": "Python 3"
    },
    "language_info": {
      "name": "python"
    }
  },
  "cells": [
    {
      "cell_type": "code",
      "metadata": {
        "colab": {
          "base_uri": "https://localhost:8080/"
        },
        "id": "j0YpvXHjyGoQ",
        "outputId": "0ae30368-2ad3-43e6-981c-45de6b684ab0"
      },
      "source": [
        "from google.colab import drive\n",
        "drive.mount('/content/drive')"
      ],
      "execution_count": null,
      "outputs": [
        {
          "output_type": "stream",
          "text": [
            "Mounted at /content/drive\n"
          ],
          "name": "stdout"
        }
      ]
    },
    {
      "cell_type": "markdown",
      "metadata": {
        "id": "Ud0CiLsY87vV"
      },
      "source": [
        "# **Importing Required Packages**"
      ]
    },
    {
      "cell_type": "code",
      "metadata": {
        "id": "31Wug8Rr8_31"
      },
      "source": [
        "import nltk\n",
        "nltk.download('stopwords')\n",
        "from nltk.corpus import stopwords\n",
        "from collections import Counter\n",
        "\n",
        "import logging \n",
        "from gensim.models import FastText\n",
        "from gensim.models import Word2Vec\n",
        "\n",
        "from sklearn.linear_model import LogisticRegression\n",
        "import pandas as pd\n",
        "import numpy as np\n",
        "import matplotlib.pyplot as plt\n"
      ],
      "execution_count": null,
      "outputs": []
    },
    {
      "cell_type": "markdown",
      "metadata": {
        "id": "UfT61E4h1QuV"
      },
      "source": [
        "# **Loading and preprocessing the data**"
      ]
    },
    {
      "cell_type": "code",
      "metadata": {
        "id": "-7YfrBlBBpj3"
      },
      "source": [
        "F=open('/content/drive/My Drive/MLProject/text8')\n",
        "data=F.read()"
      ],
      "execution_count": null,
      "outputs": []
    },
    {
      "cell_type": "code",
      "metadata": {
        "colab": {
          "base_uri": "https://localhost:8080/"
        },
        "id": "8VYBWG2GB8us",
        "outputId": "96cf6394-c832-47ed-fd2f-fe980c62850f"
      },
      "source": [
        "\n",
        "def process_data(data):\n",
        "  data=data.lower()\n",
        "  data=data.split()\n",
        "  # stop_words = set(stopwords.words('english'))\n",
        "  # data1=[]\n",
        "  return data\n",
        "processed_data=process_data(data)"
      ],
      "execution_count": null,
      "outputs": [
        {
          "output_type": "stream",
          "text": [
            "[nltk_data] Downloading package stopwords to /root/nltk_data...\n",
            "[nltk_data]   Package stopwords is already up-to-date!\n"
          ],
          "name": "stdout"
        }
      ]
    },
    {
      "cell_type": "code",
      "metadata": {
        "colab": {
          "base_uri": "https://localhost:8080/"
        },
        "id": "2ZQe0VJ8FR3d",
        "outputId": "ecf9987c-c12e-43da-ae68-f635afa82f16"
      },
      "source": [
        "processed_data[0:100]"
      ],
      "execution_count": null,
      "outputs": [
        {
          "output_type": "execute_result",
          "data": {
            "text/plain": [
              "['anarchism',\n",
              " 'originated',\n",
              " 'as',\n",
              " 'a',\n",
              " 'term',\n",
              " 'of',\n",
              " 'abuse',\n",
              " 'first',\n",
              " 'used',\n",
              " 'against',\n",
              " 'early',\n",
              " 'working',\n",
              " 'class',\n",
              " 'radicals',\n",
              " 'including',\n",
              " 'the',\n",
              " 'diggers',\n",
              " 'of',\n",
              " 'the',\n",
              " 'english',\n",
              " 'revolution',\n",
              " 'and',\n",
              " 'the',\n",
              " 'sans',\n",
              " 'culottes',\n",
              " 'of',\n",
              " 'the',\n",
              " 'french',\n",
              " 'revolution',\n",
              " 'whilst',\n",
              " 'the',\n",
              " 'term',\n",
              " 'is',\n",
              " 'still',\n",
              " 'used',\n",
              " 'in',\n",
              " 'a',\n",
              " 'pejorative',\n",
              " 'way',\n",
              " 'to',\n",
              " 'describe',\n",
              " 'any',\n",
              " 'act',\n",
              " 'that',\n",
              " 'used',\n",
              " 'violent',\n",
              " 'means',\n",
              " 'to',\n",
              " 'destroy',\n",
              " 'the',\n",
              " 'organization',\n",
              " 'of',\n",
              " 'society',\n",
              " 'it',\n",
              " 'has',\n",
              " 'also',\n",
              " 'been',\n",
              " 'taken',\n",
              " 'up',\n",
              " 'as',\n",
              " 'a',\n",
              " 'positive',\n",
              " 'label',\n",
              " 'by',\n",
              " 'self',\n",
              " 'defined',\n",
              " 'anarchists',\n",
              " 'the',\n",
              " 'word',\n",
              " 'anarchism',\n",
              " 'is',\n",
              " 'derived',\n",
              " 'from',\n",
              " 'the',\n",
              " 'greek',\n",
              " 'without',\n",
              " 'archons',\n",
              " 'ruler',\n",
              " 'chief',\n",
              " 'king',\n",
              " 'anarchism',\n",
              " 'as',\n",
              " 'a',\n",
              " 'political',\n",
              " 'philosophy',\n",
              " 'is',\n",
              " 'the',\n",
              " 'belief',\n",
              " 'that',\n",
              " 'rulers',\n",
              " 'are',\n",
              " 'unnecessary',\n",
              " 'and',\n",
              " 'should',\n",
              " 'be',\n",
              " 'abolished',\n",
              " 'although',\n",
              " 'there',\n",
              " 'are',\n",
              " 'differing']"
            ]
          },
          "metadata": {
            "tags": []
          },
          "execution_count": 73
        }
      ]
    },
    {
      "cell_type": "code",
      "metadata": {
        "id": "E73p_yvSdfFx"
      },
      "source": [
        " # Setting up the loggings to monitor gensim\n",
        "logging.basicConfig(format=\"%(levelname)s - %(asctime)s: %(message)s\", datefmt= '%H:%M:%S', level=logging.INFO)"
      ],
      "execution_count": null,
      "outputs": []
    },
    {
      "cell_type": "code",
      "metadata": {
        "id": "hGNwbLsBhCQU"
      },
      "source": [
        "sentences=[]\n",
        "for i in range(0,len(processed_data),100):\n",
        "  sentences.append(processed_data[i:i+100])"
      ],
      "execution_count": null,
      "outputs": []
    },
    {
      "cell_type": "code",
      "metadata": {
        "colab": {
          "base_uri": "https://localhost:8080/"
        },
        "id": "9JHlUqP2jYkD",
        "outputId": "99f331a5-77e0-48b9-a6e9-b1eddf4effcc"
      },
      "source": [
        "len(sentences)"
      ],
      "execution_count": null,
      "outputs": [
        {
          "output_type": "execute_result",
          "data": {
            "text/plain": [
              "170053"
            ]
          },
          "metadata": {
            "tags": []
          },
          "execution_count": 77
        }
      ]
    },
    {
      "cell_type": "markdown",
      "metadata": {
        "id": "ovYBCYcHFRH8"
      },
      "source": [
        "# **Training FastText model**"
      ]
    },
    {
      "cell_type": "code",
      "metadata": {
        "id": "qxN3xMPNCowh"
      },
      "source": [
        "\n",
        "\n",
        "FT=FastText(sentences=None,size=100,window=10, min_count=2,  sg=1, hs=0,       \n",
        "             )"
      ],
      "execution_count": null,
      "outputs": []
    },
    {
      "cell_type": "code",
      "metadata": {
        "colab": {
          "base_uri": "https://localhost:8080/"
        },
        "id": "YaQCqyehETSU",
        "outputId": "1233290b-8507-48a8-d400-025b9f2da43f"
      },
      "source": [
        "FT.build_vocab(sentences)\n"
      ],
      "execution_count": null,
      "outputs": [
        {
          "output_type": "stream",
          "text": [
            "INFO - 21:45:05: collecting all words and their counts\n",
            "INFO - 21:45:05: PROGRESS: at sentence #0, processed 0 words, keeping 0 word types\n",
            "INFO - 21:45:05: PROGRESS: at sentence #10000, processed 1000000 words, keeping 52754 word types\n",
            "INFO - 21:45:05: PROGRESS: at sentence #20000, processed 2000000 words, keeping 78382 word types\n",
            "INFO - 21:45:05: PROGRESS: at sentence #30000, processed 3000000 words, keeping 96644 word types\n",
            "INFO - 21:45:06: PROGRESS: at sentence #40000, processed 4000000 words, keeping 111460 word types\n",
            "INFO - 21:45:06: PROGRESS: at sentence #50000, processed 5000000 words, keeping 125354 word types\n",
            "INFO - 21:45:07: PROGRESS: at sentence #60000, processed 6000000 words, keeping 139565 word types\n",
            "INFO - 21:45:07: PROGRESS: at sentence #70000, processed 7000000 words, keeping 151933 word types\n",
            "INFO - 21:45:07: PROGRESS: at sentence #80000, processed 8000000 words, keeping 164114 word types\n",
            "INFO - 21:45:07: PROGRESS: at sentence #90000, processed 9000000 words, keeping 178162 word types\n",
            "INFO - 21:45:08: PROGRESS: at sentence #100000, processed 10000000 words, keeping 189074 word types\n",
            "INFO - 21:45:08: PROGRESS: at sentence #110000, processed 11000000 words, keeping 198757 word types\n",
            "INFO - 21:45:08: PROGRESS: at sentence #120000, processed 12000000 words, keeping 207894 word types\n",
            "INFO - 21:45:09: PROGRESS: at sentence #130000, processed 13000000 words, keeping 217127 word types\n",
            "INFO - 21:45:09: PROGRESS: at sentence #140000, processed 14000000 words, keeping 226854 word types\n",
            "INFO - 21:45:09: PROGRESS: at sentence #150000, processed 15000000 words, keeping 237390 word types\n",
            "INFO - 21:45:10: PROGRESS: at sentence #160000, processed 16000000 words, keeping 245648 word types\n",
            "INFO - 21:45:10: PROGRESS: at sentence #170000, processed 17000000 words, keeping 253833 word types\n",
            "INFO - 21:45:10: collected 253854 word types from a corpus of 17005207 raw words and 170053 sentences\n",
            "INFO - 21:45:10: Loading a fresh vocabulary\n",
            "INFO - 21:45:12: effective_min_count=2 retains 135335 unique words (53% of original 253854, drops 118519)\n",
            "INFO - 21:45:12: effective_min_count=2 leaves 16886688 word corpus (99% of original 17005207, drops 118519)\n",
            "INFO - 21:45:13: deleting the raw counts dictionary of 253854 items\n",
            "INFO - 21:45:13: sample=0.001 downsamples 37 most-common words\n",
            "INFO - 21:45:13: downsampling leaves estimated 12689806 word corpus (75.1% of prior 16886688)\n",
            "INFO - 21:45:16: estimated required memory for 135335 words, 510147 buckets and 100 dimensions: 412704748 bytes\n",
            "INFO - 21:45:16: resetting layer weights\n",
            "INFO - 21:45:50: Total number of ngrams is 510147\n"
          ],
          "name": "stderr"
        }
      ]
    },
    {
      "cell_type": "code",
      "metadata": {
        "colab": {
          "base_uri": "https://localhost:8080/"
        },
        "id": "ISLWd75dhI-A",
        "outputId": "7eff81e3-92f4-4c8b-da82-2eb3ee45e7c1"
      },
      "source": [
        "FT.train(sentences,total_examples=len(processed_data),epochs=1,progress_per=1 )"
      ],
      "execution_count": null,
      "outputs": [
        {
          "output_type": "stream",
          "text": [
            "INFO - 21:46:52: training model with 3 workers on 135335 vocabulary and 100 features, using sg=1 hs=0 sample=0.001 negative=5 window=10\n",
            "INFO - 21:46:53: EPOCH 1 - PROGRESS: at 0.00% examples, 29826 words/s, in_qsize 5, out_qsize 0\n",
            "INFO - 21:46:54: EPOCH 1 - PROGRESS: at 0.01% examples, 35690 words/s, in_qsize 5, out_qsize 0\n",
            "INFO - 21:46:55: EPOCH 1 - PROGRESS: at 0.01% examples, 38636 words/s, in_qsize 5, out_qsize 0\n",
            "INFO - 21:46:56: EPOCH 1 - PROGRESS: at 0.01% examples, 37557 words/s, in_qsize 5, out_qsize 0\n",
            "INFO - 21:46:57: EPOCH 1 - PROGRESS: at 0.02% examples, 38109 words/s, in_qsize 5, out_qsize 0\n",
            "INFO - 21:46:59: EPOCH 1 - PROGRESS: at 0.02% examples, 38532 words/s, in_qsize 5, out_qsize 0\n",
            "INFO - 21:47:00: EPOCH 1 - PROGRESS: at 0.02% examples, 38582 words/s, in_qsize 5, out_qsize 0\n",
            "INFO - 21:47:01: EPOCH 1 - PROGRESS: at 0.03% examples, 38654 words/s, in_qsize 5, out_qsize 0\n",
            "INFO - 21:47:02: EPOCH 1 - PROGRESS: at 0.03% examples, 38987 words/s, in_qsize 5, out_qsize 0\n",
            "INFO - 21:47:03: EPOCH 1 - PROGRESS: at 0.03% examples, 39265 words/s, in_qsize 5, out_qsize 0\n",
            "INFO - 21:47:04: EPOCH 1 - PROGRESS: at 0.04% examples, 39630 words/s, in_qsize 5, out_qsize 0\n",
            "INFO - 21:47:05: EPOCH 1 - PROGRESS: at 0.04% examples, 39417 words/s, in_qsize 5, out_qsize 0\n",
            "INFO - 21:47:07: EPOCH 1 - PROGRESS: at 0.05% examples, 39459 words/s, in_qsize 6, out_qsize 0\n",
            "INFO - 21:47:08: EPOCH 1 - PROGRESS: at 0.05% examples, 39648 words/s, in_qsize 5, out_qsize 0\n",
            "INFO - 21:47:09: EPOCH 1 - PROGRESS: at 0.05% examples, 40192 words/s, in_qsize 5, out_qsize 0\n",
            "INFO - 21:47:10: EPOCH 1 - PROGRESS: at 0.06% examples, 40211 words/s, in_qsize 5, out_qsize 0\n",
            "INFO - 21:47:11: EPOCH 1 - PROGRESS: at 0.06% examples, 39806 words/s, in_qsize 4, out_qsize 1\n",
            "INFO - 21:47:12: EPOCH 1 - PROGRESS: at 0.06% examples, 39827 words/s, in_qsize 5, out_qsize 0\n",
            "INFO - 21:47:13: EPOCH 1 - PROGRESS: at 0.07% examples, 39876 words/s, in_qsize 5, out_qsize 0\n",
            "INFO - 21:47:14: EPOCH 1 - PROGRESS: at 0.07% examples, 39980 words/s, in_qsize 5, out_qsize 0\n",
            "INFO - 21:47:15: EPOCH 1 - PROGRESS: at 0.07% examples, 40061 words/s, in_qsize 5, out_qsize 0\n",
            "INFO - 21:47:16: EPOCH 1 - PROGRESS: at 0.08% examples, 40147 words/s, in_qsize 5, out_qsize 0\n",
            "INFO - 21:47:17: EPOCH 1 - PROGRESS: at 0.08% examples, 40185 words/s, in_qsize 5, out_qsize 0\n",
            "INFO - 21:47:18: EPOCH 1 - PROGRESS: at 0.08% examples, 40232 words/s, in_qsize 5, out_qsize 0\n",
            "INFO - 21:47:19: EPOCH 1 - PROGRESS: at 0.09% examples, 40353 words/s, in_qsize 5, out_qsize 0\n",
            "INFO - 21:47:21: EPOCH 1 - PROGRESS: at 0.09% examples, 40213 words/s, in_qsize 5, out_qsize 0\n",
            "INFO - 21:47:22: EPOCH 1 - PROGRESS: at 0.10% examples, 40276 words/s, in_qsize 5, out_qsize 0\n",
            "INFO - 21:47:23: EPOCH 1 - PROGRESS: at 0.10% examples, 40331 words/s, in_qsize 5, out_qsize 0\n",
            "INFO - 21:47:24: EPOCH 1 - PROGRESS: at 0.10% examples, 40385 words/s, in_qsize 5, out_qsize 0\n",
            "INFO - 21:47:25: EPOCH 1 - PROGRESS: at 0.11% examples, 40551 words/s, in_qsize 6, out_qsize 0\n",
            "INFO - 21:47:27: EPOCH 1 - PROGRESS: at 0.11% examples, 40497 words/s, in_qsize 5, out_qsize 0\n",
            "INFO - 21:47:28: EPOCH 1 - PROGRESS: at 0.11% examples, 40522 words/s, in_qsize 5, out_qsize 0\n",
            "INFO - 21:47:29: EPOCH 1 - PROGRESS: at 0.12% examples, 40490 words/s, in_qsize 5, out_qsize 0\n",
            "INFO - 21:47:30: EPOCH 1 - PROGRESS: at 0.12% examples, 40353 words/s, in_qsize 5, out_qsize 0\n",
            "INFO - 21:47:31: EPOCH 1 - PROGRESS: at 0.13% examples, 40371 words/s, in_qsize 5, out_qsize 0\n",
            "INFO - 21:47:32: EPOCH 1 - PROGRESS: at 0.13% examples, 40350 words/s, in_qsize 5, out_qsize 0\n",
            "INFO - 21:47:33: EPOCH 1 - PROGRESS: at 0.13% examples, 40414 words/s, in_qsize 5, out_qsize 0\n",
            "INFO - 21:47:34: EPOCH 1 - PROGRESS: at 0.14% examples, 40427 words/s, in_qsize 5, out_qsize 0\n",
            "INFO - 21:47:35: EPOCH 1 - PROGRESS: at 0.14% examples, 40337 words/s, in_qsize 6, out_qsize 0\n",
            "INFO - 21:47:37: EPOCH 1 - PROGRESS: at 0.14% examples, 40332 words/s, in_qsize 5, out_qsize 0\n",
            "INFO - 21:47:38: EPOCH 1 - PROGRESS: at 0.15% examples, 40270 words/s, in_qsize 5, out_qsize 0\n",
            "INFO - 21:47:39: EPOCH 1 - PROGRESS: at 0.15% examples, 40194 words/s, in_qsize 5, out_qsize 0\n",
            "INFO - 21:47:40: EPOCH 1 - PROGRESS: at 0.15% examples, 40103 words/s, in_qsize 5, out_qsize 0\n",
            "INFO - 21:47:41: EPOCH 1 - PROGRESS: at 0.16% examples, 40176 words/s, in_qsize 5, out_qsize 0\n",
            "INFO - 21:47:42: EPOCH 1 - PROGRESS: at 0.16% examples, 40207 words/s, in_qsize 5, out_qsize 0\n",
            "INFO - 21:47:43: EPOCH 1 - PROGRESS: at 0.16% examples, 40232 words/s, in_qsize 5, out_qsize 0\n",
            "INFO - 21:47:44: EPOCH 1 - PROGRESS: at 0.17% examples, 40109 words/s, in_qsize 6, out_qsize 0\n",
            "INFO - 21:47:45: EPOCH 1 - PROGRESS: at 0.17% examples, 40000 words/s, in_qsize 4, out_qsize 1\n",
            "INFO - 21:47:46: EPOCH 1 - PROGRESS: at 0.17% examples, 40018 words/s, in_qsize 5, out_qsize 0\n",
            "INFO - 21:47:47: EPOCH 1 - PROGRESS: at 0.18% examples, 40043 words/s, in_qsize 5, out_qsize 0\n",
            "INFO - 21:47:48: EPOCH 1 - PROGRESS: at 0.18% examples, 40112 words/s, in_qsize 5, out_qsize 0\n",
            "INFO - 21:47:49: EPOCH 1 - PROGRESS: at 0.18% examples, 40174 words/s, in_qsize 5, out_qsize 0\n",
            "INFO - 21:47:51: EPOCH 1 - PROGRESS: at 0.19% examples, 39947 words/s, in_qsize 5, out_qsize 0\n",
            "INFO - 21:47:52: EPOCH 1 - PROGRESS: at 0.19% examples, 39997 words/s, in_qsize 5, out_qsize 0\n",
            "INFO - 21:47:53: EPOCH 1 - PROGRESS: at 0.19% examples, 39951 words/s, in_qsize 5, out_qsize 0\n",
            "INFO - 21:47:54: EPOCH 1 - PROGRESS: at 0.20% examples, 39951 words/s, in_qsize 5, out_qsize 0\n",
            "INFO - 21:47:55: EPOCH 1 - PROGRESS: at 0.20% examples, 39949 words/s, in_qsize 5, out_qsize 0\n",
            "INFO - 21:47:56: EPOCH 1 - PROGRESS: at 0.20% examples, 39956 words/s, in_qsize 5, out_qsize 0\n",
            "INFO - 21:47:57: EPOCH 1 - PROGRESS: at 0.21% examples, 39971 words/s, in_qsize 5, out_qsize 0\n",
            "INFO - 21:47:58: EPOCH 1 - PROGRESS: at 0.21% examples, 40004 words/s, in_qsize 5, out_qsize 0\n",
            "INFO - 21:47:59: EPOCH 1 - PROGRESS: at 0.21% examples, 39956 words/s, in_qsize 5, out_qsize 0\n",
            "INFO - 21:48:00: EPOCH 1 - PROGRESS: at 0.22% examples, 39948 words/s, in_qsize 5, out_qsize 0\n",
            "INFO - 21:48:01: EPOCH 1 - PROGRESS: at 0.22% examples, 39884 words/s, in_qsize 5, out_qsize 0\n",
            "INFO - 21:48:03: EPOCH 1 - PROGRESS: at 0.22% examples, 39883 words/s, in_qsize 5, out_qsize 0\n",
            "INFO - 21:48:04: EPOCH 1 - PROGRESS: at 0.23% examples, 39896 words/s, in_qsize 5, out_qsize 0\n",
            "INFO - 21:48:05: EPOCH 1 - PROGRESS: at 0.23% examples, 39847 words/s, in_qsize 5, out_qsize 0\n",
            "INFO - 21:48:06: EPOCH 1 - PROGRESS: at 0.23% examples, 39905 words/s, in_qsize 5, out_qsize 0\n",
            "INFO - 21:48:07: EPOCH 1 - PROGRESS: at 0.24% examples, 39876 words/s, in_qsize 5, out_qsize 0\n",
            "INFO - 21:48:08: EPOCH 1 - PROGRESS: at 0.24% examples, 39834 words/s, in_qsize 5, out_qsize 0\n",
            "INFO - 21:48:09: EPOCH 1 - PROGRESS: at 0.24% examples, 39792 words/s, in_qsize 5, out_qsize 0\n",
            "INFO - 21:48:10: EPOCH 1 - PROGRESS: at 0.25% examples, 39763 words/s, in_qsize 5, out_qsize 0\n",
            "INFO - 21:48:11: EPOCH 1 - PROGRESS: at 0.25% examples, 39804 words/s, in_qsize 5, out_qsize 0\n",
            "INFO - 21:48:13: EPOCH 1 - PROGRESS: at 0.25% examples, 39761 words/s, in_qsize 5, out_qsize 0\n",
            "INFO - 21:48:14: EPOCH 1 - PROGRESS: at 0.26% examples, 39783 words/s, in_qsize 5, out_qsize 0\n",
            "INFO - 21:48:15: EPOCH 1 - PROGRESS: at 0.26% examples, 39738 words/s, in_qsize 5, out_qsize 0\n",
            "INFO - 21:48:16: EPOCH 1 - PROGRESS: at 0.26% examples, 39778 words/s, in_qsize 5, out_qsize 0\n",
            "INFO - 21:48:17: EPOCH 1 - PROGRESS: at 0.27% examples, 39731 words/s, in_qsize 5, out_qsize 0\n",
            "INFO - 21:48:18: EPOCH 1 - PROGRESS: at 0.27% examples, 39718 words/s, in_qsize 5, out_qsize 0\n",
            "INFO - 21:48:19: EPOCH 1 - PROGRESS: at 0.27% examples, 39710 words/s, in_qsize 5, out_qsize 0\n",
            "INFO - 21:48:20: EPOCH 1 - PROGRESS: at 0.28% examples, 39738 words/s, in_qsize 5, out_qsize 0\n",
            "INFO - 21:48:22: EPOCH 1 - PROGRESS: at 0.28% examples, 39744 words/s, in_qsize 5, out_qsize 0\n",
            "INFO - 21:48:23: EPOCH 1 - PROGRESS: at 0.28% examples, 39726 words/s, in_qsize 5, out_qsize 0\n",
            "INFO - 21:48:24: EPOCH 1 - PROGRESS: at 0.29% examples, 39725 words/s, in_qsize 6, out_qsize 0\n",
            "INFO - 21:48:25: EPOCH 1 - PROGRESS: at 0.29% examples, 39697 words/s, in_qsize 5, out_qsize 0\n",
            "INFO - 21:48:26: EPOCH 1 - PROGRESS: at 0.29% examples, 39719 words/s, in_qsize 5, out_qsize 0\n",
            "INFO - 21:48:27: EPOCH 1 - PROGRESS: at 0.30% examples, 39704 words/s, in_qsize 5, out_qsize 0\n",
            "INFO - 21:48:28: EPOCH 1 - PROGRESS: at 0.30% examples, 39691 words/s, in_qsize 5, out_qsize 0\n",
            "INFO - 21:48:29: EPOCH 1 - PROGRESS: at 0.30% examples, 39688 words/s, in_qsize 5, out_qsize 0\n",
            "INFO - 21:48:30: EPOCH 1 - PROGRESS: at 0.31% examples, 39731 words/s, in_qsize 5, out_qsize 0\n",
            "INFO - 21:48:31: EPOCH 1 - PROGRESS: at 0.31% examples, 39707 words/s, in_qsize 5, out_qsize 0\n",
            "INFO - 21:48:32: EPOCH 1 - PROGRESS: at 0.31% examples, 39654 words/s, in_qsize 5, out_qsize 0\n",
            "INFO - 21:48:34: EPOCH 1 - PROGRESS: at 0.32% examples, 39638 words/s, in_qsize 5, out_qsize 0\n",
            "INFO - 21:48:35: EPOCH 1 - PROGRESS: at 0.32% examples, 39651 words/s, in_qsize 5, out_qsize 0\n",
            "INFO - 21:48:36: EPOCH 1 - PROGRESS: at 0.32% examples, 39604 words/s, in_qsize 5, out_qsize 0\n",
            "INFO - 21:48:37: EPOCH 1 - PROGRESS: at 0.33% examples, 39605 words/s, in_qsize 5, out_qsize 0\n",
            "INFO - 21:48:38: EPOCH 1 - PROGRESS: at 0.33% examples, 39632 words/s, in_qsize 5, out_qsize 0\n",
            "INFO - 21:48:39: EPOCH 1 - PROGRESS: at 0.34% examples, 39599 words/s, in_qsize 5, out_qsize 0\n",
            "INFO - 21:48:41: EPOCH 1 - PROGRESS: at 0.34% examples, 39631 words/s, in_qsize 5, out_qsize 0\n",
            "INFO - 21:48:42: EPOCH 1 - PROGRESS: at 0.34% examples, 39676 words/s, in_qsize 5, out_qsize 0\n",
            "INFO - 21:48:43: EPOCH 1 - PROGRESS: at 0.35% examples, 39579 words/s, in_qsize 5, out_qsize 0\n",
            "INFO - 21:48:44: EPOCH 1 - PROGRESS: at 0.35% examples, 39595 words/s, in_qsize 5, out_qsize 0\n",
            "INFO - 21:48:45: EPOCH 1 - PROGRESS: at 0.35% examples, 39603 words/s, in_qsize 5, out_qsize 0\n",
            "INFO - 21:48:46: EPOCH 1 - PROGRESS: at 0.36% examples, 39584 words/s, in_qsize 5, out_qsize 0\n",
            "INFO - 21:48:47: EPOCH 1 - PROGRESS: at 0.36% examples, 39609 words/s, in_qsize 6, out_qsize 0\n",
            "INFO - 21:48:48: EPOCH 1 - PROGRESS: at 0.36% examples, 39602 words/s, in_qsize 6, out_qsize 0\n",
            "INFO - 21:48:49: EPOCH 1 - PROGRESS: at 0.37% examples, 39607 words/s, in_qsize 5, out_qsize 0\n",
            "INFO - 21:48:50: EPOCH 1 - PROGRESS: at 0.37% examples, 39644 words/s, in_qsize 6, out_qsize 0\n",
            "INFO - 21:48:51: EPOCH 1 - PROGRESS: at 0.37% examples, 39609 words/s, in_qsize 5, out_qsize 0\n",
            "INFO - 21:48:53: EPOCH 1 - PROGRESS: at 0.38% examples, 39665 words/s, in_qsize 5, out_qsize 0\n",
            "INFO - 21:48:54: EPOCH 1 - PROGRESS: at 0.38% examples, 39697 words/s, in_qsize 5, out_qsize 0\n",
            "INFO - 21:48:55: EPOCH 1 - PROGRESS: at 0.38% examples, 39681 words/s, in_qsize 6, out_qsize 0\n",
            "INFO - 21:48:56: EPOCH 1 - PROGRESS: at 0.39% examples, 39714 words/s, in_qsize 5, out_qsize 0\n",
            "INFO - 21:48:57: EPOCH 1 - PROGRESS: at 0.39% examples, 39723 words/s, in_qsize 5, out_qsize 0\n",
            "INFO - 21:48:58: EPOCH 1 - PROGRESS: at 0.39% examples, 39729 words/s, in_qsize 5, out_qsize 0\n",
            "INFO - 21:48:59: EPOCH 1 - PROGRESS: at 0.40% examples, 39762 words/s, in_qsize 5, out_qsize 0\n",
            "INFO - 21:49:00: EPOCH 1 - PROGRESS: at 0.40% examples, 39734 words/s, in_qsize 5, out_qsize 0\n",
            "INFO - 21:49:01: EPOCH 1 - PROGRESS: at 0.40% examples, 39751 words/s, in_qsize 5, out_qsize 0\n",
            "INFO - 21:49:02: EPOCH 1 - PROGRESS: at 0.41% examples, 39765 words/s, in_qsize 5, out_qsize 0\n",
            "INFO - 21:49:03: EPOCH 1 - PROGRESS: at 0.41% examples, 39777 words/s, in_qsize 5, out_qsize 0\n",
            "INFO - 21:49:05: EPOCH 1 - PROGRESS: at 0.42% examples, 39771 words/s, in_qsize 5, out_qsize 0\n",
            "INFO - 21:49:06: EPOCH 1 - PROGRESS: at 0.42% examples, 39812 words/s, in_qsize 5, out_qsize 0\n",
            "INFO - 21:49:07: EPOCH 1 - PROGRESS: at 0.42% examples, 39839 words/s, in_qsize 5, out_qsize 0\n",
            "INFO - 21:49:08: EPOCH 1 - PROGRESS: at 0.43% examples, 39805 words/s, in_qsize 5, out_qsize 0\n",
            "INFO - 21:49:09: EPOCH 1 - PROGRESS: at 0.43% examples, 39774 words/s, in_qsize 4, out_qsize 1\n",
            "INFO - 21:49:10: EPOCH 1 - PROGRESS: at 0.43% examples, 39803 words/s, in_qsize 5, out_qsize 0\n",
            "INFO - 21:49:11: EPOCH 1 - PROGRESS: at 0.44% examples, 39789 words/s, in_qsize 5, out_qsize 0\n",
            "INFO - 21:49:12: EPOCH 1 - PROGRESS: at 0.44% examples, 39815 words/s, in_qsize 5, out_qsize 0\n",
            "INFO - 21:49:13: EPOCH 1 - PROGRESS: at 0.44% examples, 39833 words/s, in_qsize 5, out_qsize 0\n",
            "INFO - 21:49:14: EPOCH 1 - PROGRESS: at 0.45% examples, 39850 words/s, in_qsize 5, out_qsize 0\n",
            "INFO - 21:49:16: EPOCH 1 - PROGRESS: at 0.45% examples, 39837 words/s, in_qsize 5, out_qsize 0\n",
            "INFO - 21:49:17: EPOCH 1 - PROGRESS: at 0.45% examples, 39837 words/s, in_qsize 6, out_qsize 0\n",
            "INFO - 21:49:18: EPOCH 1 - PROGRESS: at 0.46% examples, 39867 words/s, in_qsize 5, out_qsize 0\n",
            "INFO - 21:49:19: EPOCH 1 - PROGRESS: at 0.46% examples, 39891 words/s, in_qsize 5, out_qsize 0\n",
            "INFO - 21:49:20: EPOCH 1 - PROGRESS: at 0.46% examples, 39892 words/s, in_qsize 5, out_qsize 0\n",
            "INFO - 21:49:21: EPOCH 1 - PROGRESS: at 0.47% examples, 39905 words/s, in_qsize 5, out_qsize 0\n",
            "INFO - 21:49:22: EPOCH 1 - PROGRESS: at 0.47% examples, 39891 words/s, in_qsize 5, out_qsize 0\n",
            "INFO - 21:49:23: EPOCH 1 - PROGRESS: at 0.48% examples, 39918 words/s, in_qsize 5, out_qsize 0\n",
            "INFO - 21:49:24: EPOCH 1 - PROGRESS: at 0.48% examples, 39951 words/s, in_qsize 5, out_qsize 0\n",
            "INFO - 21:49:25: EPOCH 1 - PROGRESS: at 0.48% examples, 39959 words/s, in_qsize 5, out_qsize 0\n",
            "INFO - 21:49:26: EPOCH 1 - PROGRESS: at 0.49% examples, 39977 words/s, in_qsize 5, out_qsize 0\n",
            "INFO - 21:49:28: EPOCH 1 - PROGRESS: at 0.49% examples, 39966 words/s, in_qsize 5, out_qsize 0\n",
            "INFO - 21:49:29: EPOCH 1 - PROGRESS: at 0.49% examples, 39992 words/s, in_qsize 5, out_qsize 0\n",
            "INFO - 21:49:30: EPOCH 1 - PROGRESS: at 0.50% examples, 40022 words/s, in_qsize 5, out_qsize 0\n",
            "INFO - 21:49:31: EPOCH 1 - PROGRESS: at 0.50% examples, 40045 words/s, in_qsize 5, out_qsize 0\n",
            "INFO - 21:49:32: EPOCH 1 - PROGRESS: at 0.50% examples, 40025 words/s, in_qsize 5, out_qsize 0\n",
            "INFO - 21:49:33: EPOCH 1 - PROGRESS: at 0.51% examples, 40035 words/s, in_qsize 5, out_qsize 0\n",
            "INFO - 21:49:34: EPOCH 1 - PROGRESS: at 0.51% examples, 40059 words/s, in_qsize 5, out_qsize 0\n",
            "INFO - 21:49:35: EPOCH 1 - PROGRESS: at 0.51% examples, 40027 words/s, in_qsize 4, out_qsize 1\n",
            "INFO - 21:49:36: EPOCH 1 - PROGRESS: at 0.52% examples, 40054 words/s, in_qsize 5, out_qsize 0\n",
            "INFO - 21:49:37: EPOCH 1 - PROGRESS: at 0.52% examples, 40069 words/s, in_qsize 5, out_qsize 0\n",
            "INFO - 21:49:38: EPOCH 1 - PROGRESS: at 0.52% examples, 40093 words/s, in_qsize 5, out_qsize 0\n",
            "INFO - 21:49:39: EPOCH 1 - PROGRESS: at 0.53% examples, 40071 words/s, in_qsize 5, out_qsize 0\n",
            "INFO - 21:49:40: EPOCH 1 - PROGRESS: at 0.53% examples, 40095 words/s, in_qsize 5, out_qsize 0\n",
            "INFO - 21:49:41: EPOCH 1 - PROGRESS: at 0.53% examples, 40095 words/s, in_qsize 5, out_qsize 0\n",
            "INFO - 21:49:42: EPOCH 1 - PROGRESS: at 0.54% examples, 40111 words/s, in_qsize 5, out_qsize 0\n",
            "INFO - 21:49:44: EPOCH 1 - PROGRESS: at 0.54% examples, 40099 words/s, in_qsize 5, out_qsize 0\n",
            "INFO - 21:49:45: EPOCH 1 - PROGRESS: at 0.54% examples, 40128 words/s, in_qsize 5, out_qsize 0\n",
            "INFO - 21:49:46: EPOCH 1 - PROGRESS: at 0.55% examples, 40131 words/s, in_qsize 5, out_qsize 0\n",
            "INFO - 21:49:47: EPOCH 1 - PROGRESS: at 0.55% examples, 40133 words/s, in_qsize 5, out_qsize 0\n",
            "INFO - 21:49:48: EPOCH 1 - PROGRESS: at 0.56% examples, 40152 words/s, in_qsize 5, out_qsize 0\n",
            "INFO - 21:49:49: EPOCH 1 - PROGRESS: at 0.56% examples, 40162 words/s, in_qsize 5, out_qsize 0\n",
            "INFO - 21:49:50: EPOCH 1 - PROGRESS: at 0.56% examples, 40182 words/s, in_qsize 5, out_qsize 0\n",
            "INFO - 21:49:52: EPOCH 1 - PROGRESS: at 0.57% examples, 40131 words/s, in_qsize 5, out_qsize 0\n",
            "INFO - 21:49:53: EPOCH 1 - PROGRESS: at 0.57% examples, 40150 words/s, in_qsize 5, out_qsize 0\n",
            "INFO - 21:49:54: EPOCH 1 - PROGRESS: at 0.57% examples, 40173 words/s, in_qsize 5, out_qsize 0\n",
            "INFO - 21:49:55: EPOCH 1 - PROGRESS: at 0.58% examples, 40194 words/s, in_qsize 5, out_qsize 0\n",
            "INFO - 21:49:56: EPOCH 1 - PROGRESS: at 0.58% examples, 40173 words/s, in_qsize 5, out_qsize 0\n",
            "INFO - 21:49:57: EPOCH 1 - PROGRESS: at 0.59% examples, 40173 words/s, in_qsize 6, out_qsize 1\n",
            "INFO - 21:49:59: EPOCH 1 - PROGRESS: at 0.59% examples, 40172 words/s, in_qsize 5, out_qsize 0\n",
            "INFO - 21:50:00: EPOCH 1 - PROGRESS: at 0.59% examples, 40175 words/s, in_qsize 5, out_qsize 0\n",
            "INFO - 21:50:01: EPOCH 1 - PROGRESS: at 0.60% examples, 40188 words/s, in_qsize 5, out_qsize 0\n",
            "INFO - 21:50:02: EPOCH 1 - PROGRESS: at 0.60% examples, 40176 words/s, in_qsize 3, out_qsize 2\n",
            "INFO - 21:50:03: EPOCH 1 - PROGRESS: at 0.60% examples, 40182 words/s, in_qsize 4, out_qsize 1\n",
            "INFO - 21:50:04: EPOCH 1 - PROGRESS: at 0.61% examples, 40226 words/s, in_qsize 5, out_qsize 0\n",
            "INFO - 21:50:05: EPOCH 1 - PROGRESS: at 0.61% examples, 40227 words/s, in_qsize 5, out_qsize 0\n",
            "INFO - 21:50:06: EPOCH 1 - PROGRESS: at 0.61% examples, 40211 words/s, in_qsize 5, out_qsize 0\n",
            "INFO - 21:50:07: EPOCH 1 - PROGRESS: at 0.62% examples, 40216 words/s, in_qsize 5, out_qsize 0\n",
            "INFO - 21:50:09: EPOCH 1 - PROGRESS: at 0.62% examples, 40216 words/s, in_qsize 4, out_qsize 1\n",
            "INFO - 21:50:10: EPOCH 1 - PROGRESS: at 0.63% examples, 40266 words/s, in_qsize 5, out_qsize 0\n",
            "INFO - 21:50:11: EPOCH 1 - PROGRESS: at 0.63% examples, 40245 words/s, in_qsize 5, out_qsize 0\n",
            "INFO - 21:50:12: EPOCH 1 - PROGRESS: at 0.63% examples, 40232 words/s, in_qsize 5, out_qsize 0\n",
            "INFO - 21:50:13: EPOCH 1 - PROGRESS: at 0.64% examples, 40270 words/s, in_qsize 5, out_qsize 0\n",
            "INFO - 21:50:14: EPOCH 1 - PROGRESS: at 0.64% examples, 40250 words/s, in_qsize 5, out_qsize 0\n",
            "INFO - 21:50:15: EPOCH 1 - PROGRESS: at 0.64% examples, 40257 words/s, in_qsize 5, out_qsize 0\n",
            "INFO - 21:50:16: EPOCH 1 - PROGRESS: at 0.65% examples, 40224 words/s, in_qsize 5, out_qsize 0\n",
            "INFO - 21:50:17: EPOCH 1 - PROGRESS: at 0.65% examples, 40231 words/s, in_qsize 5, out_qsize 0\n",
            "INFO - 21:50:18: EPOCH 1 - PROGRESS: at 0.65% examples, 40221 words/s, in_qsize 4, out_qsize 1\n",
            "INFO - 21:50:19: EPOCH 1 - PROGRESS: at 0.66% examples, 40225 words/s, in_qsize 5, out_qsize 0\n",
            "INFO - 21:50:21: EPOCH 1 - PROGRESS: at 0.66% examples, 40227 words/s, in_qsize 6, out_qsize 0\n",
            "INFO - 21:50:22: EPOCH 1 - PROGRESS: at 0.66% examples, 40222 words/s, in_qsize 5, out_qsize 0\n",
            "INFO - 21:50:23: EPOCH 1 - PROGRESS: at 0.67% examples, 40218 words/s, in_qsize 5, out_qsize 0\n",
            "INFO - 21:50:24: EPOCH 1 - PROGRESS: at 0.67% examples, 40213 words/s, in_qsize 6, out_qsize 0\n",
            "INFO - 21:50:25: EPOCH 1 - PROGRESS: at 0.67% examples, 40213 words/s, in_qsize 5, out_qsize 0\n",
            "INFO - 21:50:27: EPOCH 1 - PROGRESS: at 0.68% examples, 40185 words/s, in_qsize 5, out_qsize 0\n",
            "INFO - 21:50:28: EPOCH 1 - PROGRESS: at 0.68% examples, 40184 words/s, in_qsize 5, out_qsize 0\n",
            "INFO - 21:50:29: EPOCH 1 - PROGRESS: at 0.69% examples, 40204 words/s, in_qsize 5, out_qsize 0\n",
            "INFO - 21:50:30: EPOCH 1 - PROGRESS: at 0.69% examples, 40200 words/s, in_qsize 5, out_qsize 0\n",
            "INFO - 21:50:31: EPOCH 1 - PROGRESS: at 0.69% examples, 40178 words/s, in_qsize 5, out_qsize 0\n",
            "INFO - 21:50:32: EPOCH 1 - PROGRESS: at 0.70% examples, 40176 words/s, in_qsize 5, out_qsize 0\n",
            "INFO - 21:50:33: EPOCH 1 - PROGRESS: at 0.70% examples, 40176 words/s, in_qsize 5, out_qsize 0\n",
            "INFO - 21:50:34: EPOCH 1 - PROGRESS: at 0.70% examples, 40163 words/s, in_qsize 5, out_qsize 0\n",
            "INFO - 21:50:36: EPOCH 1 - PROGRESS: at 0.71% examples, 40168 words/s, in_qsize 5, out_qsize 0\n",
            "INFO - 21:50:37: EPOCH 1 - PROGRESS: at 0.71% examples, 40158 words/s, in_qsize 5, out_qsize 0\n",
            "INFO - 21:50:38: EPOCH 1 - PROGRESS: at 0.71% examples, 40135 words/s, in_qsize 5, out_qsize 0\n",
            "INFO - 21:50:39: EPOCH 1 - PROGRESS: at 0.72% examples, 40155 words/s, in_qsize 5, out_qsize 0\n",
            "INFO - 21:50:40: EPOCH 1 - PROGRESS: at 0.72% examples, 40141 words/s, in_qsize 5, out_qsize 0\n",
            "INFO - 21:50:41: EPOCH 1 - PROGRESS: at 0.72% examples, 40148 words/s, in_qsize 5, out_qsize 0\n",
            "INFO - 21:50:42: EPOCH 1 - PROGRESS: at 0.73% examples, 40137 words/s, in_qsize 5, out_qsize 0\n",
            "INFO - 21:50:44: EPOCH 1 - PROGRESS: at 0.73% examples, 40127 words/s, in_qsize 5, out_qsize 0\n",
            "INFO - 21:50:45: EPOCH 1 - PROGRESS: at 0.73% examples, 40147 words/s, in_qsize 5, out_qsize 0\n",
            "INFO - 21:50:46: EPOCH 1 - PROGRESS: at 0.74% examples, 40140 words/s, in_qsize 5, out_qsize 0\n",
            "INFO - 21:50:47: EPOCH 1 - PROGRESS: at 0.74% examples, 40155 words/s, in_qsize 5, out_qsize 0\n",
            "INFO - 21:50:48: EPOCH 1 - PROGRESS: at 0.74% examples, 40138 words/s, in_qsize 5, out_qsize 0\n",
            "INFO - 21:50:49: EPOCH 1 - PROGRESS: at 0.75% examples, 40147 words/s, in_qsize 5, out_qsize 0\n",
            "INFO - 21:50:50: EPOCH 1 - PROGRESS: at 0.75% examples, 40143 words/s, in_qsize 5, out_qsize 0\n",
            "INFO - 21:50:51: EPOCH 1 - PROGRESS: at 0.76% examples, 40156 words/s, in_qsize 5, out_qsize 0\n",
            "INFO - 21:50:52: EPOCH 1 - PROGRESS: at 0.76% examples, 40152 words/s, in_qsize 5, out_qsize 0\n",
            "INFO - 21:50:54: EPOCH 1 - PROGRESS: at 0.76% examples, 40133 words/s, in_qsize 5, out_qsize 0\n",
            "INFO - 21:50:55: EPOCH 1 - PROGRESS: at 0.77% examples, 40141 words/s, in_qsize 5, out_qsize 0\n",
            "INFO - 21:50:56: EPOCH 1 - PROGRESS: at 0.77% examples, 40130 words/s, in_qsize 5, out_qsize 0\n",
            "INFO - 21:50:57: EPOCH 1 - PROGRESS: at 0.77% examples, 40131 words/s, in_qsize 5, out_qsize 0\n",
            "INFO - 21:50:58: EPOCH 1 - PROGRESS: at 0.78% examples, 40149 words/s, in_qsize 5, out_qsize 0\n",
            "INFO - 21:50:59: EPOCH 1 - PROGRESS: at 0.78% examples, 40146 words/s, in_qsize 5, out_qsize 0\n",
            "INFO - 21:51:00: EPOCH 1 - PROGRESS: at 0.79% examples, 40131 words/s, in_qsize 5, out_qsize 0\n",
            "INFO - 21:51:01: EPOCH 1 - PROGRESS: at 0.79% examples, 40133 words/s, in_qsize 5, out_qsize 0\n",
            "INFO - 21:51:02: EPOCH 1 - PROGRESS: at 0.79% examples, 40140 words/s, in_qsize 5, out_qsize 0\n",
            "INFO - 21:51:04: EPOCH 1 - PROGRESS: at 0.80% examples, 40141 words/s, in_qsize 4, out_qsize 1\n",
            "INFO - 21:51:05: EPOCH 1 - PROGRESS: at 0.80% examples, 40145 words/s, in_qsize 5, out_qsize 0\n",
            "INFO - 21:51:06: EPOCH 1 - PROGRESS: at 0.80% examples, 40164 words/s, in_qsize 5, out_qsize 0\n",
            "INFO - 21:51:07: EPOCH 1 - PROGRESS: at 0.81% examples, 40171 words/s, in_qsize 5, out_qsize 0\n",
            "INFO - 21:51:08: EPOCH 1 - PROGRESS: at 0.81% examples, 40168 words/s, in_qsize 5, out_qsize 0\n",
            "INFO - 21:51:09: EPOCH 1 - PROGRESS: at 0.81% examples, 40164 words/s, in_qsize 5, out_qsize 0\n",
            "INFO - 21:51:10: EPOCH 1 - PROGRESS: at 0.82% examples, 40156 words/s, in_qsize 6, out_qsize 0\n",
            "INFO - 21:51:11: EPOCH 1 - PROGRESS: at 0.82% examples, 40159 words/s, in_qsize 5, out_qsize 0\n",
            "INFO - 21:51:12: EPOCH 1 - PROGRESS: at 0.82% examples, 40169 words/s, in_qsize 5, out_qsize 0\n",
            "INFO - 21:51:14: EPOCH 1 - PROGRESS: at 0.83% examples, 40178 words/s, in_qsize 5, out_qsize 0\n",
            "INFO - 21:51:15: EPOCH 1 - PROGRESS: at 0.83% examples, 40179 words/s, in_qsize 5, out_qsize 0\n",
            "INFO - 21:51:16: EPOCH 1 - PROGRESS: at 0.83% examples, 40168 words/s, in_qsize 5, out_qsize 0\n",
            "INFO - 21:51:17: EPOCH 1 - PROGRESS: at 0.84% examples, 40162 words/s, in_qsize 5, out_qsize 0\n",
            "INFO - 21:51:18: EPOCH 1 - PROGRESS: at 0.84% examples, 40167 words/s, in_qsize 5, out_qsize 0\n",
            "INFO - 21:51:19: EPOCH 1 - PROGRESS: at 0.85% examples, 40174 words/s, in_qsize 5, out_qsize 0\n",
            "INFO - 21:51:20: EPOCH 1 - PROGRESS: at 0.85% examples, 40168 words/s, in_qsize 5, out_qsize 0\n",
            "INFO - 21:51:21: EPOCH 1 - PROGRESS: at 0.85% examples, 40184 words/s, in_qsize 5, out_qsize 0\n",
            "INFO - 21:51:22: EPOCH 1 - PROGRESS: at 0.86% examples, 40195 words/s, in_qsize 5, out_qsize 0\n",
            "INFO - 21:51:23: EPOCH 1 - PROGRESS: at 0.86% examples, 40185 words/s, in_qsize 5, out_qsize 0\n",
            "INFO - 21:51:24: EPOCH 1 - PROGRESS: at 0.86% examples, 40190 words/s, in_qsize 5, out_qsize 0\n",
            "INFO - 21:51:26: EPOCH 1 - PROGRESS: at 0.87% examples, 40190 words/s, in_qsize 5, out_qsize 0\n",
            "INFO - 21:51:27: EPOCH 1 - PROGRESS: at 0.87% examples, 40189 words/s, in_qsize 5, out_qsize 0\n",
            "INFO - 21:51:28: EPOCH 1 - PROGRESS: at 0.87% examples, 40195 words/s, in_qsize 5, out_qsize 0\n",
            "INFO - 21:51:29: EPOCH 1 - PROGRESS: at 0.88% examples, 40201 words/s, in_qsize 5, out_qsize 0\n",
            "INFO - 21:51:30: EPOCH 1 - PROGRESS: at 0.88% examples, 40193 words/s, in_qsize 5, out_qsize 0\n",
            "INFO - 21:51:31: EPOCH 1 - PROGRESS: at 0.88% examples, 40201 words/s, in_qsize 6, out_qsize 0\n",
            "INFO - 21:51:32: EPOCH 1 - PROGRESS: at 0.89% examples, 40210 words/s, in_qsize 5, out_qsize 0\n",
            "INFO - 21:51:33: EPOCH 1 - PROGRESS: at 0.89% examples, 40211 words/s, in_qsize 5, out_qsize 0\n",
            "INFO - 21:51:35: EPOCH 1 - PROGRESS: at 0.90% examples, 40204 words/s, in_qsize 5, out_qsize 0\n",
            "INFO - 21:51:36: EPOCH 1 - PROGRESS: at 0.90% examples, 40213 words/s, in_qsize 5, out_qsize 0\n",
            "INFO - 21:51:37: EPOCH 1 - PROGRESS: at 0.90% examples, 40220 words/s, in_qsize 5, out_qsize 0\n",
            "INFO - 21:51:38: EPOCH 1 - PROGRESS: at 0.91% examples, 40217 words/s, in_qsize 5, out_qsize 0\n",
            "INFO - 21:51:39: EPOCH 1 - PROGRESS: at 0.91% examples, 40223 words/s, in_qsize 5, out_qsize 0\n",
            "INFO - 21:51:40: EPOCH 1 - PROGRESS: at 0.91% examples, 40216 words/s, in_qsize 5, out_qsize 0\n",
            "INFO - 21:51:41: EPOCH 1 - PROGRESS: at 0.92% examples, 40207 words/s, in_qsize 3, out_qsize 2\n",
            "INFO - 21:51:42: EPOCH 1 - PROGRESS: at 0.92% examples, 40233 words/s, in_qsize 5, out_qsize 0\n",
            "INFO - 21:51:44: EPOCH 1 - PROGRESS: at 0.92% examples, 40240 words/s, in_qsize 5, out_qsize 0\n",
            "INFO - 21:51:45: EPOCH 1 - PROGRESS: at 0.93% examples, 40229 words/s, in_qsize 5, out_qsize 0\n",
            "INFO - 21:51:46: EPOCH 1 - PROGRESS: at 0.93% examples, 40243 words/s, in_qsize 5, out_qsize 0\n",
            "INFO - 21:51:47: EPOCH 1 - PROGRESS: at 0.94% examples, 40245 words/s, in_qsize 5, out_qsize 0\n",
            "INFO - 21:51:48: EPOCH 1 - PROGRESS: at 0.94% examples, 40245 words/s, in_qsize 5, out_qsize 0\n",
            "INFO - 21:51:49: EPOCH 1 - PROGRESS: at 0.94% examples, 40241 words/s, in_qsize 5, out_qsize 0\n",
            "INFO - 21:51:50: EPOCH 1 - PROGRESS: at 0.95% examples, 40236 words/s, in_qsize 5, out_qsize 0\n",
            "INFO - 21:51:51: EPOCH 1 - PROGRESS: at 0.95% examples, 40239 words/s, in_qsize 5, out_qsize 0\n",
            "INFO - 21:51:52: EPOCH 1 - PROGRESS: at 0.95% examples, 40251 words/s, in_qsize 5, out_qsize 0\n",
            "INFO - 21:51:53: EPOCH 1 - PROGRESS: at 0.96% examples, 40265 words/s, in_qsize 6, out_qsize 0\n",
            "INFO - 21:51:55: EPOCH 1 - PROGRESS: at 0.96% examples, 40253 words/s, in_qsize 5, out_qsize 0\n",
            "INFO - 21:51:56: EPOCH 1 - PROGRESS: at 0.96% examples, 40253 words/s, in_qsize 6, out_qsize 0\n",
            "INFO - 21:51:57: EPOCH 1 - PROGRESS: at 0.97% examples, 40263 words/s, in_qsize 5, out_qsize 0\n",
            "INFO - 21:51:58: EPOCH 1 - PROGRESS: at 0.97% examples, 40290 words/s, in_qsize 5, out_qsize 0\n",
            "INFO - 21:51:59: EPOCH 1 - PROGRESS: at 0.97% examples, 40286 words/s, in_qsize 5, out_qsize 0\n",
            "INFO - 21:52:00: EPOCH 1 - PROGRESS: at 0.98% examples, 40276 words/s, in_qsize 6, out_qsize 1\n",
            "INFO - 21:52:01: EPOCH 1 - PROGRESS: at 0.98% examples, 40291 words/s, in_qsize 5, out_qsize 0\n",
            "INFO - 21:52:02: EPOCH 1 - PROGRESS: at 0.99% examples, 40302 words/s, in_qsize 5, out_qsize 0\n",
            "INFO - 21:52:03: EPOCH 1 - PROGRESS: at 0.99% examples, 40301 words/s, in_qsize 5, out_qsize 0\n",
            "INFO - 21:52:04: EPOCH 1 - PROGRESS: at 0.99% examples, 40300 words/s, in_qsize 6, out_qsize 0\n",
            "INFO - 21:52:06: EPOCH 1 - PROGRESS: at 1.00% examples, 40307 words/s, in_qsize 5, out_qsize 0\n",
            "INFO - 21:52:06: worker thread finished; awaiting finish of 2 more threads\n",
            "INFO - 21:52:06: worker thread finished; awaiting finish of 1 more threads\n",
            "INFO - 21:52:06: worker thread finished; awaiting finish of 0 more threads\n",
            "INFO - 21:52:06: EPOCH - 1 : training on 17005207 raw words (12688763 effective words) took 314.5s, 40341 effective words/s\n",
            "WARNING - 21:52:06: EPOCH - 1 : supplied example count (170053) did not equal expected count (17005207)\n",
            "INFO - 21:52:06: training on a 17005207 raw words (12688763 effective words) took 314.6s, 40339 effective words/s\n"
          ],
          "name": "stderr"
        }
      ]
    },
    {
      "cell_type": "code",
      "metadata": {
        "colab": {
          "base_uri": "https://localhost:8080/"
        },
        "id": "PFzo3PldJTCn",
        "outputId": "461f71ff-8a1b-4135-a9cf-01309464146e"
      },
      "source": [
        "FT.wv.vectors.shape"
      ],
      "execution_count": null,
      "outputs": [
        {
          "output_type": "execute_result",
          "data": {
            "text/plain": [
              "(27, 100)"
            ]
          },
          "metadata": {
            "tags": []
          },
          "execution_count": 59
        }
      ]
    },
    {
      "cell_type": "markdown",
      "metadata": {
        "id": "obZDnQ87Gzvy"
      },
      "source": [
        "# **Training Word2Vec model**"
      ]
    },
    {
      "cell_type": "code",
      "metadata": {
        "colab": {
          "base_uri": "https://localhost:8080/"
        },
        "id": "t0eeN8SkG5Pn",
        "outputId": "4b6feea1-5801-44db-9f45-48bf68983edc"
      },
      "source": [
        "\n",
        "\n",
        "\n",
        "model = Word2Vec(sentences, size=100, window=10, min_count=0, sg=1, iter=1)"
      ],
      "execution_count": null,
      "outputs": [
        {
          "output_type": "stream",
          "text": [
            "INFO - 21:39:18: collecting all words and their counts\n",
            "INFO - 21:39:18: PROGRESS: at sentence #0, processed 0 words, keeping 0 word types\n",
            "INFO - 21:39:18: PROGRESS: at sentence #10000, processed 1000000 words, keeping 52754 word types\n",
            "INFO - 21:39:18: PROGRESS: at sentence #20000, processed 2000000 words, keeping 78382 word types\n",
            "INFO - 21:39:19: PROGRESS: at sentence #30000, processed 3000000 words, keeping 96644 word types\n",
            "INFO - 21:39:19: PROGRESS: at sentence #40000, processed 4000000 words, keeping 111460 word types\n",
            "INFO - 21:39:19: PROGRESS: at sentence #50000, processed 5000000 words, keeping 125354 word types\n",
            "INFO - 21:39:20: PROGRESS: at sentence #60000, processed 6000000 words, keeping 139565 word types\n",
            "INFO - 21:39:20: PROGRESS: at sentence #70000, processed 7000000 words, keeping 151933 word types\n",
            "INFO - 21:39:20: PROGRESS: at sentence #80000, processed 8000000 words, keeping 164114 word types\n",
            "INFO - 21:39:20: PROGRESS: at sentence #90000, processed 9000000 words, keeping 178162 word types\n",
            "INFO - 21:39:21: PROGRESS: at sentence #100000, processed 10000000 words, keeping 189074 word types\n",
            "INFO - 21:39:21: PROGRESS: at sentence #110000, processed 11000000 words, keeping 198757 word types\n",
            "INFO - 21:39:21: PROGRESS: at sentence #120000, processed 12000000 words, keeping 207894 word types\n",
            "INFO - 21:39:21: PROGRESS: at sentence #130000, processed 13000000 words, keeping 217127 word types\n",
            "INFO - 21:39:22: PROGRESS: at sentence #140000, processed 14000000 words, keeping 226854 word types\n",
            "INFO - 21:39:22: PROGRESS: at sentence #150000, processed 15000000 words, keeping 237390 word types\n",
            "INFO - 21:39:22: PROGRESS: at sentence #160000, processed 16000000 words, keeping 245648 word types\n",
            "INFO - 21:39:23: PROGRESS: at sentence #170000, processed 17000000 words, keeping 253833 word types\n",
            "INFO - 21:39:23: collected 253854 word types from a corpus of 17005207 raw words and 170053 sentences\n",
            "INFO - 21:39:23: Loading a fresh vocabulary\n",
            "INFO - 21:39:25: effective_min_count=0 retains 253854 unique words (100% of original 253854, drops 0)\n",
            "INFO - 21:39:25: effective_min_count=0 leaves 17005207 word corpus (100% of original 17005207, drops 0)\n",
            "INFO - 21:39:26: deleting the raw counts dictionary of 253854 items\n",
            "INFO - 21:39:26: sample=0.001 downsamples 36 most-common words\n",
            "INFO - 21:39:26: downsampling leaves estimated 12819131 word corpus (75.4% of prior 17005207)\n",
            "INFO - 21:39:27: estimated required memory for 253854 words and 100 dimensions: 330010200 bytes\n",
            "INFO - 21:39:27: resetting layer weights\n",
            "INFO - 21:40:22: training model with 3 workers on 253854 vocabulary and 100 features, using sg=1 hs=0 sample=0.001 negative=5 window=10\n",
            "INFO - 21:40:23: EPOCH 1 - PROGRESS: at 0.59% examples, 67300 words/s, in_qsize 5, out_qsize 0\n",
            "INFO - 21:40:24: EPOCH 1 - PROGRESS: at 1.23% examples, 73406 words/s, in_qsize 5, out_qsize 0\n",
            "INFO - 21:40:25: EPOCH 1 - PROGRESS: at 1.88% examples, 75986 words/s, in_qsize 5, out_qsize 0\n",
            "INFO - 21:40:26: EPOCH 1 - PROGRESS: at 2.53% examples, 75008 words/s, in_qsize 5, out_qsize 0\n",
            "INFO - 21:40:27: EPOCH 1 - PROGRESS: at 3.18% examples, 75350 words/s, in_qsize 5, out_qsize 0\n",
            "INFO - 21:40:28: EPOCH 1 - PROGRESS: at 3.88% examples, 75461 words/s, in_qsize 5, out_qsize 0\n",
            "INFO - 21:40:29: EPOCH 1 - PROGRESS: at 4.59% examples, 75221 words/s, in_qsize 5, out_qsize 0\n",
            "INFO - 21:40:30: EPOCH 1 - PROGRESS: at 5.23% examples, 75829 words/s, in_qsize 5, out_qsize 0\n",
            "INFO - 21:40:31: EPOCH 1 - PROGRESS: at 5.94% examples, 76294 words/s, in_qsize 5, out_qsize 0\n",
            "INFO - 21:40:33: EPOCH 1 - PROGRESS: at 6.59% examples, 76422 words/s, in_qsize 5, out_qsize 0\n",
            "INFO - 21:40:34: EPOCH 1 - PROGRESS: at 7.23% examples, 76530 words/s, in_qsize 5, out_qsize 0\n",
            "INFO - 21:40:35: EPOCH 1 - PROGRESS: at 7.82% examples, 76271 words/s, in_qsize 4, out_qsize 1\n",
            "INFO - 21:40:36: EPOCH 1 - PROGRESS: at 8.53% examples, 76423 words/s, in_qsize 5, out_qsize 0\n",
            "INFO - 21:40:37: EPOCH 1 - PROGRESS: at 9.17% examples, 76745 words/s, in_qsize 5, out_qsize 0\n",
            "INFO - 21:40:38: EPOCH 1 - PROGRESS: at 9.76% examples, 76360 words/s, in_qsize 5, out_qsize 0\n",
            "INFO - 21:40:39: EPOCH 1 - PROGRESS: at 10.35% examples, 76207 words/s, in_qsize 5, out_qsize 0\n",
            "INFO - 21:40:40: EPOCH 1 - PROGRESS: at 11.06% examples, 76292 words/s, in_qsize 5, out_qsize 0\n",
            "INFO - 21:40:41: EPOCH 1 - PROGRESS: at 11.70% examples, 76654 words/s, in_qsize 5, out_qsize 0\n",
            "INFO - 21:40:42: EPOCH 1 - PROGRESS: at 12.29% examples, 76234 words/s, in_qsize 5, out_qsize 0\n",
            "INFO - 21:40:43: EPOCH 1 - PROGRESS: at 12.94% examples, 76468 words/s, in_qsize 6, out_qsize 0\n",
            "INFO - 21:40:44: EPOCH 1 - PROGRESS: at 13.58% examples, 76453 words/s, in_qsize 5, out_qsize 0\n",
            "INFO - 21:40:45: EPOCH 1 - PROGRESS: at 14.17% examples, 76410 words/s, in_qsize 5, out_qsize 0\n",
            "INFO - 21:40:46: EPOCH 1 - PROGRESS: at 14.88% examples, 76436 words/s, in_qsize 5, out_qsize 0\n",
            "INFO - 21:40:47: EPOCH 1 - PROGRESS: at 15.52% examples, 76481 words/s, in_qsize 5, out_qsize 0\n",
            "INFO - 21:40:48: EPOCH 1 - PROGRESS: at 16.11% examples, 76431 words/s, in_qsize 5, out_qsize 0\n",
            "INFO - 21:40:50: EPOCH 1 - PROGRESS: at 16.76% examples, 76463 words/s, in_qsize 5, out_qsize 0\n",
            "INFO - 21:40:51: EPOCH 1 - PROGRESS: at 17.41% examples, 76384 words/s, in_qsize 5, out_qsize 0\n",
            "INFO - 21:40:52: EPOCH 1 - PROGRESS: at 17.99% examples, 76348 words/s, in_qsize 5, out_qsize 0\n",
            "INFO - 21:40:53: EPOCH 1 - PROGRESS: at 18.70% examples, 76416 words/s, in_qsize 5, out_qsize 0\n",
            "INFO - 21:40:54: EPOCH 1 - PROGRESS: at 19.35% examples, 76543 words/s, in_qsize 5, out_qsize 0\n",
            "INFO - 21:40:55: EPOCH 1 - PROGRESS: at 19.99% examples, 76379 words/s, in_qsize 5, out_qsize 0\n",
            "INFO - 21:40:56: EPOCH 1 - PROGRESS: at 20.70% examples, 76563 words/s, in_qsize 5, out_qsize 0\n",
            "INFO - 21:40:57: EPOCH 1 - PROGRESS: at 21.29% examples, 76430 words/s, in_qsize 5, out_qsize 0\n",
            "INFO - 21:40:58: EPOCH 1 - PROGRESS: at 21.93% examples, 76450 words/s, in_qsize 5, out_qsize 0\n",
            "INFO - 21:40:59: EPOCH 1 - PROGRESS: at 22.58% examples, 76435 words/s, in_qsize 5, out_qsize 0\n",
            "INFO - 21:41:00: EPOCH 1 - PROGRESS: at 23.23% examples, 76388 words/s, in_qsize 5, out_qsize 0\n",
            "INFO - 21:41:01: EPOCH 1 - PROGRESS: at 23.87% examples, 76531 words/s, in_qsize 5, out_qsize 0\n",
            "INFO - 21:41:03: EPOCH 1 - PROGRESS: at 24.46% examples, 76308 words/s, in_qsize 5, out_qsize 0\n",
            "INFO - 21:41:04: EPOCH 1 - PROGRESS: at 25.17% examples, 76367 words/s, in_qsize 5, out_qsize 0\n",
            "INFO - 21:41:05: EPOCH 1 - PROGRESS: at 25.76% examples, 76353 words/s, in_qsize 4, out_qsize 1\n",
            "INFO - 21:41:06: EPOCH 1 - PROGRESS: at 26.46% examples, 76513 words/s, in_qsize 5, out_qsize 0\n",
            "INFO - 21:41:07: EPOCH 1 - PROGRESS: at 27.11% examples, 76375 words/s, in_qsize 5, out_qsize 0\n",
            "INFO - 21:41:08: EPOCH 1 - PROGRESS: at 27.81% examples, 76350 words/s, in_qsize 5, out_qsize 0\n",
            "INFO - 21:41:09: EPOCH 1 - PROGRESS: at 28.46% examples, 76459 words/s, in_qsize 5, out_qsize 0\n",
            "INFO - 21:41:10: EPOCH 1 - PROGRESS: at 29.11% examples, 76369 words/s, in_qsize 5, out_qsize 0\n",
            "INFO - 21:41:11: EPOCH 1 - PROGRESS: at 29.70% examples, 76406 words/s, in_qsize 6, out_qsize 0\n",
            "INFO - 21:41:12: EPOCH 1 - PROGRESS: at 30.34% examples, 76472 words/s, in_qsize 5, out_qsize 0\n",
            "INFO - 21:41:13: EPOCH 1 - PROGRESS: at 30.93% examples, 76382 words/s, in_qsize 5, out_qsize 0\n",
            "INFO - 21:41:14: EPOCH 1 - PROGRESS: at 31.52% examples, 76354 words/s, in_qsize 5, out_qsize 0\n",
            "INFO - 21:41:16: EPOCH 1 - PROGRESS: at 32.17% examples, 76382 words/s, in_qsize 5, out_qsize 0\n",
            "INFO - 21:41:17: EPOCH 1 - PROGRESS: at 32.75% examples, 76280 words/s, in_qsize 4, out_qsize 1\n",
            "INFO - 21:41:18: EPOCH 1 - PROGRESS: at 33.40% examples, 76304 words/s, in_qsize 5, out_qsize 0\n",
            "INFO - 21:41:19: EPOCH 1 - PROGRESS: at 34.05% examples, 76255 words/s, in_qsize 5, out_qsize 0\n",
            "INFO - 21:41:20: EPOCH 1 - PROGRESS: at 34.70% examples, 76279 words/s, in_qsize 5, out_qsize 0\n",
            "INFO - 21:41:21: EPOCH 1 - PROGRESS: at 35.34% examples, 76377 words/s, in_qsize 5, out_qsize 0\n",
            "INFO - 21:41:22: EPOCH 1 - PROGRESS: at 35.93% examples, 76167 words/s, in_qsize 5, out_qsize 0\n",
            "INFO - 21:41:23: EPOCH 1 - PROGRESS: at 36.52% examples, 76161 words/s, in_qsize 5, out_qsize 0\n",
            "INFO - 21:41:24: EPOCH 1 - PROGRESS: at 37.16% examples, 76240 words/s, in_qsize 5, out_qsize 0\n",
            "INFO - 21:41:25: EPOCH 1 - PROGRESS: at 37.81% examples, 76185 words/s, in_qsize 5, out_qsize 0\n",
            "INFO - 21:41:26: EPOCH 1 - PROGRESS: at 38.46% examples, 76257 words/s, in_qsize 5, out_qsize 0\n",
            "INFO - 21:41:27: EPOCH 1 - PROGRESS: at 39.05% examples, 76211 words/s, in_qsize 5, out_qsize 0\n",
            "INFO - 21:41:28: EPOCH 1 - PROGRESS: at 39.63% examples, 76191 words/s, in_qsize 5, out_qsize 0\n",
            "INFO - 21:41:29: EPOCH 1 - PROGRESS: at 40.28% examples, 76120 words/s, in_qsize 5, out_qsize 0\n",
            "INFO - 21:41:30: EPOCH 1 - PROGRESS: at 40.93% examples, 76197 words/s, in_qsize 5, out_qsize 0\n",
            "INFO - 21:41:31: EPOCH 1 - PROGRESS: at 41.52% examples, 76178 words/s, in_qsize 6, out_qsize 0\n",
            "INFO - 21:41:33: EPOCH 1 - PROGRESS: at 42.16% examples, 76062 words/s, in_qsize 5, out_qsize 0\n",
            "INFO - 21:41:34: EPOCH 1 - PROGRESS: at 42.81% examples, 76136 words/s, in_qsize 5, out_qsize 0\n",
            "INFO - 21:41:35: EPOCH 1 - PROGRESS: at 43.46% examples, 76110 words/s, in_qsize 5, out_qsize 0\n",
            "INFO - 21:41:36: EPOCH 1 - PROGRESS: at 44.10% examples, 76117 words/s, in_qsize 5, out_qsize 0\n",
            "INFO - 21:41:37: EPOCH 1 - PROGRESS: at 44.75% examples, 76067 words/s, in_qsize 5, out_qsize 0\n",
            "INFO - 21:41:38: EPOCH 1 - PROGRESS: at 45.40% examples, 76117 words/s, in_qsize 5, out_qsize 0\n",
            "INFO - 21:41:39: EPOCH 1 - PROGRESS: at 45.99% examples, 76095 words/s, in_qsize 5, out_qsize 0\n",
            "INFO - 21:41:40: EPOCH 1 - PROGRESS: at 46.57% examples, 76087 words/s, in_qsize 5, out_qsize 0\n",
            "INFO - 21:41:41: EPOCH 1 - PROGRESS: at 47.16% examples, 75980 words/s, in_qsize 5, out_qsize 0\n",
            "INFO - 21:41:42: EPOCH 1 - PROGRESS: at 47.81% examples, 76073 words/s, in_qsize 5, out_qsize 0\n",
            "INFO - 21:41:43: EPOCH 1 - PROGRESS: at 48.40% examples, 75973 words/s, in_qsize 5, out_qsize 0\n",
            "INFO - 21:41:44: EPOCH 1 - PROGRESS: at 49.04% examples, 76014 words/s, in_qsize 5, out_qsize 0\n",
            "INFO - 21:41:45: EPOCH 1 - PROGRESS: at 49.63% examples, 75978 words/s, in_qsize 5, out_qsize 0\n",
            "INFO - 21:41:46: EPOCH 1 - PROGRESS: at 50.22% examples, 75962 words/s, in_qsize 6, out_qsize 0\n",
            "INFO - 21:41:47: EPOCH 1 - PROGRESS: at 50.81% examples, 75937 words/s, in_qsize 5, out_qsize 0\n",
            "INFO - 21:41:49: EPOCH 1 - PROGRESS: at 51.45% examples, 75996 words/s, in_qsize 5, out_qsize 0\n",
            "INFO - 21:41:50: EPOCH 1 - PROGRESS: at 52.04% examples, 75851 words/s, in_qsize 5, out_qsize 0\n",
            "INFO - 21:41:51: EPOCH 1 - PROGRESS: at 52.75% examples, 75950 words/s, in_qsize 5, out_qsize 0\n",
            "INFO - 21:41:52: EPOCH 1 - PROGRESS: at 53.34% examples, 75898 words/s, in_qsize 5, out_qsize 0\n",
            "INFO - 21:41:53: EPOCH 1 - PROGRESS: at 53.98% examples, 75907 words/s, in_qsize 5, out_qsize 0\n",
            "INFO - 21:41:54: EPOCH 1 - PROGRESS: at 54.57% examples, 75865 words/s, in_qsize 5, out_qsize 0\n",
            "INFO - 21:41:55: EPOCH 1 - PROGRESS: at 55.22% examples, 75917 words/s, in_qsize 5, out_qsize 0\n",
            "INFO - 21:41:56: EPOCH 1 - PROGRESS: at 55.75% examples, 75833 words/s, in_qsize 5, out_qsize 0\n",
            "INFO - 21:41:57: EPOCH 1 - PROGRESS: at 56.45% examples, 75854 words/s, in_qsize 5, out_qsize 0\n",
            "INFO - 21:41:58: EPOCH 1 - PROGRESS: at 57.10% examples, 75874 words/s, in_qsize 5, out_qsize 0\n",
            "INFO - 21:41:59: EPOCH 1 - PROGRESS: at 57.69% examples, 75826 words/s, in_qsize 5, out_qsize 0\n",
            "INFO - 21:42:01: EPOCH 1 - PROGRESS: at 58.39% examples, 75824 words/s, in_qsize 5, out_qsize 0\n",
            "INFO - 21:42:02: EPOCH 1 - PROGRESS: at 59.10% examples, 75835 words/s, in_qsize 5, out_qsize 0\n",
            "INFO - 21:42:03: EPOCH 1 - PROGRESS: at 59.75% examples, 75832 words/s, in_qsize 5, out_qsize 0\n",
            "INFO - 21:42:04: EPOCH 1 - PROGRESS: at 60.39% examples, 75832 words/s, in_qsize 5, out_qsize 0\n",
            "INFO - 21:42:05: EPOCH 1 - PROGRESS: at 61.04% examples, 75851 words/s, in_qsize 5, out_qsize 0\n",
            "INFO - 21:42:06: EPOCH 1 - PROGRESS: at 61.63% examples, 75843 words/s, in_qsize 5, out_qsize 1\n",
            "INFO - 21:42:07: EPOCH 1 - PROGRESS: at 62.27% examples, 75808 words/s, in_qsize 5, out_qsize 0\n",
            "INFO - 21:42:08: EPOCH 1 - PROGRESS: at 62.98% examples, 75842 words/s, in_qsize 5, out_qsize 0\n",
            "INFO - 21:42:09: EPOCH 1 - PROGRESS: at 63.63% examples, 75903 words/s, in_qsize 5, out_qsize 0\n",
            "INFO - 21:42:10: EPOCH 1 - PROGRESS: at 64.22% examples, 75853 words/s, in_qsize 5, out_qsize 0\n",
            "INFO - 21:42:11: EPOCH 1 - PROGRESS: at 64.86% examples, 75885 words/s, in_qsize 5, out_qsize 0\n",
            "INFO - 21:42:12: EPOCH 1 - PROGRESS: at 65.51% examples, 75876 words/s, in_qsize 5, out_qsize 0\n",
            "INFO - 21:42:14: EPOCH 1 - PROGRESS: at 66.10% examples, 75832 words/s, in_qsize 4, out_qsize 1\n",
            "INFO - 21:42:15: EPOCH 1 - PROGRESS: at 66.69% examples, 75827 words/s, in_qsize 5, out_qsize 0\n",
            "INFO - 21:42:16: EPOCH 1 - PROGRESS: at 67.33% examples, 75859 words/s, in_qsize 5, out_qsize 0\n",
            "INFO - 21:42:17: EPOCH 1 - PROGRESS: at 67.98% examples, 75853 words/s, in_qsize 5, out_qsize 0\n",
            "INFO - 21:42:18: EPOCH 1 - PROGRESS: at 68.63% examples, 75896 words/s, in_qsize 5, out_qsize 0\n",
            "INFO - 21:42:19: EPOCH 1 - PROGRESS: at 69.21% examples, 75846 words/s, in_qsize 4, out_qsize 1\n",
            "INFO - 21:42:20: EPOCH 1 - PROGRESS: at 69.86% examples, 75842 words/s, in_qsize 5, out_qsize 0\n",
            "INFO - 21:42:21: EPOCH 1 - PROGRESS: at 70.51% examples, 75877 words/s, in_qsize 5, out_qsize 0\n",
            "INFO - 21:42:22: EPOCH 1 - PROGRESS: at 71.15% examples, 75929 words/s, in_qsize 5, out_qsize 0\n",
            "INFO - 21:42:23: EPOCH 1 - PROGRESS: at 71.80% examples, 75916 words/s, in_qsize 6, out_qsize 0\n",
            "INFO - 21:42:24: EPOCH 1 - PROGRESS: at 72.45% examples, 75920 words/s, in_qsize 5, out_qsize 0\n",
            "INFO - 21:42:25: EPOCH 1 - PROGRESS: at 73.04% examples, 75920 words/s, in_qsize 5, out_qsize 0\n",
            "INFO - 21:42:26: EPOCH 1 - PROGRESS: at 73.68% examples, 75912 words/s, in_qsize 5, out_qsize 0\n",
            "INFO - 21:42:27: EPOCH 1 - PROGRESS: at 74.33% examples, 75920 words/s, in_qsize 5, out_qsize 0\n",
            "INFO - 21:42:28: EPOCH 1 - PROGRESS: at 74.98% examples, 75947 words/s, in_qsize 5, out_qsize 0\n",
            "INFO - 21:42:29: EPOCH 1 - PROGRESS: at 75.68% examples, 75924 words/s, in_qsize 5, out_qsize 0\n",
            "INFO - 21:42:30: EPOCH 1 - PROGRESS: at 76.33% examples, 75957 words/s, in_qsize 5, out_qsize 0\n",
            "INFO - 21:42:32: EPOCH 1 - PROGRESS: at 76.98% examples, 75923 words/s, in_qsize 5, out_qsize 0\n",
            "INFO - 21:42:33: EPOCH 1 - PROGRESS: at 77.68% examples, 75967 words/s, in_qsize 5, out_qsize 0\n",
            "INFO - 21:42:34: EPOCH 1 - PROGRESS: at 78.33% examples, 75954 words/s, in_qsize 5, out_qsize 0\n",
            "INFO - 21:42:35: EPOCH 1 - PROGRESS: at 78.98% examples, 75954 words/s, in_qsize 5, out_qsize 0\n",
            "INFO - 21:42:36: EPOCH 1 - PROGRESS: at 79.56% examples, 75885 words/s, in_qsize 4, out_qsize 1\n",
            "INFO - 21:42:37: EPOCH 1 - PROGRESS: at 80.27% examples, 75961 words/s, in_qsize 5, out_qsize 0\n",
            "INFO - 21:42:38: EPOCH 1 - PROGRESS: at 80.86% examples, 75919 words/s, in_qsize 5, out_qsize 0\n",
            "INFO - 21:42:39: EPOCH 1 - PROGRESS: at 81.50% examples, 75959 words/s, in_qsize 5, out_qsize 0\n",
            "INFO - 21:42:40: EPOCH 1 - PROGRESS: at 82.09% examples, 75934 words/s, in_qsize 5, out_qsize 0\n",
            "INFO - 21:42:41: EPOCH 1 - PROGRESS: at 82.74% examples, 75951 words/s, in_qsize 5, out_qsize 0\n",
            "INFO - 21:42:42: EPOCH 1 - PROGRESS: at 83.39% examples, 75929 words/s, in_qsize 5, out_qsize 0\n",
            "INFO - 21:42:43: EPOCH 1 - PROGRESS: at 84.03% examples, 75967 words/s, in_qsize 5, out_qsize 0\n",
            "INFO - 21:42:45: EPOCH 1 - PROGRESS: at 84.68% examples, 75924 words/s, in_qsize 5, out_qsize 0\n",
            "INFO - 21:42:46: EPOCH 1 - PROGRESS: at 85.33% examples, 75967 words/s, in_qsize 5, out_qsize 0\n",
            "INFO - 21:42:47: EPOCH 1 - PROGRESS: at 85.91% examples, 75927 words/s, in_qsize 5, out_qsize 0\n",
            "INFO - 21:42:48: EPOCH 1 - PROGRESS: at 86.50% examples, 75911 words/s, in_qsize 5, out_qsize 0\n",
            "INFO - 21:42:49: EPOCH 1 - PROGRESS: at 87.15% examples, 75870 words/s, in_qsize 3, out_qsize 2\n",
            "INFO - 21:42:50: EPOCH 1 - PROGRESS: at 87.85% examples, 75877 words/s, in_qsize 5, out_qsize 0\n",
            "INFO - 21:42:51: EPOCH 1 - PROGRESS: at 88.50% examples, 75924 words/s, in_qsize 5, out_qsize 0\n",
            "INFO - 21:42:52: EPOCH 1 - PROGRESS: at 89.15% examples, 75912 words/s, in_qsize 5, out_qsize 0\n",
            "INFO - 21:42:53: EPOCH 1 - PROGRESS: at 89.68% examples, 75849 words/s, in_qsize 5, out_qsize 0\n",
            "INFO - 21:42:54: EPOCH 1 - PROGRESS: at 90.27% examples, 75796 words/s, in_qsize 5, out_qsize 0\n",
            "INFO - 21:42:55: EPOCH 1 - PROGRESS: at 90.80% examples, 75718 words/s, in_qsize 5, out_qsize 0\n",
            "INFO - 21:42:57: EPOCH 1 - PROGRESS: at 91.32% examples, 75571 words/s, in_qsize 5, out_qsize 0\n",
            "INFO - 21:42:58: EPOCH 1 - PROGRESS: at 91.91% examples, 75481 words/s, in_qsize 5, out_qsize 0\n",
            "INFO - 21:42:59: EPOCH 1 - PROGRESS: at 92.50% examples, 75463 words/s, in_qsize 5, out_qsize 0\n",
            "INFO - 21:43:00: EPOCH 1 - PROGRESS: at 93.09% examples, 75362 words/s, in_qsize 5, out_qsize 0\n",
            "INFO - 21:43:01: EPOCH 1 - PROGRESS: at 93.62% examples, 75267 words/s, in_qsize 5, out_qsize 0\n",
            "INFO - 21:43:02: EPOCH 1 - PROGRESS: at 94.15% examples, 75188 words/s, in_qsize 5, out_qsize 0\n",
            "INFO - 21:43:03: EPOCH 1 - PROGRESS: at 94.68% examples, 75118 words/s, in_qsize 5, out_qsize 0\n",
            "INFO - 21:43:04: EPOCH 1 - PROGRESS: at 95.21% examples, 75069 words/s, in_qsize 5, out_qsize 0\n",
            "INFO - 21:43:05: EPOCH 1 - PROGRESS: at 95.73% examples, 75014 words/s, in_qsize 5, out_qsize 0\n",
            "INFO - 21:43:06: EPOCH 1 - PROGRESS: at 96.26% examples, 74889 words/s, in_qsize 5, out_qsize 0\n",
            "INFO - 21:43:07: EPOCH 1 - PROGRESS: at 96.79% examples, 74819 words/s, in_qsize 5, out_qsize 0\n",
            "INFO - 21:43:08: EPOCH 1 - PROGRESS: at 97.38% examples, 74783 words/s, in_qsize 5, out_qsize 0\n",
            "INFO - 21:43:09: EPOCH 1 - PROGRESS: at 97.91% examples, 74729 words/s, in_qsize 6, out_qsize 0\n",
            "INFO - 21:43:11: EPOCH 1 - PROGRESS: at 98.50% examples, 74666 words/s, in_qsize 5, out_qsize 0\n",
            "INFO - 21:43:12: EPOCH 1 - PROGRESS: at 99.03% examples, 74614 words/s, in_qsize 5, out_qsize 0\n",
            "INFO - 21:43:13: EPOCH 1 - PROGRESS: at 99.62% examples, 74563 words/s, in_qsize 5, out_qsize 0\n",
            "INFO - 21:43:13: worker thread finished; awaiting finish of 2 more threads\n",
            "INFO - 21:43:13: worker thread finished; awaiting finish of 1 more threads\n",
            "INFO - 21:43:13: worker thread finished; awaiting finish of 0 more threads\n",
            "INFO - 21:43:13: EPOCH - 1 : training on 17005207 raw words (12818507 effective words) took 171.8s, 74594 effective words/s\n",
            "INFO - 21:43:13: training on a 17005207 raw words (12818507 effective words) took 171.9s, 74589 effective words/s\n"
          ],
          "name": "stderr"
        }
      ]
    },
    {
      "cell_type": "code",
      "metadata": {
        "colab": {
          "base_uri": "https://localhost:8080/"
        },
        "id": "vrIFRtZsExvb",
        "outputId": "e47f6760-f127-423c-f9e3-2d586d60b66e"
      },
      "source": [
        "model.wv.most_similar('good')"
      ],
      "execution_count": null,
      "outputs": [
        {
          "output_type": "stream",
          "text": [
            "INFO - 21:44:36: precomputing L2-norms of word weight vectors\n"
          ],
          "name": "stderr"
        },
        {
          "output_type": "execute_result",
          "data": {
            "text/plain": [
              "[('bad', 0.8939357995986938),\n",
              " ('comfort', 0.8443499207496643),\n",
              " ('strangers', 0.8391270041465759),\n",
              " ('hope', 0.8386892080307007),\n",
              " ('pretty', 0.8323804140090942),\n",
              " ('obvious', 0.8322949409484863),\n",
              " ('obviously', 0.8301957845687866),\n",
              " ('truly', 0.8288798332214355),\n",
              " ('saving', 0.8288421034812927),\n",
              " ('luck', 0.8280301094055176)]"
            ]
          },
          "metadata": {
            "tags": []
          },
          "execution_count": 80
        }
      ]
    },
    {
      "cell_type": "markdown",
      "metadata": {
        "id": "dzGzTfYW9k-s"
      },
      "source": [
        "**#memory required by FastText and Word2Vec**"
      ]
    },
    {
      "cell_type": "code",
      "metadata": {
        "colab": {
          "base_uri": "https://localhost:8080/"
        },
        "id": "mQkq0RWdLZt4",
        "outputId": "d9a7d3e3-fa20-4e5c-b017-cb8e3c5f7ffd"
      },
      "source": [
        "print(\"memory required by FastText:\",412704748/2**20,\"MB\")\n",
        "print(\"memory required by Word2Vec:\",330010200/2**20,\"MB\")\n"
      ],
      "execution_count": null,
      "outputs": [
        {
          "output_type": "stream",
          "text": [
            "memory required by FastText: 393.5859184265137 MB\n",
            "memory required by Word2Vec: 314.72225189208984 MB\n"
          ],
          "name": "stdout"
        }
      ]
    },
    {
      "cell_type": "markdown",
      "metadata": {
        "id": "x3qajBhqovT2"
      },
      "source": [
        "# **Sentiment analysis**"
      ]
    },
    {
      "cell_type": "code",
      "metadata": {
        "id": "xYv7hCfApZBB"
      },
      "source": [
        "file1 = open('/content/drive/MyDrive/Unsupervised learning encoder/1000.pos') \n",
        "file2 = open('/content/drive/MyDrive/Unsupervised learning encoder/1000.neg') \n",
        "file3 = open('/content/drive/MyDrive/Unsupervised learning encoder/100.pos') \n",
        "file4 = open('/content/drive/MyDrive/Unsupervised learning encoder/100.neg') \n",
        "\n",
        "def processing(F):\n",
        "  x=[]\n",
        "  for line in F:\n",
        "    l=line.split()\n",
        "    stop_words = set(stopwords.words('english'))\n",
        "    d1=[]\n",
        "    for word in l:\n",
        "     if word not in stop_words:\n",
        "\n",
        "        d1.append(word)\n",
        "    x.append(d1)\n",
        "  return x"
      ],
      "execution_count": null,
      "outputs": []
    },
    {
      "cell_type": "code",
      "metadata": {
        "colab": {
          "base_uri": "https://localhost:8080/"
        },
        "id": "imFIgtbqpqVT",
        "outputId": "4ed817ef-12c5-4c13-b322-952e76e1e6d0"
      },
      "source": [
        "train_data=processing(file1)\n",
        "print(len(train_data))\n",
        "train_data=train_data+processing(file2)\n",
        "test_data=processing(file3)\n",
        "test_data=test_data+processing(file4)\n",
        "len(test_data)"
      ],
      "execution_count": null,
      "outputs": [
        {
          "output_type": "stream",
          "text": [
            "1000\n"
          ],
          "name": "stdout"
        },
        {
          "output_type": "execute_result",
          "data": {
            "text/plain": [
              "200"
            ]
          },
          "metadata": {
            "tags": []
          },
          "execution_count": 86
        }
      ]
    },
    {
      "cell_type": "code",
      "metadata": {
        "colab": {
          "base_uri": "https://localhost:8080/"
        },
        "id": "IVA4wjw5ptEs",
        "outputId": "5b930ec3-fc28-4a96-9637-534c0b410632"
      },
      "source": [
        "train_label=[1]*1000+[0]*1000\n",
        "test_label=[1]*100+[0]*100\n",
        "len(train_label)"
      ],
      "execution_count": null,
      "outputs": [
        {
          "output_type": "execute_result",
          "data": {
            "text/plain": [
              "2000"
            ]
          },
          "metadata": {
            "tags": []
          },
          "execution_count": 87
        }
      ]
    },
    {
      "cell_type": "markdown",
      "metadata": {
        "id": "0ONas-P4qLvS"
      },
      "source": [
        "# **Using Word2Vec representation**"
      ]
    },
    {
      "cell_type": "code",
      "metadata": {
        "id": "bFyK1zJgqP7d"
      },
      "source": [
        "import numpy as np\n",
        "embedding_size=100\n",
        "def avg_vectors(X):\n",
        "  data=[]\n",
        "  for l in X:\n",
        "    v=[]\n",
        "    for i in l:\n",
        "      if i  in model.wv.index2word:\n",
        "        v.append(model.wv[i])\n",
        "      else:\n",
        "        v.append(model.wv[\"unknown\"])\n",
        "    avg_vec=np.mean(np.array(v),axis=0)\n",
        "    data.append(avg_vec)\n",
        "  return data\n"
      ],
      "execution_count": null,
      "outputs": []
    },
    {
      "cell_type": "code",
      "metadata": {
        "colab": {
          "base_uri": "https://localhost:8080/"
        },
        "id": "b3A6dSP-rRnQ",
        "outputId": "ac678119-1b41-4bd8-c138-ff6f3b613d6e"
      },
      "source": [
        "model.wv[\"unknown\"]"
      ],
      "execution_count": null,
      "outputs": [
        {
          "output_type": "execute_result",
          "data": {
            "text/plain": [
              "array([-0.14544678, -0.37975106,  0.38132197, -0.4015947 , -0.21828325,\n",
              "       -0.1287177 ,  0.09395888,  0.23109877, -0.2827777 , -0.04709204,\n",
              "        0.08992554,  0.8335052 ,  0.12048816,  0.24378677, -0.13778047,\n",
              "       -0.12902412, -0.2633663 ,  0.13547611, -0.33604416,  0.23599377,\n",
              "       -0.3207284 , -0.7181133 , -0.21014564, -0.32232195, -0.07569901,\n",
              "        0.05210822, -0.6237439 ,  0.34161785,  0.66719526,  0.2573412 ,\n",
              "        0.21693724, -0.1856327 , -0.33694494, -0.13682204, -0.32141066,\n",
              "       -0.5345913 , -0.30356294,  0.08400413,  0.3321456 ,  0.10201646,\n",
              "        0.0621512 , -0.1695836 ,  0.05564371,  0.12523884, -0.19712181,\n",
              "       -0.55446625, -0.38241756,  0.10669305, -0.11699919,  0.18945037,\n",
              "        0.30461115, -0.08231504, -0.08335017,  0.05912669, -0.15791084,\n",
              "       -0.10560589,  0.15351063,  0.0538549 , -0.22531775, -0.33755735,\n",
              "       -0.37972778,  0.19575536,  0.04371952,  0.18483186, -0.43622988,\n",
              "       -0.30691934,  0.09990846,  0.58987814,  0.50022024, -0.11391102,\n",
              "        0.19235094, -0.09191283,  0.03797619,  0.20043632,  0.43669695,\n",
              "        0.00938617, -0.28713003,  0.04007839, -0.49739054,  0.04204306,\n",
              "        0.04535688, -0.06087573,  0.55539256,  0.5001354 ,  0.02871414,\n",
              "        0.08194415,  0.25447363, -0.02265179, -0.17650056,  0.09844895,\n",
              "       -0.02461746, -0.3152392 , -0.2919071 ,  0.2851608 ,  0.10015599,\n",
              "        0.2532442 , -0.19314444,  0.75625247, -0.05935085, -0.268389  ],\n",
              "      dtype=float32)"
            ]
          },
          "metadata": {
            "tags": []
          },
          "execution_count": 104
        }
      ]
    },
    {
      "cell_type": "code",
      "metadata": {
        "id": "NumsrM7jqglg"
      },
      "source": [
        "train=avg_vectors(train_data)\n",
        "test=avg_vectors(test_data)"
      ],
      "execution_count": null,
      "outputs": []
    },
    {
      "cell_type": "code",
      "metadata": {
        "id": "qo72uIIfqmi8"
      },
      "source": [
        "#training logistic regression\n",
        "\n",
        "clf = LogisticRegression(random_state=0,max_iter=100).fit(train, train_label)"
      ],
      "execution_count": null,
      "outputs": []
    },
    {
      "cell_type": "code",
      "metadata": {
        "colab": {
          "base_uri": "https://localhost:8080/"
        },
        "id": "AkAFCgHOtUEb",
        "outputId": "68523814-52aa-4daf-d40a-078f9599a37a"
      },
      "source": [
        "#accuracy on training data\n",
        "print(\"accuracy on training set\",clf.score(train,train_label))"
      ],
      "execution_count": null,
      "outputs": [
        {
          "output_type": "stream",
          "text": [
            "accuracy on training set 0.8015\n"
          ],
          "name": "stdout"
        }
      ]
    },
    {
      "cell_type": "code",
      "metadata": {
        "colab": {
          "base_uri": "https://localhost:8080/"
        },
        "id": "vxw0nutKtYAg",
        "outputId": "4f5683e9-edcb-40c9-8de8-ac745ddc25ae"
      },
      "source": [
        "print(\"accuracy on test data\",clf.score(test,test_label))"
      ],
      "execution_count": null,
      "outputs": [
        {
          "output_type": "stream",
          "text": [
            "accuracy on test data 0.73\n"
          ],
          "name": "stdout"
        }
      ]
    },
    {
      "cell_type": "code",
      "metadata": {
        "id": "f-ehsA_btaQo"
      },
      "source": [
        ""
      ],
      "execution_count": null,
      "outputs": []
    },
    {
      "cell_type": "markdown",
      "metadata": {
        "id": "gMzN34rOtbNi"
      },
      "source": [
        "# **Using fasttext representation**"
      ]
    },
    {
      "cell_type": "code",
      "metadata": {
        "id": "agqd1hvhtfmr"
      },
      "source": [
        "import numpy as np\n",
        "embedding_size=100\n",
        "def avg_vectors(X):\n",
        "  data=[]\n",
        "  for l in X:\n",
        "    v=[]\n",
        "    for i in l:\n",
        "      if i.isalpha():\n",
        "        v.append(FT.wv[i])\n",
        "    if(len(v)==0):\n",
        "      v.append(np.zeros(100))\n",
        "    avg_vec=np.mean(np.array(v),axis=0)\n",
        "    data.append(avg_vec)\n",
        "  return data\n"
      ],
      "execution_count": null,
      "outputs": []
    },
    {
      "cell_type": "code",
      "metadata": {
        "colab": {
          "base_uri": "https://localhost:8080/"
        },
        "id": "TkGwIe86wmOc",
        "outputId": "a390c677-42eb-4a8a-c6e5-8ab17398162e"
      },
      "source": [
        "print([train_data[0]])\n",
        "print(\"'s \")"
      ],
      "execution_count": null,
      "outputs": [
        {
          "output_type": "stream",
          "text": [
            "[['cashiers', 'nice', 'good', 'deals', '.']]\n",
            "'s \n"
          ],
          "name": "stdout"
        }
      ]
    },
    {
      "cell_type": "code",
      "metadata": {
        "id": "M8j_1K7LtqoT"
      },
      "source": [
        "train=avg_vectors(train_data)\n",
        "test=avg_vectors(test_data)"
      ],
      "execution_count": null,
      "outputs": []
    },
    {
      "cell_type": "code",
      "metadata": {
        "id": "ikCKtWwstsBo"
      },
      "source": [
        "#training logistic regression\n",
        "from sklearn.linear_model import LogisticRegression\n",
        "clf = LogisticRegression(random_state=0,max_iter=100).fit(test, test_label)"
      ],
      "execution_count": null,
      "outputs": []
    },
    {
      "cell_type": "code",
      "metadata": {
        "colab": {
          "base_uri": "https://localhost:8080/"
        },
        "id": "qQVLd57eul15",
        "outputId": "fe0ebec8-5bdb-4af2-b783-3aa38cd2750b"
      },
      "source": [
        "# # accuracy on training data\n",
        "print(\"accuracy on training set\",clf.score(train,train_label))"
      ],
      "execution_count": null,
      "outputs": [
        {
          "output_type": "stream",
          "text": [
            "accuracy on training set 0.8803\n"
          ],
          "name": "stdout"
        }
      ]
    },
    {
      "cell_type": "code",
      "metadata": {
        "colab": {
          "base_uri": "https://localhost:8080/"
        },
        "id": "DWRU6pNvuo6Q",
        "outputId": "5cb8032c-170b-41c4-def1-431a641ee310"
      },
      "source": [
        "print(\"accuracy on test data\",clf.score(test,test_label))"
      ],
      "execution_count": null,
      "outputs": [
        {
          "output_type": "stream",
          "text": [
            "accuracy on test data 0.89\n"
          ],
          "name": "stdout"
        }
      ]
    },
    {
      "cell_type": "code",
      "metadata": {
        "id": "xascNGQyur_C"
      },
      "source": [
        ""
      ],
      "execution_count": null,
      "outputs": []
    },
    {
      "cell_type": "markdown",
      "metadata": {
        "id": "uE1kIEDs4itv"
      },
      "source": [
        "References\n",
        "[THE INNER WORKINGS OF WORD2VEC\n",
        "](https://www.chrismccormick.ai/word2vec-ebook?utm_source=blog&utm_medium=banner&utm_campaign=w2v_ebook&utm_content=post6)\n",
        "\n",
        "\n",
        "[A Quick Overview of the Difference Between Word2vec and FastText](https://medium.com/swlh/a-quick-overview-of-the-main-difference-between-word2vec-and-fasttext-b9d3f6e274e9#:~:text=In%20this%20sense%20Word2vec%20is%20very%20similar%20to%20Glove%20%E2%80%94%20both,smallest%20unit%20to%20train%20on.&text=The%20key%20difference%20between%20FastText,the%20use%20of%20n%2Dgrams.&text=N%2Dgram%20feature%20is%20the,%2Dof%2DVocabulary))"
      ]
    }
  ]
}