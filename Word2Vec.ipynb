{
  "nbformat": 4,
  "nbformat_minor": 0,
  "metadata": {
    "colab": {
      "name": "Word2Vec.ipynb",
      "provenance": [],
      "collapsed_sections": []
    },
    "kernelspec": {
      "name": "python3",
      "display_name": "Python 3"
    },
    "language_info": {
      "name": "python"
    },
    "accelerator": "GPU"
  },
  "cells": [
    {
      "cell_type": "code",
      "metadata": {
        "colab": {
          "base_uri": "https://localhost:8080/"
        },
        "id": "5WtqISwb_twl",
        "outputId": "2e01cab6-9aa2-4d49-8936-8ba17214e224"
      },
      "source": [
        "from google.colab import drive\n",
        "drive.mount('/content/drive')"
      ],
      "execution_count": null,
      "outputs": [
        {
          "output_type": "stream",
          "text": [
            "Mounted at /content/drive\n"
          ],
          "name": "stdout"
        }
      ]
    },
    {
      "cell_type": "markdown",
      "metadata": {
        "id": "1wtlyy5KDxf5"
      },
      "source": [
        "# **Importing Required Packages**"
      ]
    },
    {
      "cell_type": "code",
      "metadata": {
        "id": "o16Gfas9D145"
      },
      "source": [
        "from collections import Counter\n",
        "import random\n",
        "import numpy as np\n",
        "import pandas as pd\n",
        "\n",
        "from nltk.tokenize import RegexpTokenizer\n",
        "from torch.utils.data import DataLoader\n",
        "from torch.nn.utils.rnn import pad_sequence\n",
        "\n",
        "import torch\n",
        "import torch.nn  as  nn\n",
        "import torch.optim as optim\n",
        "import torch.nn.functional as F"
      ],
      "execution_count": null,
      "outputs": []
    },
    {
      "cell_type": "markdown",
      "metadata": {
        "id": "yrvqvLVzCr6y"
      },
      "source": [
        "# **Importing the Dataset**"
      ]
    },
    {
      "cell_type": "markdown",
      "metadata": {
        "id": "go2dzMuyC0V2"
      },
      "source": [
        "For our project we are using the Text8 dataset"
      ]
    },
    {
      "cell_type": "code",
      "metadata": {
        "id": "uZIP8zqq_2kP"
      },
      "source": [
        "F=open('/content/drive/My Drive/MLProject/text8')"
      ],
      "execution_count": null,
      "outputs": []
    },
    {
      "cell_type": "code",
      "metadata": {
        "id": "vPYKQHbKCFmV"
      },
      "source": [
        "\n",
        "data=F.read()"
      ],
      "execution_count": null,
      "outputs": []
    },
    {
      "cell_type": "code",
      "metadata": {
        "colab": {
          "base_uri": "https://localhost:8080/"
        },
        "id": "leibBlJsKqto",
        "outputId": "d9e870d0-f107-43b5-e382-1a561f2fe199"
      },
      "source": [
        "len(data)"
      ],
      "execution_count": null,
      "outputs": [
        {
          "output_type": "execute_result",
          "data": {
            "text/plain": [
              "100000000"
            ]
          },
          "metadata": {
            "tags": []
          },
          "execution_count": 8
        }
      ]
    },
    {
      "cell_type": "code",
      "metadata": {
        "id": "bL7CPA8rcvky"
      },
      "source": [
        "data=data[0:10000000]"
      ],
      "execution_count": null,
      "outputs": []
    },
    {
      "cell_type": "markdown",
      "metadata": {
        "id": "8_b2jnhyUR7c"
      },
      "source": [
        "# **Preprocessing the dataset**"
      ]
    },
    {
      "cell_type": "code",
      "metadata": {
        "colab": {
          "base_uri": "https://localhost:8080/"
        },
        "id": "5sUHz5QxIk6G",
        "outputId": "25923e7f-4c04-4a84-902a-3ab08f2cc0b1"
      },
      "source": [
        "import nltk\n",
        "nltk.download('stopwords')\n",
        "from nltk.corpus import stopwords\n",
        "from collections import Counter\n",
        "# stop_words = set(stopwords.words('english'))"
      ],
      "execution_count": null,
      "outputs": [
        {
          "output_type": "stream",
          "text": [
            "[nltk_data] Downloading package stopwords to /root/nltk_data...\n",
            "[nltk_data]   Unzipping corpora/stopwords.zip.\n"
          ],
          "name": "stdout"
        }
      ]
    },
    {
      "cell_type": "code",
      "metadata": {
        "id": "LDu6Rf7hCbJc"
      },
      "source": [
        "def process_data(data):\n",
        "  data=data.lower()\n",
        "  data=data.split()\n",
        "  stop_words = set(stopwords.words('english'))\n",
        "  data1=[]\n",
        "  for word in data:\n",
        "    if word not in stop_words:\n",
        "      data1.append(word)\n",
        "  word_counts = Counter(data1)\n",
        "  data2 = [word for word in data1 if word_counts[word] > 5]\n",
        "  data=data2\n",
        "\n",
        "\n",
        "  E_count=1\n",
        "  # dictioanry for keeping the frequency of each word\n",
        "  E_wordCount={}\n",
        "  # dictioanry to find the index for a word in English\n",
        "  E_word2index={}\n",
        "\n",
        "  # dictionary to find the English word for a particular index\n",
        "  E_index2word={}\n",
        "\n",
        "  for word in data:\n",
        "    E_wordCount[word]= E_wordCount.get(word,0)+1\n",
        "    if (word not in E_word2index.keys()): # check if the token already exists in English dictionary\n",
        "      # if the token is not present in English dictionary then add it to word2index and index2word English dictionary\n",
        "      E_word2index[word]= E_count\n",
        "      E_index2word[E_count]=word\n",
        "      E_count+=1 # increasing the count of words in English vocabulary\n",
        "    else:\n",
        "      E_wordCount[word]+=1 # if the token exists in dictionary then simply increase it's count of occurrence\n",
        "  return data,E_wordCount,E_word2index,E_index2word\n"
      ],
      "execution_count": null,
      "outputs": []
    },
    {
      "cell_type": "code",
      "metadata": {
        "id": "ERTVO3TmUK5B"
      },
      "source": [
        "processed_data,E_wordCount,E_word2index,E_index2word=process_data(data)"
      ],
      "execution_count": null,
      "outputs": []
    },
    {
      "cell_type": "code",
      "metadata": {
        "id": "t1NL7EVpU0eA"
      },
      "source": [
        "#vocab\n",
        "word=[word for word in processed_data]\n",
        "vocab=set(word)"
      ],
      "execution_count": null,
      "outputs": []
    },
    {
      "cell_type": "code",
      "metadata": {
        "colab": {
          "base_uri": "https://localhost:8080/"
        },
        "id": "Y4FncppKWLDU",
        "outputId": "dea60c9d-a46a-4f65-b919-444c9b900f9e"
      },
      "source": [
        "vocab=set(word)\n",
        "print(len(word))\n",
        "print(\"vocab size:\",len(vocab))"
      ],
      "execution_count": null,
      "outputs": [
        {
          "output_type": "stream",
          "text": [
            "997396\n",
            "vocab size: 17039\n"
          ],
          "name": "stdout"
        }
      ]
    },
    {
      "cell_type": "code",
      "metadata": {
        "id": "amd2n1zKWOx5"
      },
      "source": [
        "V=len(vocab)"
      ],
      "execution_count": null,
      "outputs": []
    },
    {
      "cell_type": "code",
      "metadata": {
        "colab": {
          "base_uri": "https://localhost:8080/"
        },
        "id": "afSSXgNZLa52",
        "outputId": "c556ff67-51a0-46de-8408-8485a3471ed6"
      },
      "source": [
        "V"
      ],
      "execution_count": null,
      "outputs": [
        {
          "output_type": "execute_result",
          "data": {
            "text/plain": [
              "17039"
            ]
          },
          "metadata": {
            "tags": []
          },
          "execution_count": 16
        }
      ]
    },
    {
      "cell_type": "markdown",
      "metadata": {
        "id": "fl2E0fgKJnsZ"
      },
      "source": [
        "# **SubSampling**"
      ]
    },
    {
      "cell_type": "code",
      "metadata": {
        "id": "NcWqSQVGJqid"
      },
      "source": [
        "wordinint=[]\n",
        "for word in processed_data:\n",
        "  wordinint.append(E_word2index[word])"
      ],
      "execution_count": null,
      "outputs": []
    },
    {
      "cell_type": "code",
      "metadata": {
        "colab": {
          "base_uri": "https://localhost:8080/"
        },
        "id": "CDi71PApJ2FY",
        "outputId": "480b76a5-06d4-4986-f8ea-4447c386b4a3"
      },
      "source": [
        "print(wordinint[:30])"
      ],
      "execution_count": null,
      "outputs": [
        {
          "output_type": "stream",
          "text": [
            "[1, 2, 3, 4, 5, 6, 7, 8, 9, 10, 11, 12, 13, 14, 15, 13, 16, 3, 17, 6, 18, 19, 20, 21, 6, 22, 23, 24, 25, 26]\n"
          ],
          "name": "stdout"
        }
      ]
    },
    {
      "cell_type": "code",
      "metadata": {
        "colab": {
          "base_uri": "https://localhost:8080/"
        },
        "id": "J9_EYhXyJ3wJ",
        "outputId": "4ef99759-2c65-4b53-ef14-d223cb84aa2c"
      },
      "source": [
        "\n",
        "\n",
        "threshold = 1e-5\n",
        "word_counts = Counter(wordinint)\n",
        "#print(list(word_counts.items())[0])  # dictionary of int_words, how many times they appear\n",
        "\n",
        "total_count = len(processed_data)\n",
        "freq={}\n",
        "for word,count in word_counts.items():\n",
        "  freq[word]=count/total_count\n",
        "print(freq[1])\n",
        "p_drop = {word: 1 - np.sqrt(threshold/freq[word]) for word,_ in word_counts.items()}\n",
        "train_words = [word for word in wordinint if random.random() < (1 - p_drop[word])]\n",
        "\n",
        "print(train_words[:30])"
      ],
      "execution_count": null,
      "outputs": [
        {
          "output_type": "stream",
          "text": [
            "0.00015740989536753707\n",
            "[4, 14, 15, 16, 18, 23, 1, 48, 55, 56, 62, 63, 64, 56, 56, 69, 54, 52, 71, 74, 78, 80, 1, 81, 90, 93, 94, 96, 97, 90]\n"
          ],
          "name": "stdout"
        }
      ]
    },
    {
      "cell_type": "code",
      "metadata": {
        "id": "ugrfTKHUKqnp",
        "colab": {
          "base_uri": "https://localhost:8080/"
        },
        "outputId": "92bf89d9-c049-46f9-aa1c-b5a1f85694b7"
      },
      "source": [
        "\n",
        "len(train_words)"
      ],
      "execution_count": null,
      "outputs": [
        {
          "output_type": "execute_result",
          "data": {
            "text/plain": [
              "290399"
            ]
          },
          "metadata": {
            "tags": []
          },
          "execution_count": 46
        }
      ]
    },
    {
      "cell_type": "code",
      "metadata": {
        "colab": {
          "base_uri": "https://localhost:8080/"
        },
        "id": "l6959E-HfU43",
        "outputId": "5a9695c8-e732-425a-cc80-67e1c925e839"
      },
      "source": [
        "tuples = []\n",
        "w = 3\n",
        "for i, word in enumerate(train_words):\n",
        "  start = max(0,i-w)\n",
        "  end = min(i+w, len(train_words))\n",
        "  for j in range(start,end):\n",
        "    if i!=j:\n",
        "      tuples.append((word, train_words[j]))\n",
        "print(\"There are {} pairs \".format(len(tuples)))"
      ],
      "execution_count": null,
      "outputs": [
        {
          "output_type": "stream",
          "text": [
            "There are 1451986 pairs \n"
          ],
          "name": "stdout"
        }
      ]
    },
    {
      "cell_type": "markdown",
      "metadata": {
        "id": "8YD3l-hQiP1H"
      },
      "source": [
        "# **Word2Vec Model**"
      ]
    },
    {
      "cell_type": "code",
      "metadata": {
        "id": "KHmX5Bq3iTSn"
      },
      "source": [
        "\n",
        "\n",
        "\n",
        "class W2V_Model(nn.Module):\n",
        "\n",
        "    def __init__(self, embedding_size, vocab_size):\n",
        "        super(W2V_Model, self).__init__()\n",
        "        #embedding layer to get the center word embeeding \n",
        "        self.embeddings = nn.Embedding(vocab_size, embedding_size)\n",
        "        #linear layer to get the similiarity of center word with all the  words\n",
        "        self.linear = nn.Linear(embedding_size, vocab_size)\n",
        "\n",
        "        #initialising weights\n",
        "        self.embeddings.weight.data.uniform_(-1,1)\n",
        "        self.linear.weight.data.uniform_(-1,1)\n",
        "        \n",
        "    def forward(self, word):\n",
        "        #passing input index to embedding layer\n",
        "        emb = self.embeddings(word)\n",
        "        hidden = self.linear(emb)\n",
        "        #applying softmax\n",
        "        out = F.log_softmax(hidden)\n",
        "        return out\n",
        "    def repre(self,x):\n",
        "        #return corresponding word embedding\n",
        "        return self.embeddings(x)\n",
        "\n",
        "    "
      ],
      "execution_count": null,
      "outputs": []
    },
    {
      "cell_type": "markdown",
      "metadata": {
        "id": "5pOx_87EmQho"
      },
      "source": [
        "# **Training the Model**"
      ]
    },
    {
      "cell_type": "code",
      "metadata": {
        "id": "nkgo840tNkXz"
      },
      "source": [
        "#instantiating the model\n",
        "w2v=W2V_Model(100,V+1)"
      ],
      "execution_count": null,
      "outputs": []
    },
    {
      "cell_type": "code",
      "metadata": {
        "id": "7Qmyc67Ci91K"
      },
      "source": [
        "#defining Batch size\n",
        "batch_size=128\n"
      ],
      "execution_count": null,
      "outputs": []
    },
    {
      "cell_type": "code",
      "metadata": {
        "id": "wOUOuorEYQNP",
        "colab": {
          "base_uri": "https://localhost:8080/"
        },
        "outputId": "531bb112-3e26-4843-9ae6-d176086a098e"
      },
      "source": [
        "w2v.eval()"
      ],
      "execution_count": null,
      "outputs": [
        {
          "output_type": "execute_result",
          "data": {
            "text/plain": [
              "W2V_Model(\n",
              "  (embeddings): Embedding(17040, 100)\n",
              "  (linear): Linear(in_features=100, out_features=17040, bias=True)\n",
              ")"
            ]
          },
          "metadata": {
            "tags": []
          },
          "execution_count": 18
        }
      ]
    },
    {
      "cell_type": "code",
      "metadata": {
        "id": "oJy65jxyHNcY"
      },
      "source": [
        "#making list of target,context pairs\n",
        "data=[]\n",
        "for i in range(0,len(tuples)):\n",
        "  t=[]\n",
        "  # x=np.zeros(V)\n",
        "  # x[context_tuple_list[j][0]]=1\n",
        "  t.append(tuples[j][0])\n",
        "  t.append(tuples[j][1])\n",
        "  data.append(t)\n",
        "\n",
        "\n"
      ],
      "execution_count": null,
      "outputs": []
    },
    {
      "cell_type": "code",
      "metadata": {
        "colab": {
          "base_uri": "https://localhost:8080/"
        },
        "id": "B6v-HGOWQy96",
        "outputId": "9ea4f516-9614-4ad3-fcd9-76dfb8d14913"
      },
      "source": [
        "len(data)"
      ],
      "execution_count": null,
      "outputs": [
        {
          "output_type": "execute_result",
          "data": {
            "text/plain": [
              "1451986"
            ]
          },
          "metadata": {
            "tags": []
          },
          "execution_count": 52
        }
      ]
    },
    {
      "cell_type": "code",
      "metadata": {
        "id": "VV-3a1huKDQK"
      },
      "source": [
        "#train data iterator\n",
        "train_iter = DataLoader(data, batch_size=1024,shuffle=True) "
      ],
      "execution_count": null,
      "outputs": []
    },
    {
      "cell_type": "code",
      "metadata": {
        "id": "JlyCPSEpOpdI"
      },
      "source": [
        "#defining loss function and optimizer\n",
        "criterion = nn.CrossEntropyLoss() \n",
        "optimizer = optim.AdamW(w2v.parameters(), lr=0.001) # AdamW optimizer is used \n",
        "\n"
      ],
      "execution_count": null,
      "outputs": []
    },
    {
      "cell_type": "code",
      "metadata": {
        "id": "0-_ovqYUXHGC"
      },
      "source": [
        "path = \"/content/drive/My Drive/MLProject/model\"\n",
        "path5 = \"/content/drive/My Drive/MLProject/model5\"\n",
        "path10 = \"/content/drive/My Drive/MLProject/model10\"\n",
        "path15 = \"/content/drive/My Drive/MLProject/model15\"\n",
        "path20 = \"/content/drive/My Drive/MLProject/model20\"\n",
        "path25 = \"/content/drive/My Drive/MLProject/model25\"\n",
        "path30 = \"/content/drive/My Drive/MLProject/model30\"\n",
        "path35 = \"/content/drive/My Drive/MLProject/model35\""
      ],
      "execution_count": null,
      "outputs": []
    },
    {
      "cell_type": "code",
      "metadata": {
        "colab": {
          "base_uri": "https://localhost:8080/"
        },
        "id": "SffaFYgS6XDS",
        "outputId": "c9d08d99-5fe4-4bd4-f9cb-32b2f2e417d8"
      },
      "source": [
        "#training loop\n",
        "import time\n",
        "training_loss=[]\n",
        "epochs=12\n",
        "sum=0\n",
        "for epoch in range(epochs):\n",
        "  l=0\n",
        "  t0 = time.time()\n",
        "  for id, (x,y) in enumerate(train_iter): \n",
        "    # print(type(x))\n",
        "    output=w2v(x) #getting output vector\n",
        "    \n",
        "    optimizer.zero_grad()  \n",
        "    loss=criterion(output,y)  #calculating loss\n",
        "    loss.backward()  #gradient descent\n",
        "    optimizer.step()\n",
        "    l=l+loss.item()\n",
        "    del x,y\n",
        "  if(epoch==5): # saving the model after every 5 epochs \n",
        "    torch.save(w2v,path5)\n",
        "  elif(epoch==10):\n",
        "    torch.save(w2v,path10)\n",
        "  elif(epoch==15):\n",
        "    torch.save(w2v,path15)\n",
        "  elif(epoch==20):\n",
        "    torch.save(w2v,path20)\n",
        "  elif(epoch==25):\n",
        "    torch.save(w2v,path25)\n",
        "  elif(epoch==30):\n",
        "    torch.save(w2v,path30)\n",
        "  elif(epoch==35):\n",
        "    torch.save(w2v,path35)\n",
        "  training_loss.append(l)    \n",
        "\n",
        "  print(\"--------epoch:\",epoch,\":\",l)\n",
        "  print('Time taken :  {} seconds'.format(time.time() - t0))\n",
        "  sum=sum+time.time()-t0\n",
        "print(\"--------------averge time taken by epoch:\",sum/epochs)\n",
        "    \n",
        "\n",
        "\n",
        "\n",
        "    "
      ],
      "execution_count": null,
      "outputs": [
        {
          "output_type": "stream",
          "text": [
            "--------epoch: 0 : 345.2750530495541\n",
            "Time taken :  528.3822944164276 seconds\n",
            "--------epoch: 1 : 0.8128427078772802\n",
            "Time taken :  522.377881526947 seconds\n",
            "--------epoch: 2 : 0.27803224764647894\n",
            "Time taken :  523.9257354736328 seconds\n",
            "--------epoch: 3 : 0.1189407937345095\n",
            "Time taken :  522.1325790882111 seconds\n",
            "--------epoch: 4 : 0.054043468669988215\n",
            "Time taken :  520.069194316864 seconds\n",
            "--------epoch: 5 : 0.024987392668663233\n",
            "Time taken :  517.698323726654 seconds\n",
            "--------epoch: 6 : 0.01159631462815014\n",
            "Time taken :  520.052973985672 seconds\n",
            "--------epoch: 7 : 0.005355357368898694\n",
            "Time taken :  521.285080909729 seconds\n",
            "--------epoch: 8 : 0.0024827716306390357\n",
            "Time taken :  522.415937423706 seconds\n",
            "--------epoch: 9 : 0.0013483761796351246\n",
            "Time taken :  517.4170773029327 seconds\n",
            "--------epoch: 10 : 0.00032413003629727655\n",
            "Time taken :  506.1245234012604 seconds\n",
            "--------epoch: 11 : 2.6226042137977856e-05\n",
            "Time taken :  503.82602286338806 seconds\n",
            "--------epoch: 12 : 0.0\n",
            "Time taken :  498.77533864974976 seconds\n"
          ],
          "name": "stdout"
        }
      ]
    },
    {
      "cell_type": "code",
      "metadata": {
        "colab": {
          "base_uri": "https://localhost:8080/",
          "height": 282
        },
        "id": "TcdcRAGEkgPj",
        "outputId": "a761c7d3-4a8f-43c0-e097-f8620bd82e83"
      },
      "source": [
        "#plot of loss versus epoch\n",
        "import matplotlib.pyplot as plt\n",
        "plt.plot(range(len(training_loss[1:])),training_loss[1:])"
      ],
      "execution_count": null,
      "outputs": [
        {
          "output_type": "execute_result",
          "data": {
            "text/plain": [
              "[<matplotlib.lines.Line2D at 0x7ffbb03fd490>]"
            ]
          },
          "metadata": {
            "tags": []
          },
          "execution_count": 58
        },
        {
          "output_type": "display_data",
          "data": {
            "image/png": "[encoded data removed]",
            "text/plain": [
              "<Figure size 432x288 with 1 Axes>"
            ]
          },
          "metadata": {
            "tags": [],
            "needs_background": "light"
          }
        }
      ]
    },
    {
      "cell_type": "code",
      "metadata": {
        "id": "hUKWVBt9gbVq"
      },
      "source": [
        "torch.save(w2v,\"/content/drive/My Drive/MLProject/model\")"
      ],
      "execution_count": null,
      "outputs": []
    },
    {
      "cell_type": "code",
      "metadata": {
        "id": "XJdtRBi9ltsS"
      },
      "source": [
        "w2v=torch.load(\"/content/drive/My Drive/MLProject/model\")"
      ],
      "execution_count": null,
      "outputs": []
    },
    {
      "cell_type": "code",
      "metadata": {
        "id": "E0Eeiw_JmKJz"
      },
      "source": [
        ""
      ],
      "execution_count": null,
      "outputs": []
    },
    {
      "cell_type": "markdown",
      "metadata": {
        "id": "-Mb6dugMmLMR"
      },
      "source": [
        "# **Visualising Word2Vec word vectors**"
      ]
    },
    {
      "cell_type": "code",
      "metadata": {
        "id": "ZT9SMOxYeLAu"
      },
      "source": [
        "X=[]\n",
        "y=[]\n",
        "count=0\n",
        "for word in vocab:\n",
        "  if(count>100):\n",
        "    break\n",
        "  i=E_word2index[word]\n",
        "  # print(i)\n",
        "  t=w2v.repre(torch.tensor(i))\n",
        "  X.append(t.tolist())\n",
        "  y.append(word)\n",
        "  count=count+1\n",
        "\n"
      ],
      "execution_count": null,
      "outputs": []
    },
    {
      "cell_type": "code",
      "metadata": {
        "colab": {
          "base_uri": "https://localhost:8080/"
        },
        "id": "ZoHtn3ocwpUl",
        "outputId": "88992e03-3ebe-448b-99b8-0a717bc45882"
      },
      "source": [
        "len(X[0])"
      ],
      "execution_count": null,
      "outputs": [
        {
          "output_type": "execute_result",
          "data": {
            "text/plain": [
              "100"
            ]
          },
          "metadata": {
            "tags": []
          },
          "execution_count": 65
        }
      ]
    },
    {
      "cell_type": "code",
      "metadata": {
        "id": "4a7-0TIZS1uB",
        "colab": {
          "base_uri": "https://localhost:8080/",
          "height": 1000
        },
        "outputId": "da0964a1-aff6-47ca-bd34-42c64cd0c47a"
      },
      "source": [
        "from sklearn.manifold import TSNE\n",
        "import matplotlib.pyplot as plt\n",
        "%matplotlib inline\n",
        "tsne_model = TSNE(perplexity=40, n_components=2, init='pca', n_iter=500, random_state=23)\n",
        "values = tsne_model.fit_transform(X)\n",
        "\n",
        "x1 = []\n",
        "x2= []\n",
        "for value in values:\n",
        "    x1.append(value[0])\n",
        "    x2.append(value[1])\n",
        "    \n",
        "plt.figure(figsize=(20, 20)) \n",
        "for i in range(len(X)):\n",
        "    plt.scatter(x1[i],x2[i])\n",
        "    plt.annotate(y[i],\n",
        "                  xy=(x1[i], x2[i]),\n",
        "                  xytext=(20, 20),\n",
        "                  textcoords='offset points',\n",
        "                  ha='right',\n",
        "                  va='bottom')\n",
        "plt.show()"
      ],
      "execution_count": null,
      "outputs": [
        {
          "output_type": "display_data",
          "data": {
            "image/png": "[encoded data removed]",
            "text/plain": [
              "<Figure size 1440x1440 with 1 Axes>"
            ]
          },
          "metadata": {
            "tags": [],
            "needs_background": "light"
          }
        }
      ]
    },
    {
      "cell_type": "code",
      "metadata": {
        "colab": {
          "base_uri": "https://localhost:8080/"
        },
        "id": "42cJQ1Y9lUY2",
        "outputId": "6f1fc59f-c11c-4a81-d360-3f7760cf2896"
      },
      "source": [
        "E_word2index['better']"
      ],
      "execution_count": null,
      "outputs": [
        {
          "output_type": "execute_result",
          "data": {
            "text/plain": [
              "1958"
            ]
          },
          "metadata": {
            "tags": []
          },
          "execution_count": 67
        }
      ]
    },
    {
      "cell_type": "code",
      "metadata": {
        "id": "ojwwflPlqidI"
      },
      "source": [
        ""
      ],
      "execution_count": null,
      "outputs": []
    },
    {
      "cell_type": "markdown",
      "metadata": {
        "id": "zWX7J64HJC6U"
      },
      "source": [
        "# **Sentiment analysis**"
      ]
    },
    {
      "cell_type": "code",
      "metadata": {
        "id": "o2ugBDwaJGSl"
      },
      "source": [
        "file1 = open('/content/drive/MyDrive/Unsupervised learning encoder/1000.pos') \n",
        "file2 = open('/content/drive/MyDrive/Unsupervised learning encoder/1000.neg') \n",
        "file3 = open('/content/drive/MyDrive/Unsupervised learning encoder/100.pos') \n",
        "file4 = open('/content/drive/MyDrive/Unsupervised learning encoder/100.neg') \n",
        "\n",
        "def processing(F):\n",
        "  x=[]\n",
        "  for line in F:\n",
        "    l=line.split()\n",
        "    stop_words = set(stopwords.words('english'))\n",
        "    d1=[]\n",
        "    for word in l:\n",
        "     if word not in stop_words:\n",
        "        if(word  in vocab):\n",
        "          d1.append(E_word2index[word])\n",
        "        else:\n",
        "          d1.append(0)\n",
        "    x.append(d1)\n",
        "  return x\n",
        "  "
      ],
      "execution_count": null,
      "outputs": []
    },
    {
      "cell_type": "code",
      "metadata": {
        "colab": {
          "base_uri": "https://localhost:8080/"
        },
        "id": "Gei5vua5JJGE",
        "outputId": "77387d59-d8a0-447a-9c50-93fe305c6cd9"
      },
      "source": [
        "train_data=processing(file1)\n",
        "print(len(train_data))\n",
        "train_data=train_data+processing(file2)\n",
        "test_data=processing(file3)\n",
        "test_data=test_data+processing(file4)\n",
        "len(test_data)"
      ],
      "execution_count": null,
      "outputs": [
        {
          "output_type": "stream",
          "text": [
            "1000\n"
          ],
          "name": "stdout"
        },
        {
          "output_type": "execute_result",
          "data": {
            "text/plain": [
              "200"
            ]
          },
          "metadata": {
            "tags": []
          },
          "execution_count": 69
        }
      ]
    },
    {
      "cell_type": "code",
      "metadata": {
        "colab": {
          "base_uri": "https://localhost:8080/"
        },
        "id": "9rasFhbsJPxP",
        "outputId": "282d2cc7-f293-42c5-bcc8-14dc7ab74cb5"
      },
      "source": [
        "train_label=[1]*1000+[0]*1000\n",
        "test_label=[1]*100+[0]*100\n",
        "len(train_label)"
      ],
      "execution_count": null,
      "outputs": [
        {
          "output_type": "execute_result",
          "data": {
            "text/plain": [
              "2000"
            ]
          },
          "metadata": {
            "tags": []
          },
          "execution_count": 70
        }
      ]
    },
    {
      "cell_type": "markdown",
      "metadata": {
        "id": "5dAazPQ-JTXv"
      },
      "source": [
        "# **sentiment analysis using our word2vec model**"
      ]
    },
    {
      "cell_type": "code",
      "metadata": {
        "id": "iHOqhqQqJQtm"
      },
      "source": [
        "embedding_size=100\n",
        "def avg_vectors(X):\n",
        "  data=[]\n",
        "  for l in X:\n",
        "    v=[]\n",
        "    for i in l:\n",
        "      v.append(w2v.repre(torch.tensor(i)).tolist())\n",
        "    avg_vec=np.mean(np.array(v),axis=0)\n",
        "    data.append(avg_vec)\n",
        "  return data\n",
        "\n"
      ],
      "execution_count": null,
      "outputs": []
    },
    {
      "cell_type": "code",
      "metadata": {
        "id": "_fSxqbQkKop2"
      },
      "source": [
        "train=avg_vectors(train_data)"
      ],
      "execution_count": null,
      "outputs": []
    },
    {
      "cell_type": "code",
      "metadata": {
        "id": "4UCET-9iKvoS"
      },
      "source": [
        "test=avg_vectors(test_data)"
      ],
      "execution_count": null,
      "outputs": []
    },
    {
      "cell_type": "code",
      "metadata": {
        "id": "yBDh4qDXLbez"
      },
      "source": [
        ""
      ],
      "execution_count": null,
      "outputs": []
    },
    {
      "cell_type": "markdown",
      "metadata": {
        "id": "rWeWfcS_LiYt"
      },
      "source": [
        "**#Training Logistic Regression model**"
      ]
    },
    {
      "cell_type": "code",
      "metadata": {
        "id": "EtWrC-f_Loxm"
      },
      "source": [
        "from sklearn.linear_model import LogisticRegression\n",
        "clf = LogisticRegression(random_state=0,max_iter=100).fit(train, train_label)"
      ],
      "execution_count": null,
      "outputs": []
    },
    {
      "cell_type": "code",
      "metadata": {
        "colab": {
          "base_uri": "https://localhost:8080/"
        },
        "id": "lSIRVCavMLFH",
        "outputId": "951ce114-4f10-49f9-b46f-77ad5f9cb227"
      },
      "source": [
        "#accuracy on training data\n",
        "print(\"accuracy on training set\",clf.score(train,train_label))"
      ],
      "execution_count": null,
      "outputs": [
        {
          "output_type": "stream",
          "text": [
            "accuracy on training set 0.7635\n"
          ],
          "name": "stdout"
        }
      ]
    },
    {
      "cell_type": "code",
      "metadata": {
        "colab": {
          "base_uri": "https://localhost:8080/"
        },
        "id": "UpJuF4dKMX7d",
        "outputId": "c3b61f21-c8a7-4b44-f521-708c36f1f3ff"
      },
      "source": [
        "print(\"accuracy on test data\",clf.score(test,test_label))"
      ],
      "execution_count": null,
      "outputs": [
        {
          "output_type": "stream",
          "text": [
            "accuracy on test data 0.7\n"
          ],
          "name": "stdout"
        }
      ]
    },
    {
      "cell_type": "markdown",
      "metadata": {
        "id": "dPuQJn48Ml29"
      },
      "source": [
        "# **sentiment analysis using one hot encoding**"
      ]
    },
    {
      "cell_type": "code",
      "metadata": {
        "id": "sF2QT2WrMgvc"
      },
      "source": [
        "def one_hot(X):\n",
        "  data=[]\n",
        "  for l in X:\n",
        "    v=[]\n",
        "    for i in l:\n",
        "      t=[0]*V\n",
        "      t[i]=1\n",
        "      v.append(t)\n",
        "    avg_vec=np.mean(np.array(v),axis=0)\n",
        "    data.append(avg_vec)\n",
        "  return np.array(data)\n",
        "\n",
        "\n"
      ],
      "execution_count": null,
      "outputs": []
    },
    {
      "cell_type": "code",
      "metadata": {
        "id": "TFPIwd5PMiCS"
      },
      "source": [
        "train_hot=one_hot(train_data)"
      ],
      "execution_count": null,
      "outputs": []
    },
    {
      "cell_type": "code",
      "metadata": {
        "id": "ifcXJ_ArOiUE"
      },
      "source": [
        "test_hot=one_hot(test_data)"
      ],
      "execution_count": null,
      "outputs": []
    },
    {
      "cell_type": "markdown",
      "metadata": {
        "id": "6PXNxeTgOmKU"
      },
      "source": [
        "**Applying PCA to reduce the dimension to 100**"
      ]
    },
    {
      "cell_type": "code",
      "metadata": {
        "colab": {
          "base_uri": "https://localhost:8080/"
        },
        "id": "-jutDZ9SOW13",
        "outputId": "853db699-2ba3-4184-8566-a57a52fa14ec"
      },
      "source": [
        "from sklearn.decomposition import PCA\n",
        "pca = PCA(n_components=100)\n",
        "pca.fit(train_hot)\n"
      ],
      "execution_count": null,
      "outputs": [
        {
          "output_type": "execute_result",
          "data": {
            "text/plain": [
              "PCA(copy=True, iterated_power='auto', n_components=100, random_state=None,\n",
              "    svd_solver='auto', tol=0.0, whiten=False)"
            ]
          },
          "metadata": {
            "tags": []
          },
          "execution_count": 96
        }
      ]
    },
    {
      "cell_type": "code",
      "metadata": {
        "id": "-8W2GXBrOgWx"
      },
      "source": [
        "X_train=pca.transform(train_hot)"
      ],
      "execution_count": null,
      "outputs": []
    },
    {
      "cell_type": "code",
      "metadata": {
        "colab": {
          "base_uri": "https://localhost:8080/"
        },
        "id": "8cuxEUkRPRU8",
        "outputId": "70403883-207a-4424-fc20-eb80d137776c"
      },
      "source": [
        "len(X_train[0])"
      ],
      "execution_count": null,
      "outputs": [
        {
          "output_type": "execute_result",
          "data": {
            "text/plain": [
              "100"
            ]
          },
          "metadata": {
            "tags": []
          },
          "execution_count": 98
        }
      ]
    },
    {
      "cell_type": "code",
      "metadata": {
        "id": "Hc1dCjhKPS5P"
      },
      "source": [
        "X_test=pca.transform(test_hot)"
      ],
      "execution_count": null,
      "outputs": []
    },
    {
      "cell_type": "markdown",
      "metadata": {
        "id": "Uw4_ZAM8Pok7"
      },
      "source": [
        "**applying logistic regression**"
      ]
    },
    {
      "cell_type": "code",
      "metadata": {
        "id": "_qmXBqjPPj6q"
      },
      "source": [
        "from sklearn.linear_model import LogisticRegression\n",
        "clf2 = LogisticRegression(random_state=0,max_iter=200).fit(X_train, train_label)"
      ],
      "execution_count": null,
      "outputs": []
    },
    {
      "cell_type": "code",
      "metadata": {
        "colab": {
          "base_uri": "https://localhost:8080/"
        },
        "id": "8ecejcJnP0sd",
        "outputId": "5848012d-86c3-4d0a-a93f-7c49a97dbf29"
      },
      "source": [
        "#accuracy on training data\n",
        "print(\"accuracy on training set\",clf.score(X_train,train_label))"
      ],
      "execution_count": null,
      "outputs": [
        {
          "output_type": "stream",
          "text": [
            "accuracy on training set 0.4625\n"
          ],
          "name": "stdout"
        }
      ]
    },
    {
      "cell_type": "code",
      "metadata": {
        "colab": {
          "base_uri": "https://localhost:8080/"
        },
        "id": "KwCcEuzmP96T",
        "outputId": "0c48810c-83af-46ad-8695-546bd3a644f9"
      },
      "source": [
        "\n",
        "\n",
        "#accuracy on testing data\n",
        "print(\"accuracy on test set\",clf.score(X_test,test_label))"
      ],
      "execution_count": null,
      "outputs": [
        {
          "output_type": "stream",
          "text": [
            "accuracy on test set 0.48\n"
          ],
          "name": "stdout"
        }
      ]
    },
    {
      "cell_type": "code",
      "metadata": {
        "id": "6KOUqizfQJEV"
      },
      "source": [
        ""
      ],
      "execution_count": null,
      "outputs": []
    }
  ]
}