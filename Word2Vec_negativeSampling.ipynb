{
  "nbformat": 4,
  "nbformat_minor": 0,
  "metadata": {
    "colab": {
      "name": "w2v_NS.ipynb",
      "provenance": []
    },
    "kernelspec": {
      "name": "python3",
      "display_name": "Python 3"
    },
    "language_info": {
      "name": "python"
    },
    "accelerator": "GPU"
  },
  "cells": [
    {
      "cell_type": "code",
      "metadata": {
        "colab": {
          "base_uri": "https://localhost:8080/"
        },
        "id": "44yaDvgjeC1s",
        "outputId": "d3ae07d4-abb0-4b67-b167-f20535231644"
      },
      "source": [
        "from google.colab import drive\n",
        "drive.mount('/content/drive')"
      ],
      "execution_count": null,
      "outputs": [
        {
          "output_type": "stream",
          "text": [
            "Drive already mounted at /content/drive; to attempt to forcibly remount, call drive.mount(\"/content/drive\", force_remount=True).\n"
          ],
          "name": "stdout"
        }
      ]
    },
    {
      "cell_type": "code",
      "metadata": {
        "id": "ZG3u2aO0rgql"
      },
      "source": [
        "F=open('/content/drive/My Drive/MLProject/text8')\n",
        "data=F.read()\n",
        "data=data[0:10000000]\n"
      ],
      "execution_count": null,
      "outputs": []
    },
    {
      "cell_type": "markdown",
      "metadata": {
        "id": "2jjZnomIF4Q3"
      },
      "source": [
        "# **Importing required packages**"
      ]
    },
    {
      "cell_type": "code",
      "metadata": {
        "id": "9mOeqdSBF8QY"
      },
      "source": [
        "from collections import Counter\n",
        "import random\n",
        "import numpy as np\n",
        "import pandas as pd\n",
        "\n",
        "from nltk.tokenize import RegexpTokenizer\n",
        "from torch.utils.data import DataLoader\n",
        "from torch.nn.utils.rnn import pad_sequence\n",
        "\n",
        "import torch\n",
        "import torch.nn  as  nn\n",
        "import torch.optim as optim\n",
        "import torch.nn.functional as F"
      ],
      "execution_count": null,
      "outputs": []
    },
    {
      "cell_type": "markdown",
      "metadata": {
        "id": "oRr6asJsuNXg"
      },
      "source": [
        "# **#PreProcessing the data set**"
      ]
    },
    {
      "cell_type": "code",
      "metadata": {
        "colab": {
          "base_uri": "https://localhost:8080/"
        },
        "id": "PSH5JeWZuKMp",
        "outputId": "074d6f82-e08d-471d-8e91-90a574c83968"
      },
      "source": [
        "import nltk\n",
        "nltk.download('stopwords')\n",
        "from nltk.corpus import stopwords\n",
        "from collections import Counter\n",
        "# stop_words = set(stopwords.words('english'))"
      ],
      "execution_count": null,
      "outputs": [
        {
          "output_type": "stream",
          "text": [
            "[nltk_data] Downloading package stopwords to /root/nltk_data...\n",
            "[nltk_data]   Package stopwords is already up-to-date!\n"
          ],
          "name": "stdout"
        }
      ]
    },
    {
      "cell_type": "code",
      "metadata": {
        "id": "1COgEakeuU-T"
      },
      "source": [
        "def process_data(data):\n",
        "  data=data.lower()\n",
        "  data=data.split()\n",
        "  stop_words = set(stopwords.words('english'))\n",
        "  data1=[]\n",
        "  for word in data:\n",
        "    if word not in stop_words:\n",
        "      data1.append(word)\n",
        "  word_counts = Counter(data1)\n",
        "  data2 = [word for word in data1 if word_counts[word] >5]\n",
        "  data=data2\n",
        "\n",
        "\n",
        "  E_count=1\n",
        "  # dictioanry for keeping the frequency of each word\n",
        "  E_wordCount={}\n",
        "  # dictioanry to find the index for a word in English\n",
        "  E_word2index={}\n",
        "\n",
        "  # dictionary to find the English word for a particular index\n",
        "  E_index2word={}\n",
        "\n",
        "  for word in data:\n",
        "    E_wordCount[word]= E_wordCount.get(word,0)+1\n",
        "    if (word not in E_word2index.keys()): # check if the token already exists in English dictionary\n",
        "      # if the token is not present in English dictionary then add it to word2index and index2word English dictionary\n",
        "      E_word2index[word]= E_count\n",
        "      E_index2word[E_count]=word\n",
        "      E_count+=1 # increasing the count of words in English vocabulary\n",
        "    else:\n",
        "      E_wordCount[word]+=1 # if the token exists in dictionary then simply increase it's count of occurrence\n",
        "  return data,E_wordCount,E_word2index,E_index2word\n"
      ],
      "execution_count": null,
      "outputs": []
    },
    {
      "cell_type": "code",
      "metadata": {
        "id": "HUf8OKNQuVVc"
      },
      "source": [
        "\n",
        "processed_data,E_wordCount,E_word2index,E_index2word=process_data(data)"
      ],
      "execution_count": null,
      "outputs": []
    },
    {
      "cell_type": "code",
      "metadata": {
        "colab": {
          "base_uri": "https://localhost:8080/"
        },
        "id": "kRTq5BmnuX6x",
        "outputId": "565aed32-8e3c-46c4-f159-1c56d223f7b4"
      },
      "source": [
        "word=[word for word in processed_data]\n",
        "vocab=set(word)\n",
        "print(len(word))\n",
        "print(\"vocab size:\",len(vocab))\n",
        "V=len(vocab)"
      ],
      "execution_count": null,
      "outputs": [
        {
          "output_type": "stream",
          "text": [
            "997396\n",
            "vocab size: 17039\n"
          ],
          "name": "stdout"
        }
      ]
    },
    {
      "cell_type": "code",
      "metadata": {
        "id": "RUGJxev4uhsT"
      },
      "source": [
        ""
      ],
      "execution_count": null,
      "outputs": []
    },
    {
      "cell_type": "markdown",
      "metadata": {
        "id": "srG5TFlWjC6J"
      },
      "source": [
        "# **Subsampling**"
      ]
    },
    {
      "cell_type": "code",
      "metadata": {
        "colab": {
          "base_uri": "https://localhost:8080/"
        },
        "id": "imssCJp-utsr",
        "outputId": "3bf399c1-3eea-4187-c950-59a5ea5c66e5"
      },
      "source": [
        "wordinint=[]\n",
        "for word in processed_data:\n",
        "  wordinint.append(E_word2index[word])\n",
        "\n",
        "threshold = 1e-5\n",
        "word_counts = Counter(wordinint)\n",
        "total_count = len(processed_data)\n",
        "freq={}\n",
        "for word,count in word_counts.items():\n",
        "  freq[word]=count/total_count\n",
        "print(freq[1])\n",
        "p_drop = {word: 1 - np.sqrt(threshold/freq[word]) for word,_ in word_counts.items()}\n",
        "train_words = [word for word in wordinint if random.random() < (1 - p_drop[word])]\n",
        "\n",
        "print(train_words[:30])"
      ],
      "execution_count": null,
      "outputs": [
        {
          "output_type": "stream",
          "text": [
            "0.00015740989536753707\n",
            "[2, 4, 10, 14, 18, 19, 29, 30, 31, 33, 36, 37, 38, 1, 44, 48, 49, 54, 55, 61, 62, 63, 56, 69, 70, 33, 54, 76, 80, 33]\n"
          ],
          "name": "stdout"
        }
      ]
    },
    {
      "cell_type": "code",
      "metadata": {
        "id": "rfxt76kolk33"
      },
      "source": [
        ""
      ],
      "execution_count": null,
      "outputs": []
    },
    {
      "cell_type": "markdown",
      "metadata": {
        "id": "CKuPlA4Ellh8"
      },
      "source": [
        "# **Genrating data pairs**"
      ]
    },
    {
      "cell_type": "code",
      "metadata": {
        "colab": {
          "base_uri": "https://localhost:8080/"
        },
        "id": "PwKPq0J4uzs9",
        "outputId": "76a1dddc-c7d9-4dac-9481-f307dab4ac65"
      },
      "source": [
        "tuples = []\n",
        "w = 3\n",
        "for i, word in enumerate(train_words):\n",
        "  start = max(0,i-w)\n",
        "  end = min(i+w, len(train_words))\n",
        "  for j in range(start,end):\n",
        "    if i!=j:\n",
        "      tuples.append((word, train_words[j]))\n",
        "print(\"There are {} pairs \".format(len(tuples)))"
      ],
      "execution_count": null,
      "outputs": [
        {
          "output_type": "stream",
          "text": [
            "There are 1454251 pairs \n"
          ],
          "name": "stdout"
        }
      ]
    },
    {
      "cell_type": "markdown",
      "metadata": {
        "id": "jyIoD0Z5u9j0"
      },
      "source": [
        "# **Model**"
      ]
    },
    {
      "cell_type": "code",
      "metadata": {
        "id": "uVKiWqv6u_1W"
      },
      "source": [
        "\n",
        "class W2V_NS(nn.Module):\n",
        "\n",
        "    def __init__(self, embedding_size, vocab_size,batch_size):\n",
        "        super(W2V_NS, self).__init__()\n",
        "        #embeddding 1 for word representation vector\n",
        "        #embedding 2 for context representation vector\n",
        "        self.embeddings1 = nn.Embedding(vocab_size, embedding_size)\n",
        "        self.embeddings2 = nn.Embedding( vocab_size,embedding_size)\n",
        "        self.embedding_size=embedding_size\n",
        "        self.batch_size=batch_size\n",
        "\n",
        "        #initialising weights\n",
        "        self.embeddings1.weight.data.uniform_(-1,1)\n",
        "        self.embeddings2.weight.data.uniform_(-1,1)\n",
        "\n",
        "    #function for negative samples\n",
        "    def neg_sample(self,batch_size,sample_size):\n",
        "      noise_d = torch.ones(V)\n",
        "      neg_words = torch.multinomial(noise_d,\n",
        "                                        batch_size * sample_size,\n",
        "                                        replacement=True)\n",
        "      neg_words = torch.tensor(neg_words)\n",
        "      neg_vec = self.embeddings2(neg_words).view(batch_size,sample_size,self.embedding_size)   \n",
        "\n",
        "      return neg_vec     \n",
        "        \n",
        "\n",
        "    #function for positive samples    \n",
        "    def forward(self,target,context):\n",
        "        emb1 = self.embeddings1(target)\n",
        "        emb2 = self.embeddings2(context)\n",
        "        # print(emb1.shape)\n",
        "        emb1 = emb1.view(emb1.shape[0], self.embedding_size, 1)\n",
        "        emb2 = emb2.view(emb2.shape[0], 1,self.embedding_size) \n",
        "        \n",
        "        # out = F.log_softmax(hidden)\n",
        "\n",
        "        neg_vec=self.neg_sample(target.shape[0],5)\n",
        "\n",
        "        #calculating output loss for true class\n",
        "        o_loss = torch.bmm(emb2, emb1).sigmoid().log()\n",
        "        o_loss = o_loss.squeeze()\n",
        "        # print(out_loss.shape)\n",
        "\n",
        "        #calculating negative loss\n",
        "        n_loss = torch.bmm(neg_vec.neg(), emb1).sigmoid().log()\n",
        "        n_loss = n_loss.squeeze().sum(1)\n",
        "        return -(o_loss+n_loss).mean()\n",
        "\n",
        "    def repre(self,x):\n",
        "        return self.embeddings1(x)\n",
        "\n",
        "    "
      ],
      "execution_count": null,
      "outputs": []
    },
    {
      "cell_type": "markdown",
      "metadata": {
        "id": "zIrg91NHlgez"
      },
      "source": [
        "# **Training the model**"
      ]
    },
    {
      "cell_type": "code",
      "metadata": {
        "id": "Ls9I8HDc0U7A"
      },
      "source": [
        "batch_size=1024\n",
        "w2v=W2V_NS(100,V+1,batch_size)\n",
        "data=[]\n",
        "for i in range(0,len(tuples)):\n",
        "  t=[]\n",
        "  # x=np.zeros(V)\n",
        "  # x[context_tuple_list[j][0]]=1\n",
        "  t.append(tuples[j][0])\n",
        "  t.append(tuples[j][1])\n",
        "  data.append(t)\n"
      ],
      "execution_count": null,
      "outputs": []
    },
    {
      "cell_type": "code",
      "metadata": {
        "id": "1Sr28f8V7cAx"
      },
      "source": [
        ""
      ],
      "execution_count": null,
      "outputs": []
    },
    {
      "cell_type": "code",
      "metadata": {
        "id": "yptRTxCn0dFi"
      },
      "source": [
        "\n",
        "train_iter = DataLoader(data, batch_size=1024,shuffle=True) "
      ],
      "execution_count": null,
      "outputs": []
    },
    {
      "cell_type": "code",
      "metadata": {
        "id": "0JMygqW50gEh"
      },
      "source": [
        "criterion = nn.CrossEntropyLoss() \n",
        "optimizer = optim.AdamW(w2v.parameters(), lr=0.001) # AdamW optimizer is used \n",
        "\n"
      ],
      "execution_count": null,
      "outputs": []
    },
    {
      "cell_type": "code",
      "metadata": {
        "id": "sDZZH2sEY3XU"
      },
      "source": [
        "path = \"/content/drive/My Drive/MLProject/NSmodel\"\n",
        "path5 = \"/content/drive/My Drive/MLProject/NSmodel5\"\n",
        "path10 = \"/content/drive/My Drive/MLProject/NSmodel10\"\n",
        "path15 = \"/content/drive/My Drive/MLProject/NSmodel15\"\n",
        "path20 = \"/content/drive/My Drive/MLProject/NSmodel20\"\n",
        "path25 = \"/content/drive/My Drive/MLProject/NSmodel25\"\n",
        "path30 = \"/content/drive/My Drive/MLProject/NSmodel30\"\n",
        "path35 = \"/content/drive/My Drive/MLProject/NSmodel35\""
      ],
      "execution_count": null,
      "outputs": []
    },
    {
      "cell_type": "code",
      "metadata": {
        "colab": {
          "base_uri": "https://localhost:8080/"
        },
        "id": "NnNR765l0iZF",
        "outputId": "59859e12-817e-4e2d-d5bc-0bf94b257db6"
      },
      "source": [
        "import time\n",
        "training_loss=[]\n",
        "sum=0\n",
        "epochs=26\n",
        "for epoch in range(epochs):\n",
        "  l=0\n",
        "  t0 = time.time()\n",
        "  for id, (x,y) in enumerate(train_iter): \n",
        "    # print(type(x))\n",
        "    # print(x,y)\n",
        "    loss=w2v(x,y) #loss\n",
        "    optimizer.zero_grad() \n",
        "    # loss=criterion(output,y) \n",
        "    loss.backward() #gradient descent\n",
        "    optimizer.step() \n",
        "    l=l+loss.item()\n",
        "    del x,y\n",
        "  if(epoch==5): # saving the model after every 5 epochs \n",
        "    torch.save(w2v,path5)\n",
        "  elif(epoch==10):\n",
        "    torch.save(w2v,path10)\n",
        "  elif(epoch==15):\n",
        "    torch.save(w2v,path15)\n",
        "  elif(epoch==20):\n",
        "    torch.save(w2v,path20)\n",
        "  elif(epoch==25):\n",
        "    torch.save(w2v,path25)\n",
        "  elif(epoch==30):\n",
        "    torch.save(w2v,path30)\n",
        "  elif(epoch==35):\n",
        "    torch.save(w2v,path35)\n",
        "  training_loss.append(l)    \n",
        "\n",
        "  print(\"epoch:\",epoch,\":\",l)\n",
        "  print('Time taken :  {} seconds'.format(time.time() - t0))\n",
        "  sum=sum+time.time()-t0\n",
        "print(\"averge time taken by epoch:\",sum/epochs)\n",
        "\n",
        "\n",
        "\n",
        "    "
      ],
      "execution_count": null,
      "outputs": [
        {
          "output_type": "stream",
          "text": [
            "/usr/local/lib/python3.7/dist-packages/ipykernel_launcher.py:23: UserWarning: To copy construct from a tensor, it is recommended to use sourceTensor.clone().detach() or sourceTensor.clone().detach().requires_grad_(True), rather than torch.tensor(sourceTensor).\n"
          ],
          "name": "stderr"
        },
        {
          "output_type": "stream",
          "text": [
            "epoch: 0 : 903.4513377510011\n",
            "Time taken :  82.31295657157898 seconds\n",
            "epoch: 1 : 10.063468308886513\n",
            "Time taken :  81.8262619972229 seconds\n",
            "epoch: 2 : 5.881411348120309\n",
            "Time taken :  83.47013926506042 seconds\n",
            "epoch: 3 : 4.5277154867653735\n",
            "Time taken :  82.08239412307739 seconds\n",
            "epoch: 4 : 3.9757325349200983\n",
            "Time taken :  81.85640096664429 seconds\n",
            "epoch: 5 : 3.977596771263052\n",
            "Time taken :  81.95417547225952 seconds\n",
            "epoch: 6 : 3.579606423751102\n",
            "Time taken :  81.80792927742004 seconds\n",
            "epoch: 7 : 3.908983647444984\n",
            "Time taken :  81.93975710868835 seconds\n",
            "epoch: 8 : 3.518051748193102\n",
            "Time taken :  82.28950309753418 seconds\n",
            "epoch: 9 : 3.6791429427539697\n",
            "Time taken :  82.1966061592102 seconds\n",
            "epoch: 10 : 3.572343989246292\n",
            "Time taken :  82.7638669013977 seconds\n",
            "epoch: 11 : 4.064247692658682\n",
            "Time taken :  82.33053231239319 seconds\n",
            "epoch: 12 : 3.666753942539799\n",
            "Time taken :  82.66453862190247 seconds\n",
            "epoch: 13 : 3.6564047707943246\n",
            "Time taken :  82.68554878234863 seconds\n",
            "epoch: 14 : 3.6816634916176554\n",
            "Time taken :  82.32211017608643 seconds\n",
            "epoch: 15 : 4.061695242970018\n",
            "Time taken :  81.73481154441833 seconds\n",
            "epoch: 16 : 3.891328409750713\n",
            "Time taken :  82.07998704910278 seconds\n",
            "epoch: 17 : 3.6599480022559874\n",
            "Time taken :  82.21612191200256 seconds\n",
            "epoch: 18 : 3.6086482952086953\n",
            "Time taken :  82.04299449920654 seconds\n",
            "epoch: 19 : 3.7130362313764635\n",
            "Time taken :  81.85121726989746 seconds\n",
            "epoch: 20 : 3.7900635222758865\n",
            "Time taken :  82.26039171218872 seconds\n",
            "epoch: 21 : 4.052048015495529\n",
            "Time taken :  82.1356348991394 seconds\n",
            "epoch: 22 : 3.7211498803371796\n",
            "Time taken :  81.66905474662781 seconds\n",
            "epoch: 23 : 3.825478110666154\n",
            "Time taken :  81.67493772506714 seconds\n",
            "epoch: 24 : 3.906146014574915\n",
            "Time taken :  82.92319846153259 seconds\n",
            "epoch: 25 : 3.5538227194483625\n",
            "Time taken :  81.95846629142761 seconds\n",
            "averge time taken by epoch: 82.19429868918199\n"
          ],
          "name": "stdout"
        }
      ]
    },
    {
      "cell_type": "code",
      "metadata": {
        "colab": {
          "base_uri": "https://localhost:8080/",
          "height": 282
        },
        "id": "qFDe5oHbCluK",
        "outputId": "0c26bd86-f31e-4a03-f107-ededa091e71f"
      },
      "source": [
        "plt.plot(range(len(training_loss[1:])),training_loss[1:])"
      ],
      "execution_count": null,
      "outputs": [
        {
          "output_type": "execute_result",
          "data": {
            "text/plain": [
              "[<matplotlib.lines.Line2D at 0x7f2c0f594f10>]"
            ]
          },
          "metadata": {
            "tags": []
          },
          "execution_count": 45
        },
        {
          "output_type": "display_data",
          "data": {
            "image/png": "[encoded data removed]",
            "text/plain": [
              "<Figure size 432x288 with 1 Axes>"
            ]
          },
          "metadata": {
            "tags": [],
            "needs_background": "light"
          }
        }
      ]
    },
    {
      "cell_type": "markdown",
      "metadata": {
        "id": "zB3VNqy0mBoq"
      },
      "source": [
        "# **Visualising Word2Vec word vectors**"
      ]
    },
    {
      "cell_type": "code",
      "metadata": {
        "id": "qk9KNgVG1j9r"
      },
      "source": [
        "X=[]\n",
        "y=[]\n",
        "count=0\n",
        "for word in vocab:\n",
        "  if(count>100):\n",
        "    break\n",
        "  i=E_word2index[word]\n",
        "  # print(i)\n",
        "  t=w2v.repre(torch.tensor(i))\n",
        "  X.append(t.tolist())\n",
        "  y.append(word)\n",
        "  count=count+1"
      ],
      "execution_count": null,
      "outputs": []
    },
    {
      "cell_type": "code",
      "metadata": {
        "colab": {
          "base_uri": "https://localhost:8080/"
        },
        "id": "nXkhOpsCwKdg",
        "outputId": "ff197942-b342-48b8-dd4b-e671c9941eb0"
      },
      "source": [
        "from sklearn.manifold import TSNE\n",
        "import matplotlib.pyplot as plt\n",
        "%matplotlib inline\n",
        "tsne_model = TSNE(perplexity=40, n_components=2, init='pca', n_iter=500, random_state=23)\n",
        "values = tsne_model.fit_transform(X)\n",
        "\n",
        "x1 = []\n",
        "x2= []\n",
        "for value in values:\n",
        "    x1.append(value[0])\n",
        "    x2.append(value[1])\n",
        "    \n",
        "plt.figure(figsize=(20, 20)) \n",
        "for i in range(len(X)):\n",
        "    plt.scatter(x1[i],x2[i])\n",
        "    plt.annotate(y[i],\n",
        "                  xy=(x1[i], x2[i]),\n",
        "                  xytext=(13, 13),\n",
        "                  textcoords='offset points',\n",
        "                  ha='right',\n",
        "                  va='bottom')\n",
        "plt.show()"
      ],
      "execution_count": null,
      "outputs": [
        {
          "output_type": "display_data",
          "data": {
            "image/png": "[encoded data removed]",
            "text/plain": [
              "<Figure size 1440x1440 with 1 Axes>"
            ]
          },
          "metadata": {
            "tags": [],
            "needs_background": "light"
          }
        }
      ]
    },
    {
      "cell_type": "code",
      "metadata": {
        "id": "PYxWnh9KxWtJ"
      },
      "source": [
        ""
      ],
      "execution_count": null,
      "outputs": []
    },
    {
      "cell_type": "markdown",
      "metadata": {
        "id": "HLCrPX-RzF6p"
      },
      "source": [
        "# **Sentiment analysis**"
      ]
    },
    {
      "cell_type": "code",
      "metadata": {
        "id": "k0L9PT1PzYvd"
      },
      "source": [
        "file1 = open('/content/drive/MyDrive/Unsupervised learning encoder/1000.pos') \n",
        "file2 = open('/content/drive/MyDrive/Unsupervised learning encoder/1000.neg') \n",
        "file3 = open('/content/drive/MyDrive/Unsupervised learning encoder/100.pos') \n",
        "file4 = open('/content/drive/MyDrive/Unsupervised learning encoder/100.neg') \n",
        "\n",
        "def processing(F):\n",
        "  x=[]\n",
        "  for line in F:\n",
        "    l=line.split()\n",
        "    stop_words = set(stopwords.words('english'))\n",
        "    d1=[]\n",
        "    for word in l:\n",
        "     if word not in stop_words:\n",
        "        if(word  in vocab):\n",
        "          d1.append(E_word2index[word])\n",
        "        else:\n",
        "          d1.append(0)\n",
        "    x.append(d1)\n",
        "  return x\n",
        "  "
      ],
      "execution_count": null,
      "outputs": []
    },
    {
      "cell_type": "code",
      "metadata": {
        "id": "QpIdOUkA3Ed4",
        "colab": {
          "base_uri": "https://localhost:8080/"
        },
        "outputId": "658f73b7-c509-4345-b642-b7d3cc4636b8"
      },
      "source": [
        "train_data=processing(file1)\n",
        "print(len(train_data))\n",
        "train_data=train_data+processing(file2)"
      ],
      "execution_count": null,
      "outputs": [
        {
          "output_type": "stream",
          "text": [
            "1000\n"
          ],
          "name": "stdout"
        }
      ]
    },
    {
      "cell_type": "code",
      "metadata": {
        "id": "xZ-jh_QH3MAd",
        "colab": {
          "base_uri": "https://localhost:8080/"
        },
        "outputId": "8a501099-8bd8-4767-e5c5-a690879ede75"
      },
      "source": [
        "test_data=processing(file3)\n",
        "test_data=test_data+processing(file4)\n",
        "len(test_data)"
      ],
      "execution_count": null,
      "outputs": [
        {
          "output_type": "execute_result",
          "data": {
            "text/plain": [
              "200"
            ]
          },
          "metadata": {
            "tags": []
          },
          "execution_count": 50
        }
      ]
    },
    {
      "cell_type": "code",
      "metadata": {
        "id": "h6JTkO8n5bKh",
        "colab": {
          "base_uri": "https://localhost:8080/"
        },
        "outputId": "46d6d774-9ce5-478d-8694-70a7097f00c7"
      },
      "source": [
        "train_label=[1]*1000+[0]*1000\n",
        "test_label=[1]*100+[0]*100\n",
        "len(train_label)"
      ],
      "execution_count": null,
      "outputs": [
        {
          "output_type": "execute_result",
          "data": {
            "text/plain": [
              "2000"
            ]
          },
          "metadata": {
            "tags": []
          },
          "execution_count": 51
        }
      ]
    },
    {
      "cell_type": "code",
      "metadata": {
        "id": "u2Vn9hnp6Wwg"
      },
      "source": [
        ""
      ],
      "execution_count": null,
      "outputs": []
    },
    {
      "cell_type": "markdown",
      "metadata": {
        "id": "6rf0Z3N76a7N"
      },
      "source": [
        "# **applying word2vec to get sentence represenation**"
      ]
    },
    {
      "cell_type": "code",
      "metadata": {
        "id": "cP4yMPgZ6oSc"
      },
      "source": [
        "embedding_size=100\n",
        "def avg_vectors(X):\n",
        "  data=[]\n",
        "  for l in X:\n",
        "    v=[]\n",
        "    for i in l:\n",
        "      v.append(w2v.repre(torch.tensor(i)).tolist())\n",
        "    avg_vec=np.mean(np.array(v),axis=0)\n",
        "    data.append(avg_vec)\n",
        "  return data\n",
        "\n",
        "\n"
      ],
      "execution_count": null,
      "outputs": []
    },
    {
      "cell_type": "code",
      "metadata": {
        "id": "jkVZGBNSYity"
      },
      "source": [
        "train=avg_vectors(train_data)\n",
        "test=avg_vectors(test_data)"
      ],
      "execution_count": null,
      "outputs": []
    },
    {
      "cell_type": "code",
      "metadata": {
        "id": "uylecEIQYpsI"
      },
      "source": [
        "from sklearn.linear_model import LogisticRegression\n",
        "clf = LogisticRegression(random_state=0,max_iter=200).fit(train, train_label)"
      ],
      "execution_count": null,
      "outputs": []
    },
    {
      "cell_type": "code",
      "metadata": {
        "colab": {
          "base_uri": "https://localhost:8080/"
        },
        "id": "wN5IMMcxYsUW",
        "outputId": "170b51ef-a203-4243-a621-1d4132fd618d"
      },
      "source": [
        "#accuracy on training data\n",
        "print(\"accuracy on training set\",clf.score(train,train_label))"
      ],
      "execution_count": null,
      "outputs": [
        {
          "output_type": "stream",
          "text": [
            "accuracy on training set 0.761\n"
          ],
          "name": "stdout"
        }
      ]
    },
    {
      "cell_type": "code",
      "metadata": {
        "id": "zJQHCfRUYsu3",
        "colab": {
          "base_uri": "https://localhost:8080/"
        },
        "outputId": "ed0bc1ad-dd53-4b4f-94e2-364fb5f5ee40"
      },
      "source": [
        "print(\"accuracy on test data\",clf.score(test,test_label))"
      ],
      "execution_count": null,
      "outputs": [
        {
          "output_type": "stream",
          "text": [
            "accuracy on test data 0.735\n"
          ],
          "name": "stdout"
        }
      ]
    },
    {
      "cell_type": "markdown",
      "metadata": {
        "id": "7djO7izhGz4t"
      },
      "source": [
        "References\n",
        "\n",
        "\n",
        "[Word2vec from Scratch with Python and NumPy](https://nathanrooy.github.io/posts/2018-03-22/word2vec-from-scratch-with-python-and-numpy/)\n",
        "\n",
        "\n",
        "[implementation of word2vec Paper](https://www.kaggle.com/ashukr/implementation-of-word2vec-paper)"
      ]
    }
  ]
}