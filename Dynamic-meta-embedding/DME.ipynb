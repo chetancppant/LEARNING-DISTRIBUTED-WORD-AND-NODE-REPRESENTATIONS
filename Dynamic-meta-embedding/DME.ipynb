{
  "nbformat": 4,
  "nbformat_minor": 0,
  "metadata": {
    "colab": {
      "name": "DME.ipynb",
      "provenance": [],
      "collapsed_sections": [],
      "machine_shape": "hm"
    },
    "kernelspec": {
      "name": "python3",
      "display_name": "Python 3"
    },
    "language_info": {
      "name": "python"
    }
  },
  "cells": [
    {
      "cell_type": "code",
      "metadata": {
        "id": "waK1-g4ru5tv"
      },
      "source": [
        ""
      ],
      "execution_count": null,
      "outputs": []
    },
    {
      "cell_type": "code",
      "metadata": {
        "colab": {
          "base_uri": "https://localhost:8080/"
        },
        "id": "lCLCyNpr8My6",
        "outputId": "0ebee420-dce1-4bd1-e1ad-b5a2c4808441"
      },
      "source": [
        "from google.colab import drive\n",
        "drive.mount('/content/drive')"
      ],
      "execution_count": null,
      "outputs": [
        {
          "output_type": "stream",
          "name": "stdout",
          "text": [
            "Drive already mounted at /content/drive; to attempt to forcibly remount, call drive.mount(\"/content/drive\", force_remount=True).\n"
          ]
        }
      ]
    },
    {
      "cell_type": "code",
      "metadata": {
        "id": "W6Uw-gAq8Ney"
      },
      "source": [
        "import os\n",
        "from os import listdir\n",
        "from os.path import isfile, join\n",
        "import string\n",
        "import re"
      ],
      "execution_count": null,
      "outputs": []
    },
    {
      "cell_type": "markdown",
      "metadata": {
        "id": "pZEadH2DCnW6"
      },
      "source": [
        "# **Data Preparation**"
      ]
    },
    {
      "cell_type": "code",
      "metadata": {
        "id": "WvEmaSry_Bo5"
      },
      "source": [
        "pos_sentiment = list()\n",
        "neg_sentiment = list()"
      ],
      "execution_count": null,
      "outputs": []
    },
    {
      "cell_type": "code",
      "metadata": {
        "id": "VTtiV5bE_JZt"
      },
      "source": [
        "data_files = ['rt-polarity.pos', 'rt-polarity.neg']"
      ],
      "execution_count": null,
      "outputs": []
    },
    {
      "cell_type": "code",
      "metadata": {
        "id": "AYOCDWQy_WUB"
      },
      "source": [
        "count = 0\n",
        "for file in data_files:\n",
        "  file_descriptor = open(file, 'rb')\n",
        "  lines = file_descriptor.read().decode('utf-8','ignore').splitlines()\n",
        "  for sentence in lines:\n",
        "    if(count == 0):\n",
        "        pos_sentiment.append(sentence)\n",
        "    else:\n",
        "        neg_sentiment.append(sentence)   \n",
        "  count += 1\n",
        "  file_descriptor.close()"
      ],
      "execution_count": null,
      "outputs": []
    },
    {
      "cell_type": "code",
      "metadata": {
        "colab": {
          "base_uri": "https://localhost:8080/"
        },
        "id": "zUxWlsTjAedr",
        "outputId": "cddaac7c-0aff-4820-89e6-67b26f38ff72"
      },
      "source": [
        "print(\"The number of sentences in positive sentiment file = \",len(pos_sentiment))\n",
        "print(\"The number of sentences in negative sentiment file = \",len(neg_sentiment))"
      ],
      "execution_count": null,
      "outputs": [
        {
          "output_type": "stream",
          "name": "stdout",
          "text": [
            "The number of sentences in positive sentiment file =  5331\n",
            "The number of sentences in negative sentiment file =  5331\n"
          ]
        }
      ]
    },
    {
      "cell_type": "code",
      "metadata": {
        "id": "nKlP6IpjBVSx"
      },
      "source": [
        "X_train = pos_sentiment[:4500] + neg_sentiment[:4500]\n",
        "\n",
        "X_test = pos_sentiment[4500:] + neg_sentiment[4500:]"
      ],
      "execution_count": null,
      "outputs": []
    },
    {
      "cell_type": "code",
      "metadata": {
        "id": "-NzZdwirB4Io"
      },
      "source": [
        "y_train = [0]*4500 + [1]*4500\n",
        "\n",
        "y_test = [0]*831 + [1]*831"
      ],
      "execution_count": null,
      "outputs": []
    },
    {
      "cell_type": "code",
      "metadata": {
        "colab": {
          "base_uri": "https://localhost:8080/"
        },
        "id": "Y5WheypsCGKa",
        "outputId": "10feb1e3-d993-4292-9dd1-7e6d048fc2cb"
      },
      "source": [
        "print(\"The number of sentences in X_train = \",len(X_train))\n",
        "print(\"The number of sentences in X_test = \",len(X_test))\n",
        "\n",
        "print(\"length of y_train = \", len(y_train))\n",
        "print(\"length of y_test = \", len(y_test))"
      ],
      "execution_count": null,
      "outputs": [
        {
          "output_type": "stream",
          "name": "stdout",
          "text": [
            "The number of sentences in X_train =  9000\n",
            "The number of sentences in X_test =  1662\n",
            "length of y_train =  9000\n",
            "length of y_test =  1662\n"
          ]
        }
      ]
    },
    {
      "cell_type": "code",
      "metadata": {
        "id": "o9043_Ip1AEa"
      },
      "source": [
        "# printing all the words of length less than 3 except no\n",
        "lists = []\n",
        "for text in X_train:\n",
        "  words =[w for w in text.split() if len(w)<3 and w not in ['no']]\n",
        "  lists.append(words)"
      ],
      "execution_count": null,
      "outputs": []
    },
    {
      "cell_type": "markdown",
      "metadata": {
        "id": "yFXuyU0FLGF9"
      },
      "source": [
        "# **Preprocessing**\n",
        "\n",
        "\n",
        "*   **Replacing contractions with their meanings** \n",
        "*   **Removing all non-alphanumeric and symbols**\n",
        "*   **Removing the words of length less than 3 from the text except no**\n",
        "\n"
      ]
    },
    {
      "cell_type": "code",
      "metadata": {
        "colab": {
          "base_uri": "https://localhost:8080/"
        },
        "id": "tNIoFTMi02zS",
        "outputId": "91f3f54b-c038-4aed-edd1-52359166fba3"
      },
      "source": [
        "!pip install contractions"
      ],
      "execution_count": null,
      "outputs": [
        {
          "output_type": "stream",
          "name": "stdout",
          "text": [
            "Requirement already satisfied: contractions in /usr/local/lib/python3.7/dist-packages (0.0.52)\n",
            "Requirement already satisfied: textsearch>=0.0.21 in /usr/local/lib/python3.7/dist-packages (from contractions) (0.0.21)\n",
            "Requirement already satisfied: anyascii in /usr/local/lib/python3.7/dist-packages (from textsearch>=0.0.21->contractions) (0.3.0)\n",
            "Requirement already satisfied: pyahocorasick in /usr/local/lib/python3.7/dist-packages (from textsearch>=0.0.21->contractions) (1.4.2)\n"
          ]
        }
      ]
    },
    {
      "cell_type": "code",
      "metadata": {
        "id": "T4ZTzwunLTN5"
      },
      "source": [
        "import contractions"
      ],
      "execution_count": null,
      "outputs": []
    },
    {
      "cell_type": "code",
      "metadata": {
        "id": "y2TSV7mGIpRf"
      },
      "source": [
        "pp_X_train = list()\n",
        "alphaPattern = \"[^a-z0-9<>]\"\n",
        "for text in X_train:\n",
        "  pp_text = contractions.fix(text)\n",
        "  pp_text = re.sub(alphaPattern, ' ', pp_text)\n",
        "  pp_text = ' '.join([w for w in pp_text.split() if len(w)>2 and w not in ['no']])\n",
        "  pp_X_train.append(pp_text)"
      ],
      "execution_count": null,
      "outputs": []
    },
    {
      "cell_type": "code",
      "metadata": {
        "id": "cOP8H-kp2p_L"
      },
      "source": [
        "pp_X_test = list()\n",
        "alphaPattern = \"[^a-z0-9<>]\"\n",
        "for text in X_test:\n",
        "  pp_text = contractions.fix(text)\n",
        "  pp_text = re.sub(alphaPattern, ' ', pp_text)\n",
        "  pp_text = ' '.join([w for w in pp_text.split() if len(w)>2 and w not in ['no']])\n",
        "  pp_X_test.append(pp_text)"
      ],
      "execution_count": null,
      "outputs": []
    },
    {
      "cell_type": "code",
      "metadata": {
        "colab": {
          "base_uri": "https://localhost:8080/",
          "height": 35
        },
        "id": "wv1_jjIcLuyf",
        "outputId": "a05d3265-02d8-4d69-ef2a-1f5e8e81a079"
      },
      "source": [
        "pp_X_train[4]"
      ],
      "execution_count": null,
      "outputs": [
        {
          "output_type": "execute_result",
          "data": {
            "application/vnd.google.colaboratory.intrinsic+json": {
              "type": "string"
            },
            "text/plain": [
              "'emerges something rare issue movie that honest and keenly observed that does not feel like one'"
            ]
          },
          "metadata": {},
          "execution_count": 14
        }
      ]
    },
    {
      "cell_type": "code",
      "metadata": {
        "colab": {
          "base_uri": "https://localhost:8080/"
        },
        "id": "r08rkHTPL6bV",
        "outputId": "673192fe-dfee-4878-c779-397aaca7e7f3"
      },
      "source": [
        "len(pp_X_train)"
      ],
      "execution_count": null,
      "outputs": [
        {
          "output_type": "execute_result",
          "data": {
            "text/plain": [
              "9000"
            ]
          },
          "metadata": {},
          "execution_count": 15
        }
      ]
    },
    {
      "cell_type": "code",
      "metadata": {
        "colab": {
          "base_uri": "https://localhost:8080/"
        },
        "id": "8KtzC0jxsIjf",
        "outputId": "32b4ae38-3530-41df-d3b4-7f68b67b1d5c"
      },
      "source": [
        "import nltk\n",
        "nltk.download('punkt')"
      ],
      "execution_count": null,
      "outputs": [
        {
          "output_type": "stream",
          "name": "stdout",
          "text": [
            "[nltk_data] Downloading package punkt to /root/nltk_data...\n",
            "[nltk_data]   Package punkt is already up-to-date!\n"
          ]
        },
        {
          "output_type": "execute_result",
          "data": {
            "text/plain": [
              "True"
            ]
          },
          "metadata": {},
          "execution_count": 16
        }
      ]
    },
    {
      "cell_type": "code",
      "metadata": {
        "colab": {
          "base_uri": "https://localhost:8080/"
        },
        "id": "Ne8dEG0osOP_",
        "outputId": "d4b0a750-ed97-45a5-a50a-b2c9630b26a0"
      },
      "source": [
        "import nltk\n",
        "nltk.download('wordnet')"
      ],
      "execution_count": null,
      "outputs": [
        {
          "output_type": "stream",
          "name": "stdout",
          "text": [
            "[nltk_data] Downloading package wordnet to /root/nltk_data...\n",
            "[nltk_data]   Package wordnet is already up-to-date!\n"
          ]
        },
        {
          "output_type": "execute_result",
          "data": {
            "text/plain": [
              "True"
            ]
          },
          "metadata": {},
          "execution_count": 17
        }
      ]
    },
    {
      "cell_type": "code",
      "metadata": {
        "colab": {
          "base_uri": "https://localhost:8080/"
        },
        "id": "5Dt-dIwH6iXE",
        "outputId": "06d2b818-ebbb-41b6-b0d6-d07e85df2412"
      },
      "source": [
        "import nltk\n",
        "nltk.download('stopwords')"
      ],
      "execution_count": null,
      "outputs": [
        {
          "output_type": "stream",
          "name": "stdout",
          "text": [
            "[nltk_data] Downloading package stopwords to /root/nltk_data...\n",
            "[nltk_data]   Package stopwords is already up-to-date!\n"
          ]
        },
        {
          "output_type": "execute_result",
          "data": {
            "text/plain": [
              "True"
            ]
          },
          "metadata": {},
          "execution_count": 18
        }
      ]
    },
    {
      "cell_type": "code",
      "metadata": {
        "id": "NzSB3pNKrg0t"
      },
      "source": [
        "from nltk.stem.wordnet import WordNetLemmatizer\n",
        "from nltk import word_tokenize\n",
        "\n",
        "lemmatizer = WordNetLemmatizer()\n",
        "\n",
        "lm_X_train = []\n",
        "for s in pp_X_train:\n",
        "  sent = []\n",
        "  for word in word_tokenize(s):\n",
        "    sent.append(lemmatizer.lemmatize(word))\n",
        "  lm_X_train.append(\" \".join([i for i in sent]))"
      ],
      "execution_count": null,
      "outputs": []
    },
    {
      "cell_type": "code",
      "metadata": {
        "id": "WpRx5dz-25kj"
      },
      "source": [
        "lm_X_test = []\n",
        "for s in pp_X_test:\n",
        "  sent = []\n",
        "  for word in word_tokenize(s):\n",
        "    sent.append(lemmatizer.lemmatize(word))\n",
        "  lm_X_test.append(\" \".join([i for i in sent]))"
      ],
      "execution_count": null,
      "outputs": []
    },
    {
      "cell_type": "code",
      "metadata": {
        "colab": {
          "base_uri": "https://localhost:8080/"
        },
        "id": "rRavLOaitM9z",
        "outputId": "96697475-ea02-42df-9d1a-d95d1cd1d721"
      },
      "source": [
        "type(lm_X_train[0])"
      ],
      "execution_count": null,
      "outputs": [
        {
          "output_type": "execute_result",
          "data": {
            "text/plain": [
              "str"
            ]
          },
          "metadata": {},
          "execution_count": 20
        }
      ]
    },
    {
      "cell_type": "code",
      "metadata": {
        "id": "sZw8H1PusxLc"
      },
      "source": [
        "from nltk.stem import PorterStemmer\n",
        "stemmer = PorterStemmer()\n",
        "\n",
        "preprocessed_X_train = []\n",
        "for sentence in lm_X_train:\n",
        "    preprocessed_X_train.append(\" \".join([stemmer.stem(i) for i in sentence.split()])) "
      ],
      "execution_count": null,
      "outputs": []
    },
    {
      "cell_type": "code",
      "metadata": {
        "colab": {
          "base_uri": "https://localhost:8080/"
        },
        "id": "gJBMvCpqsSwR",
        "outputId": "625465de-4556-483a-bf7a-1550e9002d1b"
      },
      "source": [
        "type(preprocessed_X_train[0])"
      ],
      "execution_count": null,
      "outputs": [
        {
          "output_type": "execute_result",
          "data": {
            "text/plain": [
              "str"
            ]
          },
          "metadata": {},
          "execution_count": 22
        }
      ]
    },
    {
      "cell_type": "code",
      "metadata": {
        "id": "zAzr9ihb4fMI"
      },
      "source": [
        "from nltk.corpus import stopwords\n",
        "\n",
        "stop_words = set(stopwords.words('english'))\n",
        "stop_words.remove('not')\n",
        "stop_words.remove('but')\n",
        "\n",
        "final_X_train = []\n",
        "for sentence in lm_X_train:\n",
        "    final_X_train.append(\" \".join([words for words in sentence.split() if not words in stop_words]))"
      ],
      "execution_count": null,
      "outputs": []
    },
    {
      "cell_type": "code",
      "metadata": {
        "colab": {
          "base_uri": "https://localhost:8080/"
        },
        "id": "im31_VAr6sy8",
        "outputId": "3677d9e9-4a0e-4530-86ba-a285475b281f"
      },
      "source": [
        "len(final_X_train)"
      ],
      "execution_count": null,
      "outputs": [
        {
          "output_type": "execute_result",
          "data": {
            "text/plain": [
              "9000"
            ]
          },
          "metadata": {},
          "execution_count": 24
        }
      ]
    },
    {
      "cell_type": "code",
      "metadata": {
        "id": "HYOFH4pV3KVd"
      },
      "source": [
        "final_X_test = []\n",
        "for sentence in lm_X_test:\n",
        "    final_X_test.append(\" \".join([words for words in sentence.split() if not words in stop_words]))"
      ],
      "execution_count": null,
      "outputs": []
    },
    {
      "cell_type": "markdown",
      "metadata": {
        "id": "PkLiRtES_y-K"
      },
      "source": [
        "## **Glove Embedding**"
      ]
    },
    {
      "cell_type": "code",
      "metadata": {
        "colab": {
          "base_uri": "https://localhost:8080/"
        },
        "id": "fEt2TUBT50vT",
        "outputId": "bcb1af51-9fa1-414c-a597-e5db465e5369"
      },
      "source": [
        "import numpy as np\n",
        "# load the whole embedding into memory\n",
        "embeddings_index = dict()\n",
        "\n",
        "f = open('/content/drive/MyDrive/IISc_3rd_sem/DLNLP/Assignment_3/glove.6B.100d.txt')\n",
        "for line in f:\n",
        "  values = line.split()\n",
        "  word = values[0]\n",
        "  coefs = np.asarray(values[1:], dtype='float32')\n",
        "  embeddings_index[word] = coefs\n",
        "f.close()\n",
        "print('Loaded %s word vectors.'% len(embeddings_index))"
      ],
      "execution_count": null,
      "outputs": [
        {
          "output_type": "stream",
          "name": "stdout",
          "text": [
            "Loaded 400000 word vectors.\n"
          ]
        }
      ]
    },
    {
      "cell_type": "code",
      "metadata": {
        "colab": {
          "base_uri": "https://localhost:8080/"
        },
        "id": "2Reh1mVUouLK",
        "outputId": "9ed1a71c-567e-450f-8364-21125405dc81"
      },
      "source": [
        "print(embeddings_index['the'])"
      ],
      "execution_count": null,
      "outputs": [
        {
          "output_type": "stream",
          "name": "stdout",
          "text": [
            "[-0.038194 -0.24487   0.72812  -0.39961   0.083172  0.043953 -0.39141\n",
            "  0.3344   -0.57545   0.087459  0.28787  -0.06731   0.30906  -0.26384\n",
            " -0.13231  -0.20757   0.33395  -0.33848  -0.31743  -0.48336   0.1464\n",
            " -0.37304   0.34577   0.052041  0.44946  -0.46971   0.02628  -0.54155\n",
            " -0.15518  -0.14107  -0.039722  0.28277   0.14393   0.23464  -0.31021\n",
            "  0.086173  0.20397   0.52624   0.17164  -0.082378 -0.71787  -0.41531\n",
            "  0.20335  -0.12763   0.41367   0.55187   0.57908  -0.33477  -0.36559\n",
            " -0.54857  -0.062892  0.26584   0.30205   0.99775  -0.80481  -3.0243\n",
            "  0.01254  -0.36942   2.2167    0.72201  -0.24978   0.92136   0.034514\n",
            "  0.46745   1.1079   -0.19358  -0.074575  0.23353  -0.052062 -0.22044\n",
            "  0.057162 -0.15806  -0.30798  -0.41625   0.37972   0.15006  -0.53212\n",
            " -0.2055   -1.2526    0.071624  0.70565   0.49744  -0.42063   0.26148\n",
            " -1.538    -0.30223  -0.073438 -0.28312   0.37104  -0.25217   0.016215\n",
            " -0.017099 -0.38984   0.87424  -0.72569  -0.51058  -0.52028  -0.1459\n",
            "  0.8278    0.27062 ]\n"
          ]
        }
      ]
    },
    {
      "cell_type": "code",
      "metadata": {
        "colab": {
          "base_uri": "https://localhost:8080/"
        },
        "id": "JBE-T3dICTTY",
        "outputId": "cfc1a96b-22a4-4b9e-c206-d0d7d239f471"
      },
      "source": [
        "from tensorflow.keras.preprocessing.text import Tokenizer\n",
        "from tensorflow.keras.preprocessing.sequence import pad_sequences\n",
        "\n",
        "tokenizer_obj = Tokenizer()\n",
        "tokenizer_obj.fit_on_texts(lm_X_train)\n",
        "sequences = tokenizer_obj.texts_to_sequences(lm_X_train)\n",
        "\n",
        "#pad sequences\n",
        "word_index = tokenizer_obj.word_index\n",
        "print(\"number of unique tokens = \", len(word_index))\n",
        "\n",
        "max_len = max([len(s.split()) for s in lm_X_train])\n",
        "\n",
        "padded_sequences = pad_sequences(sequences, maxlen = max_len)\n",
        "#vocab_size = len(tokenizer_obj.word_index)+1"
      ],
      "execution_count": null,
      "outputs": [
        {
          "output_type": "stream",
          "name": "stdout",
          "text": [
            "number of unique tokens =  15183\n"
          ]
        }
      ]
    },
    {
      "cell_type": "code",
      "metadata": {
        "colab": {
          "base_uri": "https://localhost:8080/"
        },
        "id": "A-3I08nx3vUX",
        "outputId": "b9ef3958-80c9-413b-baed-6b872f294a24"
      },
      "source": [
        "tokenizer_obj.fit_on_texts(final_X_test)\n",
        "test_sequences = tokenizer_obj.texts_to_sequences(final_X_test)\n",
        "\n",
        "#pad sequences\n",
        "test_word_index = tokenizer_obj.word_index\n",
        "print(\"number of unique tokens = \", len(test_word_index))\n",
        "\n",
        "test_max_len = max([len(s.split()) for s in final_X_test])\n",
        "\n",
        "test_padded_sequences = pad_sequences(test_sequences, maxlen = test_max_len)\n",
        "#vocab_size = len(tokenizer_obj.word_index)+1"
      ],
      "execution_count": null,
      "outputs": [
        {
          "output_type": "stream",
          "name": "stdout",
          "text": [
            "number of unique tokens =  16335\n"
          ]
        }
      ]
    },
    {
      "cell_type": "code",
      "metadata": {
        "colab": {
          "base_uri": "https://localhost:8080/"
        },
        "id": "1GseQyB8vdzs",
        "outputId": "a4204dc7-f03e-4a79-f59f-0a3bf07df638"
      },
      "source": [
        "word_index['xxx']"
      ],
      "execution_count": null,
      "outputs": [
        {
          "output_type": "execute_result",
          "data": {
            "text/plain": [
              "1676"
            ]
          },
          "metadata": {},
          "execution_count": 28
        }
      ]
    },
    {
      "cell_type": "code",
      "metadata": {
        "colab": {
          "base_uri": "https://localhost:8080/"
        },
        "id": "zwcaonRdmub_",
        "outputId": "14a6c10f-36dd-4671-fd6e-3def3e76fb18"
      },
      "source": [
        "max_len"
      ],
      "execution_count": null,
      "outputs": [
        {
          "output_type": "execute_result",
          "data": {
            "text/plain": [
              "31"
            ]
          },
          "metadata": {},
          "execution_count": 29
        }
      ]
    },
    {
      "cell_type": "code",
      "metadata": {
        "id": "7GdoFhsGlZBd"
      },
      "source": [
        "num_words = len(word_index) + 1\n",
        "glove_matrix = np.zeros((num_words, 100))\n",
        "\n",
        "for word, i in word_index.items():\n",
        "  if i > num_words:\n",
        "    continue\n",
        "  glove_vector = embeddings_index.get(word)\n",
        "\n",
        "  \"\"\"if glove_vector is None:\n",
        "    print(word)\"\"\"\n",
        "\n",
        "  if glove_vector is not None:\n",
        "    glove_matrix[i] = glove_vector"
      ],
      "execution_count": null,
      "outputs": []
    },
    {
      "cell_type": "code",
      "metadata": {
        "colab": {
          "base_uri": "https://localhost:8080/"
        },
        "id": "Ne6q_VonBA87",
        "outputId": "ff7aded8-66fd-4bb8-d2bb-4df12e086070"
      },
      "source": [
        "glove_matrix[1791]"
      ],
      "execution_count": null,
      "outputs": [
        {
          "output_type": "execute_result",
          "data": {
            "text/plain": [
              "array([-3.39940004e-03,  5.16589999e-01,  6.48639977e-01, -4.14579988e-01,\n",
              "       -3.50059986e-01,  2.34390005e-01, -1.31390005e-01, -3.65469992e-01,\n",
              "        7.71539986e-01,  2.07020000e-01,  4.08880003e-02,  6.93970025e-01,\n",
              "       -4.73910004e-01, -6.16250001e-03,  4.10549998e-01,  8.14680010e-02,\n",
              "       -7.61810005e-01, -8.90360028e-02,  9.59190011e-01,  3.08910012e-01,\n",
              "        4.41740006e-01,  3.16489995e-01,  5.70309997e-01, -3.64520013e-01,\n",
              "        6.83329999e-02,  3.56319994e-02, -4.29100007e-01,  8.55709985e-02,\n",
              "       -3.60170007e-01, -2.84240007e-01, -2.01590002e-01, -2.15680003e-02,\n",
              "       -2.89669991e-01, -3.37909997e-01, -5.20850003e-01,  3.93020004e-01,\n",
              "       -1.82569996e-01, -5.90709984e-01,  2.22509995e-01, -5.40390015e-01,\n",
              "        6.79050028e-01,  3.55740011e-01, -5.22040009e-01,  1.06430002e-01,\n",
              "       -4.38279986e-01,  7.91099966e-02,  6.10360026e-01,  2.96480000e-01,\n",
              "       -1.50779998e-02, -4.58009988e-01,  2.69400001e-01,  9.00010020e-02,\n",
              "        5.91660023e-01, -1.66500002e-01, -3.47770005e-01,  1.91949993e-01,\n",
              "        5.87050021e-01,  1.32090002e-01, -5.29659986e-01, -5.22610009e-01,\n",
              "       -2.28269994e-01,  3.47689986e-01, -2.21070006e-01,  2.34830007e-02,\n",
              "        2.32529998e-01, -5.01439989e-01,  5.85889995e-01,  2.25610007e-02,\n",
              "       -5.92119992e-01, -4.95240003e-01, -6.14809990e-01, -4.44110006e-01,\n",
              "        4.86000001e-01,  2.47549996e-01, -3.76159996e-01, -2.12129995e-01,\n",
              "       -6.62949984e-04,  8.30669999e-02, -2.36149997e-01, -4.78810012e-01,\n",
              "       -4.38169986e-01, -8.88890028e-02,  1.46459997e-01,  2.69580007e-01,\n",
              "       -1.04050004e+00,  8.01199973e-01,  2.15939999e-01,  8.38370025e-02,\n",
              "       -2.46900007e-01, -8.59009996e-02,  2.53950000e-01,  6.76869988e-01,\n",
              "       -3.66719991e-01,  1.56000003e-01,  6.35519981e-01, -3.31900001e-01,\n",
              "       -6.97090030e-01, -3.01770002e-01, -5.08690000e-01,  8.22790027e-01])"
            ]
          },
          "metadata": {},
          "execution_count": 110
        }
      ]
    },
    {
      "cell_type": "code",
      "metadata": {
        "colab": {
          "base_uri": "https://localhost:8080/"
        },
        "id": "5_PWi5E3vUp3",
        "outputId": "0add831b-f7c6-4823-a32d-5caca0d2aed9"
      },
      "source": [
        "embeddings_index['xxx']"
      ],
      "execution_count": null,
      "outputs": [
        {
          "output_type": "execute_result",
          "data": {
            "text/plain": [
              "array([-0.3687  ,  0.41059 ,  1.565   , -0.1187  , -0.32459 ,  0.39897 ,\n",
              "        0.35587 , -0.17277 ,  0.38739 ,  0.51668 ,  0.090743,  0.23561 ,\n",
              "       -0.85961 , -0.50437 , -0.17357 ,  0.35341 ,  0.17042 , -0.299   ,\n",
              "       -0.5052  , -0.74482 ,  0.43591 , -0.38928 , -0.89028 ,  1.2465  ,\n",
              "        0.13994 , -0.30271 ,  0.58277 ,  0.33706 ,  0.36108 ,  0.14702 ,\n",
              "        0.51448 , -0.63922 ,  0.028113, -0.53355 , -0.45277 ,  0.13799 ,\n",
              "       -0.91906 ,  0.048266, -0.081248,  0.24234 ,  0.24568 ,  0.3748  ,\n",
              "       -0.72479 , -0.87584 ,  0.003958,  0.19572 , -1.151   , -0.22924 ,\n",
              "        0.11799 , -0.66704 ,  0.08724 ,  0.48058 ,  0.14039 , -0.18884 ,\n",
              "       -1.0674  , -0.051663, -0.16704 ,  0.27572 ,  0.25151 ,  0.48217 ,\n",
              "       -1.0164  ,  0.21111 , -0.27002 , -0.3216  ,  0.39403 ,  0.20284 ,\n",
              "        0.33473 ,  0.20013 , -0.25163 ,  0.65423 ,  0.76122 , -0.1537  ,\n",
              "       -0.52411 , -0.026835,  0.3317  ,  0.28225 ,  0.042049,  0.58157 ,\n",
              "       -0.41904 , -0.63762 , -0.79662 , -0.99222 , -0.22536 ,  0.24783 ,\n",
              "       -0.29843 ,  0.36125 , -0.3721  , -0.81558 , -0.035106,  0.10647 ,\n",
              "       -0.051978,  0.50529 , -0.43127 , -0.49167 , -0.01375 , -0.62282 ,\n",
              "        0.95813 , -0.5376  , -0.6886  ,  0.38651 ], dtype=float32)"
            ]
          },
          "metadata": {},
          "execution_count": 111
        }
      ]
    },
    {
      "cell_type": "code",
      "metadata": {
        "id": "s6XkfzhOxike"
      },
      "source": [
        "from keras.models import Sequential\n",
        "from keras.layer import Dense, Embedding, LSTM, GRU\n",
        "from keras.layes.embeddings import Embedding\n",
        "from keras.initializers import Constant\n",
        "\n",
        "model = Sequential()\n",
        "embedding_layer = Embedding(num_words,\n",
        "                            EMBEDDING_DIM,\n",
        "                            embeddings_initializer = Constant(embedding_matrix),\n",
        "                            input_length=max_length,\n",
        "                            trainable = False)\n",
        "\n",
        "model.add(embedding_layer)\n",
        "model.add(LSTM(units=32, dropout=0.2, recurrent_dropout = 0.2))\n",
        "model.add(Dense(1, activation = 'sigmoid'))\n",
        "\n",
        "model.compile(loss='binary_crossentropy', optimizer='adam', metrics=['accuracy'])"
      ],
      "execution_count": 1,
      "outputs": []
    },
    {
      "cell_type": "markdown",
      "metadata": {
        "id": "YkmzR8TExSXT"
      },
      "source": [
        "## **Word2Vec**"
      ]
    },
    {
      "cell_type": "code",
      "metadata": {
        "colab": {
          "base_uri": "https://localhost:8080/"
        },
        "id": "QHqZpptRvopp",
        "outputId": "f0af1ddf-01a6-4e48-e65d-696008ca66a5"
      },
      "source": [
        "import gensim.downloader\n",
        "\n",
        "print(list(gensim.downloader.info()['models'].keys()))"
      ],
      "execution_count": null,
      "outputs": [
        {
          "output_type": "stream",
          "name": "stdout",
          "text": [
            "['fasttext-wiki-news-subwords-300', 'conceptnet-numberbatch-17-06-300', 'word2vec-ruscorpora-300', 'word2vec-google-news-300', 'glove-wiki-gigaword-50', 'glove-wiki-gigaword-100', 'glove-wiki-gigaword-200', 'glove-wiki-gigaword-300', 'glove-twitter-25', 'glove-twitter-50', 'glove-twitter-100', 'glove-twitter-200', '__testing_word2vec-matrix-synopsis']\n"
          ]
        }
      ]
    },
    {
      "cell_type": "code",
      "metadata": {
        "colab": {
          "base_uri": "https://localhost:8080/"
        },
        "id": "mDVKr89mx_Ry",
        "outputId": "7e55e19a-f77b-45db-9846-f92a7eeba719"
      },
      "source": [
        "Word2Vec_model = gensim.downloader.load('word2vec-google-news-300')"
      ],
      "execution_count": null,
      "outputs": [
        {
          "output_type": "stream",
          "name": "stdout",
          "text": [
            "[==================================================] 100.0% 1662.8/1662.8MB downloaded\n"
          ]
        }
      ]
    },
    {
      "cell_type": "code",
      "metadata": {
        "id": "MeqEyL6o1vrD"
      },
      "source": [
        "import pickle\n",
        "w2v_embedding_dict = open(\"w2v_dict.pkl\", \"wb\")\n",
        "pickle.dump(Word2Vec_model, w2v_embedding_dict)\n",
        "w2v_embedding_dict.close()"
      ],
      "execution_count": null,
      "outputs": []
    },
    {
      "cell_type": "code",
      "metadata": {
        "id": "ppdstfnq6_J4"
      },
      "source": [
        "import pickle\n",
        "w2v_embed = open(\"/content/w2v_dict.pkl\", \"rb\")\n",
        "w2v_embed_dict = pickle.load(w2v_embed)"
      ],
      "execution_count": null,
      "outputs": []
    },
    {
      "cell_type": "code",
      "metadata": {
        "id": "7M7rVsizyfjU"
      },
      "source": [
        "word2vec_matrix = np.zeros((num_words, 300))\n",
        "count = 0\n",
        "for word, i in word_index.items():\n",
        "  if i > num_words:\n",
        "    continue\n",
        "\n",
        "  if word not in w2v_embed_dict.vocab:\n",
        "    count += 1\n",
        "    continue\n",
        "\n",
        "  word2vec_vector = w2v_embed_dict[word]\n",
        "\n",
        "  \"\"\"if glove_vector is None:\n",
        "    print(word)\"\"\"\n",
        "\n",
        "  if word2vec_vector is not None:\n",
        "    word2vec_matrix[i] = word2vec_vector"
      ],
      "execution_count": null,
      "outputs": []
    },
    {
      "cell_type": "code",
      "metadata": {
        "colab": {
          "base_uri": "https://localhost:8080/"
        },
        "id": "Qy92WIn_2cPM",
        "outputId": "bd5279a3-2000-4775-9e4e-4eb3f5e3d120"
      },
      "source": [
        "count"
      ],
      "execution_count": null,
      "outputs": [
        {
          "output_type": "execute_result",
          "data": {
            "text/plain": [
              "1617"
            ]
          },
          "metadata": {},
          "execution_count": 113
        }
      ]
    },
    {
      "cell_type": "markdown",
      "metadata": {
        "id": "9RT5AupR_F5q"
      },
      "source": [
        "## **FastText**"
      ]
    },
    {
      "cell_type": "code",
      "metadata": {
        "colab": {
          "base_uri": "https://localhost:8080/"
        },
        "id": "ULeRTcey-YWn",
        "outputId": "a51f1673-7bef-4e09-dbc1-5e7abbf73ae0"
      },
      "source": [
        "import gensim.downloader\n",
        "fastText_embed = gensim.downloader.load('fasttext-wiki-news-subwords-300')"
      ],
      "execution_count": null,
      "outputs": [
        {
          "output_type": "stream",
          "name": "stdout",
          "text": [
            "[==================================================] 100.0% 958.5/958.4MB downloaded\n"
          ]
        }
      ]
    },
    {
      "cell_type": "code",
      "metadata": {
        "id": "835wCLWI_Xs3"
      },
      "source": [
        "import pickle\n",
        "fastText_embedding_dict = open(\"fastText_dict.pkl\", \"wb\")\n",
        "pickle.dump(fastText_embed, fastText_embedding_dict)\n",
        "fastText_embedding_dict.close()"
      ],
      "execution_count": null,
      "outputs": []
    },
    {
      "cell_type": "code",
      "metadata": {
        "id": "JvP4JTSmDTxx"
      },
      "source": [
        "fastText_embed = open(\"/content/fastText_dict.pkl\", \"rb\")\n",
        "fastText_embed_dict = pickle.load(fastText_embed)"
      ],
      "execution_count": null,
      "outputs": []
    },
    {
      "cell_type": "code",
      "metadata": {
        "id": "dUTBIXaHDkjU"
      },
      "source": [
        "fastText_matrix = np.zeros((num_words, 300))\n",
        "count = 0\n",
        "for word, i in word_index.items():\n",
        "  if i > num_words:\n",
        "    continue\n",
        "\n",
        "  if word not in  fastText_embed_dict.vocab:\n",
        "    count += 1\n",
        "    continue\n",
        "\n",
        "  fastText_vector = fastText_embed_dict[word]\n",
        "\n",
        "  \"\"\"if glove_vector is None:\n",
        "    print(word)\"\"\"\n",
        "\n",
        "  if fastText_vector is not None:\n",
        "    fastText_matrix[i] = fastText_vector"
      ],
      "execution_count": null,
      "outputs": []
    },
    {
      "cell_type": "code",
      "metadata": {
        "id": "aFNvKiJsD6Ey",
        "colab": {
          "base_uri": "https://localhost:8080/"
        },
        "outputId": "fc1faf98-c5fa-495f-8389-da0a59042540"
      },
      "source": [
        "count"
      ],
      "execution_count": null,
      "outputs": [
        {
          "output_type": "execute_result",
          "data": {
            "text/plain": [
              "1153"
            ]
          },
          "metadata": {},
          "execution_count": 115
        }
      ]
    },
    {
      "cell_type": "code",
      "metadata": {
        "id": "XiB8RMLTkbdK"
      },
      "source": [
        ""
      ],
      "execution_count": null,
      "outputs": []
    },
    {
      "cell_type": "code",
      "metadata": {
        "id": "d1GiYAkkmUuH"
      },
      "source": [
        ""
      ],
      "execution_count": null,
      "outputs": []
    },
    {
      "cell_type": "code",
      "metadata": {
        "id": "4M3dW_ofmUxt"
      },
      "source": [
        "## This block is to create the embedding layer\n",
        "\n",
        "vocab_size = glove_matrix.shape[0]\n",
        "vector_size = glove_matrix.shape[1]\n",
        " \n",
        "embedding_glove = torch.nn.Embedding(num_embeddings = vocab_size,embedding_dim=vector_size)\n",
        "\n",
        "embedding_glove.weight = torch.nn.Parameter(torch.tensor(glove_matrix, dtype=torch.float32))"
      ],
      "execution_count": null,
      "outputs": []
    },
    {
      "cell_type": "code",
      "metadata": {
        "id": "cgjeiI1rmnnW"
      },
      "source": [
        "embedding_glove.weight.requires_grad=False"
      ],
      "execution_count": null,
      "outputs": []
    },
    {
      "cell_type": "code",
      "metadata": {
        "colab": {
          "base_uri": "https://localhost:8080/"
        },
        "id": "w6Pj5lQkmswD",
        "outputId": "90f99dcc-2d59-478f-9b35-c8e5517694b5"
      },
      "source": [
        "embedding_vec = embedding_glove(torch.LongTensor([[0,1]]))\n",
        "print(embedding_glove)\n",
        "print(embedding_vec.shape)"
      ],
      "execution_count": null,
      "outputs": [
        {
          "output_type": "stream",
          "name": "stdout",
          "text": [
            "Embedding(15184, 100)\n",
            "torch.Size([1, 2, 100])\n"
          ]
        }
      ]
    },
    {
      "cell_type": "code",
      "metadata": {
        "id": "uRWUrlqQmszs"
      },
      "source": [
        "vocab_size = word2vec_matrix.shape[0]\n",
        "vector_size = word2vec_matrix.shape[1]\n",
        " \n",
        "embedding_word2vec = nn.Embedding(num_embeddings = vocab_size, embedding_dim = vector_size)\n",
        "\n",
        "embedding_word2vec.weight=torch.nn.Parameter(torch.tensor(word2vec_matrix, dtype=torch.float32))"
      ],
      "execution_count": null,
      "outputs": []
    },
    {
      "cell_type": "code",
      "metadata": {
        "id": "xh2JUeXFnnE6"
      },
      "source": [
        "embedding_word2vec.weight.requires_grad = False"
      ],
      "execution_count": null,
      "outputs": []
    },
    {
      "cell_type": "code",
      "metadata": {
        "id": "F1rMKoFgnWv5"
      },
      "source": [
        "vocab_size = fastText_matrix.shape[0]\n",
        "vector_size = fastText_matrix.shape[1]\n",
        " \n",
        "embedding_fasttext = nn.Embedding(num_embeddings=vocab_size,embedding_dim=vector_size)\n",
        "\n",
        "embedding_fasttext.weight = torch.nn.Parameter(torch.tensor(fastText_matrix,dtype=torch.float32))"
      ],
      "execution_count": null,
      "outputs": []
    },
    {
      "cell_type": "code",
      "metadata": {
        "id": "ahobS8kXniuL"
      },
      "source": [
        "embedding_fasttext.weight.requires_grad = False"
      ],
      "execution_count": null,
      "outputs": []
    },
    {
      "cell_type": "code",
      "metadata": {
        "id": "UuqDR8-Xni22"
      },
      "source": [
        ""
      ],
      "execution_count": null,
      "outputs": []
    },
    {
      "cell_type": "code",
      "metadata": {
        "id": "dLqWLuMdnuel"
      },
      "source": [
        "\n",
        "class no_DME(torch.nn.Module):\n",
        "    def __init__(self , embedding_dim, hidden_dim):\n",
        "        super(no_DME, self).__init__()\n",
        "\n",
        "\n",
        "        ## Here we only have one embedding. We can choose embedding from 1. embedding_glove , 2. embedding_word2vec , 3. embedding_fasttext\n",
        "        self.embedding = embedding_word2vec\n",
        "\n",
        "        ## Now we will have a lstm to encode a sentence\n",
        "        self.lstm = nn.LSTM(embedding_dim , hidden_dim)\n",
        "\n",
        "        ### Add the below line if you want bidirectional model\n",
        "        ## self.lstm = nn.LSTM(embedding_dim , hidden_dim , bidirectional=bidirectional)\n",
        "\n",
        "        ## Now a FFNN which will Find the class of the sentence\n",
        "\n",
        "        ## I have 2 choices here 1. Taking the last layer of lstm as input which will represent the sentence\n",
        "        ## 2. Or i could take all the hidden stage output but if we are taking this then we will have to fix the \n",
        "        ## Length of the sentence. I could do it . Maybe if the performance for this is very low\n",
        "\n",
        "        self.linear_relu_stack = torch.nn.Sequential(\n",
        "            torch.nn.Linear(hidden_dim, 512),\n",
        "            torch.nn.ReLU(),\n",
        "            torch.nn.Linear(512, 1),\n",
        "            torch.nn.Sigmoid() ## So that this will give the probability of being label 1\n",
        "        )\n",
        "\n",
        "    ## x is a tensor representing a sentence. x could be in batches but i am taking it to be only 1 sentence\n",
        "    def forward(self, x):\n",
        "\n",
        "        ## First get the embedding from the embedding layer\n",
        "\n",
        "        first = self.embedding(x.long())\n",
        "\n",
        "        lstm_out, _ = self.lstm(first.view(len(x), 1, -1))\n",
        "        \n",
        "        ## print(\"shape of lstm_out = \" , lstm_out[-1][0].shape)\n",
        "\n",
        "        prob_of_label1 = self.linear_relu_stack(lstm_out[-1][0])\n",
        "\n",
        "        ## Let sentence_context is the output of lstm\n",
        "        return prob_of_label1\n"
      ],
      "execution_count": null,
      "outputs": []
    },
    {
      "cell_type": "code",
      "metadata": {
        "id": "JfwYWGnYnuns"
      },
      "source": [
        "## Making the architecture for Dynamic Meta Embedding\n",
        "class DME(torch.nn.Module):\n",
        "    def __init__(self , glove_embedding_dim , word2vec_embedding_dim , fasttext_embedding_dim , common_dim , hidden_dim):\n",
        "        super(DME, self).__init__()\n",
        "\n",
        "        ## These are the 3 embedding layers\n",
        "        ## See once its gradient is Freezed or not\n",
        "        self.embedding_glove_ = embedding_glove\n",
        "        self.embedding_word2vec_ = embedding_word2vec\n",
        "        self.embedding_fasttext_ = embedding_fasttext\n",
        "\n",
        "        ## Now they will pass through separate linear layers for themselves\n",
        "        self.linear1 = nn.Linear( glove_embedding_dim , common_dim )\n",
        "        self.linear2 = nn.Linear( word2vec_embedding_dim , common_dim )\n",
        "        self.linear3 = nn.Linear( fasttext_embedding_dim , common_dim )\n",
        "\n",
        "        ## Now they will pass through a single layer one by one\n",
        "        ## This will compute the attention to be given for each embedding\n",
        "\n",
        "        self.linear_sigmoid_stack = nn.Sequential(\n",
        "            nn.Linear( common_dim , 1 ),\n",
        "            nn.Sigmoid()\n",
        "        )\n",
        "  \n",
        "        ## Now we will have a lstm to encode a sentence\n",
        "        self.lstm = nn.LSTM(common_dim , hidden_dim , bidirectional = False) \n",
        "        ## Now a FFNN which will Find the class of the sentence\n",
        "\n",
        "        ## I have 2 choices here 1. Taking the last layer of lstm as input which will represent the sentence\n",
        "        ## 2. Or i could take all the hidden stage output but if we are taking this then we will have to fix the \n",
        "        ## Length of the sentence. I could do it . Maybe if the performance for this is very low\n",
        "\n",
        "        self.linear_relu_stack = torch.nn.Sequential(\n",
        "            torch.nn.Linear(hidden_dim, 512),\n",
        "            torch.nn.ReLU(),\n",
        "            torch.nn.Linear(512, 1),\n",
        "            torch.nn.Sigmoid() ## So that this will give the probability of being label 1\n",
        "        )\n",
        "\n",
        "\n",
        "        '''\n",
        "        Use this if 1 layer doesnot give proper output\n",
        "\n",
        "        self.linear_relu_stack = torch.nn.Sequential(\n",
        "            torch.nn.Linear(input_size, 512),\n",
        "            torch.nn.ReLU(),\n",
        "            torch.nn.Linear(512, 256),\n",
        "            torch.nn.ReLU(),\n",
        "            torch.nn.Linear(256, 3)\n",
        "        )\n",
        "        '''\n",
        "\n",
        "    ## x is a tensor representing a sentence. x could be in batches but i am taking it to be only 1 sentence\n",
        "    def forward(self, x):\n",
        "\n",
        "        ## First get the embedding from each embedding layer\n",
        "        ## If given in batches the embedding layer assumes the sequeneces should have equal length\n",
        "\n",
        "        ## Now i am assuming that i am giving input one sequence only\n",
        "\n",
        "        first = self.embedding_glove_(x.long())\n",
        "        second = self.embedding_word2vec_(x.long())\n",
        "        third = self.embedding_fasttext_(x.long())\n",
        "\n",
        "        '''\n",
        "        print(\"Shape of first = \" , first.shape)\n",
        "        print(\"Shape of second = \" , second.shape)\n",
        "        print(\"Shape of third = \" , third.shape)\n",
        "        '''\n",
        "\n",
        "        first_l = self.linear1(first)\n",
        "        second_l = self.linear2(second)\n",
        "        third_l = self.linear3(third)\n",
        "\n",
        "        '''\n",
        "        print(\"Shape of first_l = \" , first_l.shape)\n",
        "        print(\"Shape of second_l = \" , second_l.shape)\n",
        "        print(\"Shape of third_l = \" , third_l.shape)\n",
        "        '''\n",
        "\n",
        "        ## Now that they are passed through the linear layer \n",
        "        ## It is slighlty tricky how i would apply a common layer to all\n",
        "\n",
        "        ## I will get here the sentence\n",
        "        ## Now how do i find the encoding of the \n",
        "        \n",
        "        attn1 = self.linear_sigmoid_stack(first_l)\n",
        "        attn2 = self.linear_sigmoid_stack(second_l)\n",
        "        attn3 = self.linear_sigmoid_stack(third_l)\n",
        "\n",
        "        '''\n",
        "        print(\"Shape of attn1 = \" , attn1.shape)\n",
        "        print(\"Shape of attn2 = \" , attn2.shape)\n",
        "        print(\"Shape of attn3 = \" , attn3.shape)\n",
        "        '''\n",
        "\n",
        "        ## I have done this assuming that the x contains only 1 string\n",
        "        ## For batches i have to change some things here\n",
        "\n",
        "        embed = torch.mul( first_l , attn1.view(len(attn1))[: , None] ) + torch.mul( second_l , attn2.view(len(attn2))[: , None] ) + torch.mul( third_l , attn3.view(len(attn3))[: , None] )\n",
        "\n",
        "        ## print(\"The shape of embed = \" , embed.shape)\n",
        "\n",
        "        ## Now this is the embedding of the sentence\n",
        "        ## Now i will pass the embed into the lstm\n",
        "        ## ANd will take only the last hidden output\n",
        "\n",
        "        lstm_out, _ = self.lstm(embed.view(len(x), 1, -1))\n",
        "        \n",
        "        ## print(\"shape of lstm_out = \" , lstm_out[-1][0].shape)\n",
        "\n",
        "        prob_of_label1 = self.linear_relu_stack(lstm_out[-1][0])\n",
        "\n",
        "        ## Let sentence_context is the output of lstm\n",
        "        return prob_of_label1"
      ],
      "execution_count": null,
      "outputs": []
    },
    {
      "cell_type": "code",
      "metadata": {
        "id": "892X7QrXoel9"
      },
      "source": [
        "## Parameters are - globe_embedding_dim , word2vec_embedding_dim , fasttext_embedding_dim , common_dim , hidden_dim\n",
        "import torch.optim as optim\n",
        "model = DME( 100 , 300 , 300 , 100 , 100 )\n",
        "\n",
        "loss_function = nn.BCELoss()\n",
        "\n",
        "optimizer = optim.Adam(model.parameters(), lr=0.001)"
      ],
      "execution_count": null,
      "outputs": []
    },
    {
      "cell_type": "code",
      "metadata": {
        "id": "Zr97JL4-oew1"
      },
      "source": [
        "## Run this code if doing the vanilla model\n",
        "import torch.optim as optim\n",
        "model = no_DME( 300 , 128 )\n",
        "\n",
        "loss_function = nn.BCELoss()\n",
        "\n",
        "optimizer = optim.Adam(model.parameters(), lr=0.001)"
      ],
      "execution_count": null,
      "outputs": []
    },
    {
      "cell_type": "code",
      "metadata": {
        "id": "h9cKnbygkc1f"
      },
      "source": [
        "# split the data into training set and the validation set\n",
        "\n",
        "\"\"\"validation_split = 0.2\n",
        "\n",
        "indices = np.arange(padded_sequences.shape[0])\n",
        "np.random.shuffle(indices)\n",
        "padded_sequences = padded_sequences[indices]\n",
        "labels =  np.array(y_train,dtype = np.int32)\n",
        "\n",
        "labels = labels[indices]\n",
        "\n",
        "\n",
        "classes = 2\n",
        "class_array = np.eye(classes)[labels]\n",
        "\n",
        "num_validation_samples = int(validation_split * padded_sequences.shape[0])\n",
        "\n",
        "X_train_pad = padded_sequences[:-num_validation_samples]\n",
        "y_train_final = class_array[:-num_validation_samples]\n",
        "X_validate_pad = padded_sequences[-num_validation_samples:]\n",
        "y_validate_final = class_array[-num_validation_samples:]\"\"\"\n",
        "\n",
        "from sklearn.utils import shuffle\n",
        "x_tr_seq, y_train = shuffle(padded_sequences, y_train)\n",
        "\n",
        "m = int(0.8*len(y_train))\n",
        "X_train_pad = x_tr_seq[:m]\n",
        "X_validate_pad = x_tr_seq[m:]\n",
        "y_validate_final = y_train[m:]\n",
        "y_train_final = y_train[:m]"
      ],
      "execution_count": null,
      "outputs": []
    },
    {
      "cell_type": "code",
      "metadata": {
        "id": "a4AUyRTsnufT",
        "colab": {
          "base_uri": "https://localhost:8080/"
        },
        "outputId": "034fe7e0-926d-4784-89e5-1b6d64b18a9f"
      },
      "source": [
        "print(X_validate_pad.shape)\n",
        "print(X_train_pad.shape)\n",
        "print(len(y_train_final))\n",
        "print(len(y_validate_final))"
      ],
      "execution_count": null,
      "outputs": [
        {
          "output_type": "stream",
          "name": "stdout",
          "text": [
            "(1800, 41)\n",
            "(7200, 41)\n",
            "7200\n",
            "1800\n"
          ]
        }
      ]
    },
    {
      "cell_type": "code",
      "metadata": {
        "id": "o3ZR48Q94me-"
      },
      "source": [
        ""
      ],
      "execution_count": null,
      "outputs": []
    },
    {
      "cell_type": "code",
      "metadata": {
        "id": "ZQOVt1Az4m4S"
      },
      "source": [
        ""
      ],
      "execution_count": null,
      "outputs": []
    },
    {
      "cell_type": "code",
      "metadata": {
        "id": "j96fhOlws88U"
      },
      "source": [
        ""
      ],
      "execution_count": null,
      "outputs": []
    },
    {
      "cell_type": "code",
      "metadata": {
        "id": "wslTphumofBz"
      },
      "source": [
        "train_data_tensor = torch.from_numpy(X_train_pad)\n",
        "validation_data_tensor = torch.from_numpy(X_validate_pad)\n",
        "\n",
        "train_label_tensor = torch.from_numpy(np.array(y_train_final))\n",
        "validation_label_tensor = torch.from_numpy(np.array(y_validate_final))"
      ],
      "execution_count": null,
      "outputs": []
    },
    {
      "cell_type": "code",
      "metadata": {
        "id": "_4u9ea4stIKs"
      },
      "source": [
        ""
      ],
      "execution_count": null,
      "outputs": []
    },
    {
      "cell_type": "code",
      "metadata": {
        "id": "AFc-nZ7O4u5v"
      },
      "source": [
        "test_data_tensor = torch.from_numpy((test_padded_sequences))\n",
        "test_label_tensor = torch.from_numpy(np.array(y_test))"
      ],
      "execution_count": null,
      "outputs": []
    },
    {
      "cell_type": "code",
      "metadata": {
        "id": "amSGH9LvtIx-"
      },
      "source": [
        "## It will take the dataset as list tensor input and the target as a tensor output and it'll compute the accuracy\n",
        "## Also returns the loss \n",
        "\n",
        "def accuracy(dataset , target):\n",
        "  total_loss = 0.0\n",
        "  correct = 0\n",
        "  for i in range(len(dataset)):\n",
        "    data_tensor = dataset[i]\n",
        "    label_tensor = target[i].view(1)\n",
        "\n",
        "    if (len(data_tensor) == 0):\n",
        "      if label_tensor.item() == 1:\n",
        "        correct = correct + 1\n",
        "      continue\n",
        "\n",
        "    with torch.no_grad():\n",
        "      pred = model(data_tensor)\n",
        "\n",
        "      ##print(pred.shape , label_tensor.shape)\n",
        "\n",
        "      if (pred >= 0.5 and label_tensor.item() == 1):\n",
        "        correct = correct + 1\n",
        "      \n",
        "      if (pred < 0.5 and label_tensor.item() == 0):\n",
        "        correct = correct + 1\n",
        "\n",
        "      loss = loss_function(pred , label_tensor.float())\n",
        "      total_loss = total_loss + loss.item()\n",
        "\n",
        "      if (i%500 == 0):\n",
        "        print(\"Loss at \" , i , \"th iteration is : \" , loss.item())\n",
        "  \n",
        "  return total_loss , correct / len(dataset)"
      ],
      "execution_count": null,
      "outputs": []
    },
    {
      "cell_type": "code",
      "metadata": {
        "colab": {
          "base_uri": "https://localhost:8080/"
        },
        "id": "tpIhm3PmtI1_",
        "outputId": "49af0aa1-edd2-47dd-a67e-9c97bf4e887a"
      },
      "source": [
        "epochs = 10\n",
        "\n",
        "training_loss = []\n",
        "validation_loss = []\n",
        "\n",
        "training_acc = []\n",
        "validation_acc = []\n",
        "\n",
        "test_acc = []\n",
        "test_loss = []\n",
        "\n",
        "for epoch in range(epochs):\n",
        "\n",
        "  loss_per_epoch = 0\n",
        "  print(\"Epoch \" , epoch , \" is starting...\")\n",
        "  print(\"__________________________________\")\n",
        "\n",
        "  ## Now i will try to feed each of the sentence into the \n",
        "  for i in range(len(train_data_tensor)):\n",
        "    data_tensor = train_data_tensor[i]\n",
        "    label_tensor = train_label_tensor[i].view(1)\n",
        "\n",
        "    model.zero_grad()\n",
        "\n",
        "    pred = model(data_tensor)\n",
        "\n",
        "    ##print(pred.shape , label_tensor.shape)\n",
        "\n",
        "    loss = loss_function(pred , label_tensor.float())\n",
        "    loss_per_epoch = loss_per_epoch + loss.item()\n",
        "\n",
        "    if (i%500 == 0):\n",
        "      print(\"Loss at \" , i , \"th iteration is : \" , loss.item())\n",
        "\n",
        "    loss.backward()\n",
        "    optimizer.step()\n",
        "\n",
        "  print(\"Total loss in this epoch is  = \" , loss_per_epoch)\n",
        "\n",
        "  val_loss , val_acc = accuracy( validation_data_tensor , validation_label_tensor )\n",
        "  validation_loss.append(val_loss)\n",
        "  validation_acc.append(val_acc)\n",
        "  train_loss , train_acc = accuracy( train_data_tensor , train_label_tensor )\n",
        "  training_loss.append(train_loss)\n",
        "  training_acc.append(train_acc)\n",
        "  \"\"\"tes_loss , tes_acc = accuracy( test_data_tensor , test_label_tensor )\n",
        "  test_loss.append(tes_loss)\n",
        "  test_acc.append(tes_acc)\"\"\""
      ],
      "execution_count": null,
      "outputs": [
        {
          "output_type": "stream",
          "name": "stdout",
          "text": [
            "Epoch  0  is starting...\n",
            "__________________________________\n",
            "Loss at  0 th iteration is :  0.6879064440727234\n",
            "Loss at  500 th iteration is :  0.8191784620285034\n",
            "Loss at  1000 th iteration is :  0.7234711050987244\n",
            "Loss at  1500 th iteration is :  0.7361924648284912\n",
            "Loss at  2000 th iteration is :  0.7187933921813965\n",
            "Loss at  2500 th iteration is :  0.6952921152114868\n",
            "Loss at  3000 th iteration is :  0.6876242160797119\n",
            "Loss at  3500 th iteration is :  0.6641831398010254\n",
            "Loss at  4000 th iteration is :  0.7196163535118103\n",
            "Loss at  4500 th iteration is :  0.7082860469818115\n",
            "Loss at  5000 th iteration is :  0.6884216070175171\n",
            "Loss at  5500 th iteration is :  0.7132075428962708\n",
            "Loss at  6000 th iteration is :  0.7121844291687012\n",
            "Loss at  6500 th iteration is :  0.6873313188552856\n",
            "Loss at  7000 th iteration is :  0.6890898942947388\n",
            "Total loss in this epoch is  =  5001.84615072608\n",
            "Loss at  0 th iteration is :  0.6911307573318481\n",
            "Loss at  500 th iteration is :  0.6906081438064575\n",
            "Loss at  1000 th iteration is :  0.6911380290985107\n",
            "Loss at  1500 th iteration is :  0.6910734176635742\n",
            "Loss at  0 th iteration is :  0.6894436478614807\n",
            "Loss at  500 th iteration is :  0.6951526999473572\n",
            "Loss at  1000 th iteration is :  0.6951576471328735\n",
            "Loss at  1500 th iteration is :  0.695380687713623\n",
            "Loss at  2000 th iteration is :  0.695248544216156\n",
            "Loss at  2500 th iteration is :  0.696025013923645\n",
            "Loss at  3000 th iteration is :  0.6955952048301697\n",
            "Loss at  3500 th iteration is :  0.6957104802131653\n",
            "Loss at  4000 th iteration is :  0.6951543092727661\n",
            "Loss at  4500 th iteration is :  0.6952245235443115\n",
            "Loss at  5000 th iteration is :  0.6952192783355713\n",
            "Loss at  5500 th iteration is :  0.6911143660545349\n",
            "Loss at  6000 th iteration is :  0.6952101588249207\n",
            "Loss at  6500 th iteration is :  0.6835951805114746\n",
            "Loss at  7000 th iteration is :  0.695190966129303\n",
            "Epoch  1  is starting...\n",
            "__________________________________\n",
            "Loss at  0 th iteration is :  0.6894436478614807\n",
            "Loss at  500 th iteration is :  0.750410795211792\n",
            "Loss at  1000 th iteration is :  0.7221876978874207\n",
            "Loss at  1500 th iteration is :  0.6995226144790649\n",
            "Loss at  2000 th iteration is :  0.6903407573699951\n",
            "Loss at  2500 th iteration is :  0.6857922673225403\n",
            "Loss at  3000 th iteration is :  0.6769554018974304\n",
            "Loss at  3500 th iteration is :  0.663842499256134\n",
            "Loss at  4000 th iteration is :  0.6933946013450623\n",
            "Loss at  4500 th iteration is :  0.6993806958198547\n",
            "Loss at  5000 th iteration is :  0.6833524107933044\n",
            "Loss at  5500 th iteration is :  0.7000398635864258\n",
            "Loss at  6000 th iteration is :  0.7071433663368225\n",
            "Loss at  6500 th iteration is :  0.6933770179748535\n",
            "Loss at  7000 th iteration is :  0.6578550338745117\n",
            "Total loss in this epoch is  =  4997.601966649294\n",
            "Loss at  0 th iteration is :  0.692164421081543\n",
            "Loss at  500 th iteration is :  0.690822422504425\n",
            "Loss at  1000 th iteration is :  0.6919741630554199\n",
            "Loss at  1500 th iteration is :  0.692176103591919\n",
            "Loss at  0 th iteration is :  0.6926306486129761\n",
            "Loss at  500 th iteration is :  0.6942448616027832\n",
            "Loss at  1000 th iteration is :  0.6965146660804749\n",
            "Loss at  1500 th iteration is :  0.6940299272537231\n",
            "Loss at  2000 th iteration is :  0.6944883465766907\n",
            "Loss at  2500 th iteration is :  0.6928690075874329\n",
            "Loss at  3000 th iteration is :  0.6973711252212524\n",
            "Loss at  3500 th iteration is :  0.6942503452301025\n",
            "Loss at  4000 th iteration is :  0.6943045258522034\n",
            "Loss at  4500 th iteration is :  0.6942758560180664\n",
            "Loss at  5000 th iteration is :  0.6952133178710938\n",
            "Loss at  5500 th iteration is :  0.6908915638923645\n",
            "Loss at  6000 th iteration is :  0.6942387819290161\n",
            "Loss at  6500 th iteration is :  0.6930270195007324\n",
            "Loss at  7000 th iteration is :  0.6942485570907593\n",
            "Epoch  2  is starting...\n",
            "__________________________________\n",
            "Loss at  0 th iteration is :  0.6926306486129761\n",
            "Loss at  500 th iteration is :  0.9436832666397095\n",
            "Loss at  1000 th iteration is :  0.7611795663833618\n",
            "Loss at  1500 th iteration is :  0.7128462195396423\n",
            "Loss at  2000 th iteration is :  0.7208403944969177\n",
            "Loss at  2500 th iteration is :  0.6821414232254028\n",
            "Loss at  3000 th iteration is :  0.6740569472312927\n",
            "Loss at  3500 th iteration is :  0.6503923535346985\n",
            "Loss at  4000 th iteration is :  0.7149799466133118\n",
            "Loss at  4500 th iteration is :  0.7149555087089539\n",
            "Loss at  5000 th iteration is :  0.6218371987342834\n",
            "Loss at  5500 th iteration is :  0.7128145694732666\n",
            "Loss at  6000 th iteration is :  0.7108375430107117\n",
            "Loss at  6500 th iteration is :  0.698455810546875\n",
            "Loss at  7000 th iteration is :  0.6791021823883057\n",
            "Total loss in this epoch is  =  5002.982347007841\n",
            "Loss at  0 th iteration is :  0.697503387928009\n",
            "Loss at  500 th iteration is :  0.6976308822631836\n",
            "Loss at  1000 th iteration is :  0.693705141544342\n",
            "Loss at  1500 th iteration is :  0.6948245763778687\n",
            "Loss at  0 th iteration is :  0.6939257979393005\n",
            "Loss at  500 th iteration is :  0.6908730864524841\n",
            "Loss at  1000 th iteration is :  0.6925855278968811\n",
            "Loss at  1500 th iteration is :  0.6909699440002441\n",
            "Loss at  2000 th iteration is :  0.691758394241333\n",
            "Loss at  2500 th iteration is :  0.6885514855384827\n",
            "Loss at  3000 th iteration is :  0.6925753951072693\n",
            "Loss at  3500 th iteration is :  0.6926230192184448\n",
            "Loss at  4000 th iteration is :  0.6926348209381104\n",
            "Loss at  4500 th iteration is :  0.6926354169845581\n",
            "Loss at  5000 th iteration is :  0.6926347017288208\n",
            "Loss at  5500 th iteration is :  0.6959676146507263\n",
            "Loss at  6000 th iteration is :  0.6924670934677124\n",
            "Loss at  6500 th iteration is :  0.6946220397949219\n",
            "Loss at  7000 th iteration is :  0.6926361322402954\n",
            "Epoch  3  is starting...\n",
            "__________________________________\n",
            "Loss at  0 th iteration is :  0.6939257979393005\n",
            "Loss at  500 th iteration is :  0.8827552199363708\n",
            "Loss at  1000 th iteration is :  0.8553969264030457\n",
            "Loss at  1500 th iteration is :  0.7169336080551147\n",
            "Loss at  2000 th iteration is :  0.6533671617507935\n",
            "Loss at  2500 th iteration is :  0.6860306262969971\n",
            "Loss at  3000 th iteration is :  0.6685492396354675\n",
            "Loss at  3500 th iteration is :  0.6453699469566345\n",
            "Loss at  4000 th iteration is :  0.7420735359191895\n",
            "Loss at  4500 th iteration is :  0.7345982193946838\n",
            "Loss at  5000 th iteration is :  0.6703081727027893\n",
            "Loss at  5500 th iteration is :  0.7189906239509583\n",
            "Loss at  6000 th iteration is :  0.7616289854049683\n",
            "Loss at  6500 th iteration is :  0.6975210905075073\n",
            "Loss at  7000 th iteration is :  0.6822097897529602\n",
            "Total loss in this epoch is  =  5002.442560896976\n",
            "Loss at  0 th iteration is :  0.7153204679489136\n",
            "Loss at  500 th iteration is :  0.6973730325698853\n",
            "Loss at  1000 th iteration is :  0.6772603988647461\n",
            "Loss at  1500 th iteration is :  0.6850428581237793\n",
            "Loss at  0 th iteration is :  0.6910586953163147\n",
            "Loss at  500 th iteration is :  0.6769684553146362\n",
            "Loss at  1000 th iteration is :  0.6791138648986816\n",
            "Loss at  1500 th iteration is :  0.694115400314331\n",
            "Loss at  2000 th iteration is :  0.7462102174758911\n",
            "Loss at  2500 th iteration is :  0.6888115406036377\n",
            "Loss at  3000 th iteration is :  0.6769986748695374\n",
            "Loss at  3500 th iteration is :  0.679210364818573\n",
            "Loss at  4000 th iteration is :  0.6773335337638855\n",
            "Loss at  4500 th iteration is :  0.6770330667495728\n",
            "Loss at  5000 th iteration is :  0.6865143775939941\n",
            "Loss at  5500 th iteration is :  0.7049869894981384\n",
            "Loss at  6000 th iteration is :  0.6829695701599121\n",
            "Loss at  6500 th iteration is :  0.7005000114440918\n",
            "Loss at  7000 th iteration is :  0.6985746026039124\n",
            "Epoch  4  is starting...\n",
            "__________________________________\n",
            "Loss at  0 th iteration is :  0.6910586953163147\n",
            "Loss at  500 th iteration is :  0.8246011734008789\n",
            "Loss at  1000 th iteration is :  0.7581571936607361\n",
            "Loss at  1500 th iteration is :  0.7247073650360107\n",
            "Loss at  2000 th iteration is :  0.9113529324531555\n",
            "Loss at  2500 th iteration is :  0.7034732103347778\n",
            "Loss at  3000 th iteration is :  0.6654093265533447\n",
            "Loss at  3500 th iteration is :  0.6144737005233765\n",
            "Loss at  4000 th iteration is :  0.7898755073547363\n",
            "Loss at  4500 th iteration is :  0.7104798555374146\n",
            "Loss at  5000 th iteration is :  0.6789875030517578\n",
            "Loss at  5500 th iteration is :  0.7732998728752136\n",
            "Loss at  6000 th iteration is :  0.8532407283782959\n",
            "Loss at  6500 th iteration is :  0.6901313066482544\n",
            "Loss at  7000 th iteration is :  0.7066773176193237\n",
            "Total loss in this epoch is  =  4988.768140383996\n",
            "Loss at  0 th iteration is :  0.7568121552467346\n",
            "Loss at  500 th iteration is :  0.6211943626403809\n",
            "Loss at  1000 th iteration is :  0.6793736815452576\n",
            "Loss at  1500 th iteration is :  0.6896401047706604\n",
            "Loss at  0 th iteration is :  0.6411705017089844\n",
            "Loss at  500 th iteration is :  0.6511666178703308\n",
            "Loss at  1000 th iteration is :  0.7545347809791565\n",
            "Loss at  1500 th iteration is :  0.7409653067588806\n",
            "Loss at  2000 th iteration is :  0.805330216884613\n",
            "Loss at  2500 th iteration is :  0.6901787519454956\n",
            "Loss at  3000 th iteration is :  0.6533663868904114\n",
            "Loss at  3500 th iteration is :  0.6509318351745605\n",
            "Loss at  4000 th iteration is :  0.6998395919799805\n",
            "Loss at  4500 th iteration is :  0.6847712993621826\n",
            "Loss at  5000 th iteration is :  0.7255534529685974\n",
            "Loss at  5500 th iteration is :  0.696946918964386\n",
            "Loss at  6000 th iteration is :  0.637744128704071\n",
            "Loss at  6500 th iteration is :  0.6637460589408875\n",
            "Loss at  7000 th iteration is :  0.7272025942802429\n",
            "Epoch  5  is starting...\n",
            "__________________________________\n",
            "Loss at  0 th iteration is :  0.6411705017089844\n",
            "Loss at  500 th iteration is :  0.6756095290184021\n",
            "Loss at  1000 th iteration is :  0.6989116072654724\n",
            "Loss at  1500 th iteration is :  0.7059558033943176\n",
            "Loss at  2000 th iteration is :  0.5915549397468567\n",
            "Loss at  2500 th iteration is :  0.7000247240066528\n",
            "Loss at  3000 th iteration is :  0.710594654083252\n",
            "Loss at  3500 th iteration is :  0.6830613613128662\n",
            "Loss at  4000 th iteration is :  0.7246673703193665\n",
            "Loss at  4500 th iteration is :  0.6955835819244385\n",
            "Loss at  5000 th iteration is :  0.6787521243095398\n",
            "Loss at  5500 th iteration is :  0.6648144721984863\n",
            "Loss at  6000 th iteration is :  0.7677175998687744\n",
            "Loss at  6500 th iteration is :  0.6633210778236389\n",
            "Loss at  7000 th iteration is :  0.6913312673568726\n",
            "Total loss in this epoch is  =  4995.942988693714\n",
            "Loss at  0 th iteration is :  0.7575938701629639\n",
            "Loss at  500 th iteration is :  0.7330001592636108\n",
            "Loss at  1000 th iteration is :  0.6359326243400574\n",
            "Loss at  1500 th iteration is :  0.7720755338668823\n",
            "Loss at  0 th iteration is :  0.6142293214797974\n",
            "Loss at  500 th iteration is :  0.6720591187477112\n",
            "Loss at  1000 th iteration is :  0.6808176040649414\n",
            "Loss at  1500 th iteration is :  0.8122606873512268\n",
            "Loss at  2000 th iteration is :  0.7538197636604309\n",
            "Loss at  2500 th iteration is :  0.6548112034797668\n",
            "Loss at  3000 th iteration is :  0.6807176470756531\n",
            "Loss at  3500 th iteration is :  0.7467480897903442\n",
            "Loss at  4000 th iteration is :  0.7462587356567383\n",
            "Loss at  4500 th iteration is :  0.7462397813796997\n",
            "Loss at  5000 th iteration is :  0.7470483183860779\n",
            "Loss at  5500 th iteration is :  0.583619236946106\n",
            "Loss at  6000 th iteration is :  0.6386286616325378\n",
            "Loss at  6500 th iteration is :  0.5823385715484619\n",
            "Loss at  7000 th iteration is :  0.7797086238861084\n",
            "Epoch  6  is starting...\n",
            "__________________________________\n",
            "Loss at  0 th iteration is :  0.6142293214797974\n",
            "Loss at  500 th iteration is :  0.6943485736846924\n",
            "Loss at  1000 th iteration is :  0.758274257183075\n",
            "Loss at  1500 th iteration is :  0.6704217791557312\n",
            "Loss at  2000 th iteration is :  0.2618243992328644\n",
            "Loss at  2500 th iteration is :  0.4341907203197479\n",
            "Loss at  3000 th iteration is :  0.668987512588501\n",
            "Loss at  3500 th iteration is :  0.6567631363868713\n",
            "Loss at  4000 th iteration is :  0.6745873689651489\n",
            "Loss at  4500 th iteration is :  0.668134331703186\n",
            "Loss at  5000 th iteration is :  0.7225387096405029\n",
            "Loss at  5500 th iteration is :  0.6919560432434082\n",
            "Loss at  6000 th iteration is :  0.7053620219230652\n",
            "Loss at  6500 th iteration is :  0.5824858546257019\n",
            "Loss at  7000 th iteration is :  0.6697410345077515\n",
            "Total loss in this epoch is  =  4977.446785971522\n",
            "Loss at  0 th iteration is :  0.8138233423233032\n",
            "Loss at  500 th iteration is :  0.7961808443069458\n",
            "Loss at  1000 th iteration is :  0.6447978019714355\n",
            "Loss at  1500 th iteration is :  0.6097844839096069\n",
            "Loss at  0 th iteration is :  0.54900723695755\n",
            "Loss at  500 th iteration is :  0.6515535116195679\n",
            "Loss at  1000 th iteration is :  0.6633729338645935\n",
            "Loss at  1500 th iteration is :  0.8889596462249756\n",
            "Loss at  2000 th iteration is :  0.8146814703941345\n",
            "Loss at  2500 th iteration is :  0.6333070993423462\n",
            "Loss at  3000 th iteration is :  0.703750491142273\n",
            "Loss at  3500 th iteration is :  0.7413207292556763\n",
            "Loss at  4000 th iteration is :  0.8433091044425964\n",
            "Loss at  4500 th iteration is :  0.7374926209449768\n",
            "Loss at  5000 th iteration is :  0.8121848702430725\n",
            "Loss at  5500 th iteration is :  0.6574788093566895\n",
            "Loss at  6000 th iteration is :  0.7191369533538818\n",
            "Loss at  6500 th iteration is :  0.5734502673149109\n",
            "Loss at  7000 th iteration is :  0.729431688785553\n",
            "Epoch  7  is starting...\n",
            "__________________________________\n",
            "Loss at  0 th iteration is :  0.54900723695755\n",
            "Loss at  500 th iteration is :  0.8901968002319336\n",
            "Loss at  1000 th iteration is :  0.8521909117698669\n",
            "Loss at  1500 th iteration is :  0.6414163708686829\n",
            "Loss at  2000 th iteration is :  0.15077762305736542\n",
            "Loss at  2500 th iteration is :  0.550807774066925\n",
            "Loss at  3000 th iteration is :  0.678714394569397\n",
            "Loss at  3500 th iteration is :  0.6602111458778381\n",
            "Loss at  4000 th iteration is :  0.6988718509674072\n",
            "Loss at  4500 th iteration is :  0.6851409077644348\n",
            "Loss at  5000 th iteration is :  0.7924510836601257\n",
            "Loss at  5500 th iteration is :  0.6684933304786682\n",
            "Loss at  6000 th iteration is :  0.5074108242988586\n",
            "Loss at  6500 th iteration is :  0.639491081237793\n",
            "Loss at  7000 th iteration is :  0.6655686497688293\n",
            "Total loss in this epoch is  =  4942.056082658448\n",
            "Loss at  0 th iteration is :  0.8161760568618774\n",
            "Loss at  500 th iteration is :  0.7718846201896667\n",
            "Loss at  1000 th iteration is :  0.6260473728179932\n",
            "Loss at  1500 th iteration is :  0.5281078219413757\n",
            "Loss at  0 th iteration is :  0.4434661269187927\n",
            "Loss at  500 th iteration is :  0.6282776594161987\n",
            "Loss at  1000 th iteration is :  0.7218604683876038\n",
            "Loss at  1500 th iteration is :  2.083503484725952\n",
            "Loss at  2000 th iteration is :  1.1137069463729858\n",
            "Loss at  2500 th iteration is :  0.8737608194351196\n",
            "Loss at  3000 th iteration is :  0.6951888203620911\n",
            "Loss at  3500 th iteration is :  0.6729865670204163\n",
            "Loss at  4000 th iteration is :  0.7795016169548035\n",
            "Loss at  4500 th iteration is :  0.8218033909797668\n",
            "Loss at  5000 th iteration is :  0.6658807992935181\n",
            "Loss at  5500 th iteration is :  0.47993138432502747\n",
            "Loss at  6000 th iteration is :  0.6203427910804749\n",
            "Loss at  6500 th iteration is :  0.4922027587890625\n",
            "Loss at  7000 th iteration is :  0.7239382266998291\n",
            "Epoch  8  is starting...\n",
            "__________________________________\n",
            "Loss at  0 th iteration is :  0.4434661269187927\n",
            "Loss at  500 th iteration is :  0.7548550367355347\n",
            "Loss at  1000 th iteration is :  1.2414947748184204\n",
            "Loss at  1500 th iteration is :  0.4194622337818146\n",
            "Loss at  2000 th iteration is :  0.14545686542987823\n",
            "Loss at  2500 th iteration is :  0.6125514507293701\n",
            "Loss at  3000 th iteration is :  0.6705834269523621\n",
            "Loss at  3500 th iteration is :  0.6690201163291931\n",
            "Loss at  4000 th iteration is :  0.6986748576164246\n",
            "Loss at  4500 th iteration is :  0.6842608451843262\n",
            "Loss at  5000 th iteration is :  0.8187164068222046\n",
            "Loss at  5500 th iteration is :  0.583668053150177\n",
            "Loss at  6000 th iteration is :  0.4414684474468231\n",
            "Loss at  6500 th iteration is :  0.4711987376213074\n",
            "Loss at  7000 th iteration is :  0.7681941390037537\n",
            "Total loss in this epoch is  =  4933.784180503149\n",
            "Loss at  0 th iteration is :  0.7890481948852539\n",
            "Loss at  500 th iteration is :  0.760951817035675\n",
            "Loss at  1000 th iteration is :  0.6464904546737671\n",
            "Loss at  1500 th iteration is :  0.4104396104812622\n",
            "Loss at  0 th iteration is :  0.285460501909256\n",
            "Loss at  500 th iteration is :  0.6229095458984375\n",
            "Loss at  1000 th iteration is :  0.8215730786323547\n",
            "Loss at  1500 th iteration is :  1.7948278188705444\n",
            "Loss at  2000 th iteration is :  1.2486577033996582\n",
            "Loss at  2500 th iteration is :  0.6669973731040955\n",
            "Loss at  3000 th iteration is :  0.7798317074775696\n",
            "Loss at  3500 th iteration is :  0.7806730270385742\n",
            "Loss at  4000 th iteration is :  0.8273591995239258\n",
            "Loss at  4500 th iteration is :  0.8140003681182861\n",
            "Loss at  5000 th iteration is :  0.7272160053253174\n",
            "Loss at  5500 th iteration is :  0.5894963145256042\n",
            "Loss at  6000 th iteration is :  0.5773687362670898\n",
            "Loss at  6500 th iteration is :  0.40002259612083435\n",
            "Loss at  7000 th iteration is :  0.7793267965316772\n",
            "Epoch  9  is starting...\n",
            "__________________________________\n",
            "Loss at  0 th iteration is :  0.285460501909256\n",
            "Loss at  500 th iteration is :  0.7038471698760986\n",
            "Loss at  1000 th iteration is :  0.6900908946990967\n",
            "Loss at  1500 th iteration is :  0.5027721524238586\n",
            "Loss at  2000 th iteration is :  0.27890604734420776\n",
            "Loss at  2500 th iteration is :  0.6919480562210083\n",
            "Loss at  3000 th iteration is :  0.6869205236434937\n",
            "Loss at  3500 th iteration is :  0.6751106381416321\n",
            "Loss at  4000 th iteration is :  0.7258417010307312\n",
            "Loss at  4500 th iteration is :  0.6914156079292297\n",
            "Loss at  5000 th iteration is :  0.715787410736084\n",
            "Loss at  5500 th iteration is :  0.7107054591178894\n",
            "Loss at  6000 th iteration is :  0.3503650724887848\n",
            "Loss at  6500 th iteration is :  0.24221549928188324\n",
            "Loss at  7000 th iteration is :  0.6891122460365295\n",
            "Total loss in this epoch is  =  4880.3002413969025\n",
            "Loss at  0 th iteration is :  0.7945439219474792\n",
            "Loss at  500 th iteration is :  0.7980338931083679\n",
            "Loss at  1000 th iteration is :  0.6498140096664429\n",
            "Loss at  1500 th iteration is :  0.3284623920917511\n",
            "Loss at  0 th iteration is :  0.17175979912281036\n",
            "Loss at  500 th iteration is :  0.6344712972640991\n",
            "Loss at  1000 th iteration is :  0.6792726516723633\n",
            "Loss at  1500 th iteration is :  1.1881657838821411\n",
            "Loss at  2000 th iteration is :  1.0595488548278809\n",
            "Loss at  2500 th iteration is :  0.6701741814613342\n",
            "Loss at  3000 th iteration is :  0.6815060973167419\n",
            "Loss at  3500 th iteration is :  0.6688533425331116\n",
            "Loss at  4000 th iteration is :  0.7090229988098145\n",
            "Loss at  4500 th iteration is :  0.7037492990493774\n",
            "Loss at  5000 th iteration is :  0.8110790848731995\n",
            "Loss at  5500 th iteration is :  0.5140355825424194\n",
            "Loss at  6000 th iteration is :  0.5827754139900208\n",
            "Loss at  6500 th iteration is :  0.14565680921077728\n",
            "Loss at  7000 th iteration is :  0.768368124961853\n"
          ]
        }
      ]
    },
    {
      "cell_type": "code",
      "metadata": {
        "id": "ekr0uf1jtkPx"
      },
      "source": [
        "import matplotlib.pyplot as plt"
      ],
      "execution_count": null,
      "outputs": []
    },
    {
      "cell_type": "code",
      "metadata": {
        "colab": {
          "base_uri": "https://localhost:8080/",
          "height": 295
        },
        "id": "f8Laqp-txEha",
        "outputId": "988c5aba-e911-4a52-c7ca-9f0baa9cd605"
      },
      "source": [
        "loss_train = training_loss\n",
        "loss_val = validation_loss\n",
        "loss_test = test_loss\n",
        "\n",
        "epochs = range(1, 11)\n",
        "plt.plot(epochs, loss_train, 'g', label='Training loss')\n",
        "plt.plot(epochs, loss_val, 'b', label='validation loss')\n",
        "#plt.plot(epochs, loss_test , 'r' , label = 'Test loss')\n",
        "plt.title('Training and Validation loss')\n",
        "plt.xlabel('Epochs')\n",
        "plt.ylabel('Loss')\n",
        "plt.legend()\n",
        "plt.show()"
      ],
      "execution_count": null,
      "outputs": [
        {
          "output_type": "display_data",
          "data": {
            "image/png": "[encoded data removed]",
            "text/plain": [
              "<Figure size 432x288 with 1 Axes>"
            ]
          },
          "metadata": {
            "needs_background": "light"
          }
        }
      ]
    },
    {
      "cell_type": "code",
      "metadata": {
        "colab": {
          "base_uri": "https://localhost:8080/",
          "height": 295
        },
        "id": "ovhB0rdRxMJy",
        "outputId": "2ce2c6ee-3d01-47c2-adc9-0a074d6952fa"
      },
      "source": [
        "acc_train = training_acc\n",
        "acc_val = validation_acc\n",
        "acc_test = test_acc\n",
        "\n",
        "epochs = range(1,11)\n",
        "plt.plot(epochs, acc_train, 'g', label='Training Acc')\n",
        "plt.plot(epochs, acc_val, 'b', label='validation Acc')\n",
        "#plt.plot(epochs, acc_test, 'r' , label = 'Test Acc')\n",
        "plt.title('Training and Validation loss')\n",
        "plt.xlabel('Epochs')\n",
        "plt.ylabel('Accuracy')\n",
        "plt.legend()\n",
        "plt.show()"
      ],
      "execution_count": null,
      "outputs": [
        {
          "output_type": "display_data",
          "data": {
            "image/png": "[encoded data removed]",
            "text/plain": [
              "<Figure size 432x288 with 1 Axes>"
            ]
          },
          "metadata": {
            "needs_background": "light"
          }
        }
      ]
    },
    {
      "cell_type": "code",
      "metadata": {
        "colab": {
          "base_uri": "https://localhost:8080/"
        },
        "id": "1QH_nZXJxWCV",
        "outputId": "ba35e579-b1c5-4751-f771-1c10e1392909"
      },
      "source": [
        "print(accuracy( test_data_tensor , test_label_tensor ))"
      ],
      "execution_count": null,
      "outputs": [
        {
          "output_type": "stream",
          "name": "stdout",
          "text": [
            "Loss at  0 th iteration is :  0.8490163087844849\n",
            "Loss at  500 th iteration is :  0.8107059597969055\n",
            "Loss at  1000 th iteration is :  1.445365309715271\n",
            "Loss at  1500 th iteration is :  0.6460733413696289\n",
            "(1215.5463653504949, 0.4963898916967509)\n"
          ]
        }
      ]
    },
    {
      "cell_type": "code",
      "metadata": {
        "id": "1Lla-xWDLmzc"
      },
      "source": [
        "\n",
        "\n",
        "\n"
      ],
      "execution_count": null,
      "outputs": []
    }
  ]
}